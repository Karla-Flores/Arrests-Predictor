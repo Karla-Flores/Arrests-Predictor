{
 "cells": [
  {
   "cell_type": "markdown",
   "metadata": {
    "colab_type": "text",
    "id": "view-in-github"
   },
   "source": [
    "<a href=\"https://colab.research.google.com/github/Karla-Flores/Project-04/blob/main/Chicago_Crime.ipynb\" target=\"_parent\"><img src=\"https://colab.research.google.com/assets/colab-badge.svg\" alt=\"Open In Colab\"/></a>"
   ]
  },
  {
   "cell_type": "markdown",
   "metadata": {
    "id": "jZN5JUejZM9Z"
   },
   "source": [
    "\n",
    "# **Preprocessing**"
   ]
  },
  {
   "cell_type": "code",
   "execution_count": 5,
   "metadata": {
    "id": "-f8wn-tjZi4F"
   },
   "outputs": [],
   "source": [
    "# Import our dependencies\n",
    "from sklearn.model_selection import train_test_split\n",
    "from sklearn.preprocessing import StandardScaler\n",
    "from sklearn.linear_model import LogisticRegression\n",
    "from sklearn.metrics import classification_report\n",
    "# from sklearn.linear_model import SGDClassifier\n",
    "# import tensorflow as tf\n",
    "import matplotlib.pyplot as plt\n",
    "import pandas as pd"
   ]
  },
  {
   "cell_type": "code",
   "execution_count": 6,
   "metadata": {
    "colab": {
     "base_uri": "https://localhost:8080/",
     "height": 419
    },
    "id": "8QnexXhTgVUT",
    "outputId": "1f415da0-632f-4f5c-8270-4de889075a10"
   },
   "outputs": [
    {
     "data": {
      "text/html": [
       "<div>\n",
       "<style scoped>\n",
       "    .dataframe tbody tr th:only-of-type {\n",
       "        vertical-align: middle;\n",
       "    }\n",
       "\n",
       "    .dataframe tbody tr th {\n",
       "        vertical-align: top;\n",
       "    }\n",
       "\n",
       "    .dataframe thead th {\n",
       "        text-align: right;\n",
       "    }\n",
       "</style>\n",
       "<table border=\"1\" class=\"dataframe\">\n",
       "  <thead>\n",
       "    <tr style=\"text-align: right;\">\n",
       "      <th></th>\n",
       "      <th>Primary Type</th>\n",
       "      <th>Arrest</th>\n",
       "      <th>Domestic</th>\n",
       "      <th>Latitude</th>\n",
       "      <th>Longitude</th>\n",
       "      <th>Location Description</th>\n",
       "      <th>HOUR</th>\n",
       "      <th>SEASON</th>\n",
       "    </tr>\n",
       "  </thead>\n",
       "  <tbody>\n",
       "    <tr>\n",
       "      <th>0</th>\n",
       "      <td>BATTERY</td>\n",
       "      <td>False</td>\n",
       "      <td>True</td>\n",
       "      <td>41.815117</td>\n",
       "      <td>-87.670000</td>\n",
       "      <td>RESIDENCE</td>\n",
       "      <td>Afternoon</td>\n",
       "      <td>Autumn</td>\n",
       "    </tr>\n",
       "    <tr>\n",
       "      <th>1</th>\n",
       "      <td>THEFT</td>\n",
       "      <td>False</td>\n",
       "      <td>False</td>\n",
       "      <td>41.895080</td>\n",
       "      <td>-87.765400</td>\n",
       "      <td>CTA</td>\n",
       "      <td>Morning</td>\n",
       "      <td>Autumn</td>\n",
       "    </tr>\n",
       "    <tr>\n",
       "      <th>2</th>\n",
       "      <td>NARCOTICS</td>\n",
       "      <td>True</td>\n",
       "      <td>False</td>\n",
       "      <td>41.937406</td>\n",
       "      <td>-87.716650</td>\n",
       "      <td>PUBLIC OPEN SPACE</td>\n",
       "      <td>Afternoon</td>\n",
       "      <td>Autumn</td>\n",
       "    </tr>\n",
       "    <tr>\n",
       "      <th>3</th>\n",
       "      <td>ASSAULT</td>\n",
       "      <td>False</td>\n",
       "      <td>True</td>\n",
       "      <td>41.881903</td>\n",
       "      <td>-87.755121</td>\n",
       "      <td>RESIDENCE</td>\n",
       "      <td>Afternoon</td>\n",
       "      <td>Autumn</td>\n",
       "    </tr>\n",
       "    <tr>\n",
       "      <th>4</th>\n",
       "      <td>BURGLARY</td>\n",
       "      <td>False</td>\n",
       "      <td>False</td>\n",
       "      <td>41.744379</td>\n",
       "      <td>-87.658431</td>\n",
       "      <td>RESIDENCE</td>\n",
       "      <td>Morning</td>\n",
       "      <td>Autumn</td>\n",
       "    </tr>\n",
       "    <tr>\n",
       "      <th>5</th>\n",
       "      <td>BURGLARY</td>\n",
       "      <td>False</td>\n",
       "      <td>False</td>\n",
       "      <td>41.914636</td>\n",
       "      <td>-87.681631</td>\n",
       "      <td>RESIDENCE</td>\n",
       "      <td>Evening</td>\n",
       "      <td>Autumn</td>\n",
       "    </tr>\n",
       "    <tr>\n",
       "      <th>6</th>\n",
       "      <td>THEFT</td>\n",
       "      <td>True</td>\n",
       "      <td>False</td>\n",
       "      <td>41.851989</td>\n",
       "      <td>-87.689219</td>\n",
       "      <td>COMMERCIAL BUILDING</td>\n",
       "      <td>Afternoon</td>\n",
       "      <td>Autumn</td>\n",
       "    </tr>\n",
       "    <tr>\n",
       "      <th>7</th>\n",
       "      <td>ROBBERY</td>\n",
       "      <td>False</td>\n",
       "      <td>True</td>\n",
       "      <td>41.882814</td>\n",
       "      <td>-87.704326</td>\n",
       "      <td>PUBLIC OPEN SPACE</td>\n",
       "      <td>Morning</td>\n",
       "      <td>Autumn</td>\n",
       "    </tr>\n",
       "    <tr>\n",
       "      <th>8</th>\n",
       "      <td>THEFT</td>\n",
       "      <td>False</td>\n",
       "      <td>False</td>\n",
       "      <td>41.763648</td>\n",
       "      <td>-87.722345</td>\n",
       "      <td>PUBLIC OPEN SPACE</td>\n",
       "      <td>Afternoon</td>\n",
       "      <td>Autumn</td>\n",
       "    </tr>\n",
       "    <tr>\n",
       "      <th>9</th>\n",
       "      <td>BATTERY</td>\n",
       "      <td>False</td>\n",
       "      <td>False</td>\n",
       "      <td>41.975968</td>\n",
       "      <td>-87.768014</td>\n",
       "      <td>COMMERCIAL BUILDING</td>\n",
       "      <td>Morning</td>\n",
       "      <td>Autumn</td>\n",
       "    </tr>\n",
       "    <tr>\n",
       "      <th>10</th>\n",
       "      <td>OTHER OFFENSE</td>\n",
       "      <td>False</td>\n",
       "      <td>True</td>\n",
       "      <td>41.707155</td>\n",
       "      <td>-87.624245</td>\n",
       "      <td>RESIDENCE</td>\n",
       "      <td>Night</td>\n",
       "      <td>Autumn</td>\n",
       "    </tr>\n",
       "    <tr>\n",
       "      <th>11</th>\n",
       "      <td>BATTERY</td>\n",
       "      <td>False</td>\n",
       "      <td>True</td>\n",
       "      <td>41.809678</td>\n",
       "      <td>-87.593639</td>\n",
       "      <td>PUBLIC OPEN SPACE</td>\n",
       "      <td>Afternoon</td>\n",
       "      <td>Autumn</td>\n",
       "    </tr>\n",
       "    <tr>\n",
       "      <th>12</th>\n",
       "      <td>THEFT</td>\n",
       "      <td>False</td>\n",
       "      <td>False</td>\n",
       "      <td>41.907127</td>\n",
       "      <td>-87.678232</td>\n",
       "      <td>PUBLIC OPEN SPACE</td>\n",
       "      <td>Afternoon</td>\n",
       "      <td>Autumn</td>\n",
       "    </tr>\n",
       "    <tr>\n",
       "      <th>13</th>\n",
       "      <td>BATTERY</td>\n",
       "      <td>False</td>\n",
       "      <td>False</td>\n",
       "      <td>41.748097</td>\n",
       "      <td>-87.662166</td>\n",
       "      <td>RESIDENCE</td>\n",
       "      <td>Morning</td>\n",
       "      <td>Autumn</td>\n",
       "    </tr>\n",
       "    <tr>\n",
       "      <th>14</th>\n",
       "      <td>CRIMINAL DAMAGE</td>\n",
       "      <td>False</td>\n",
       "      <td>False</td>\n",
       "      <td>41.893870</td>\n",
       "      <td>-87.754341</td>\n",
       "      <td>PUBLIC OPEN SPACE</td>\n",
       "      <td>Afternoon</td>\n",
       "      <td>Autumn</td>\n",
       "    </tr>\n",
       "    <tr>\n",
       "      <th>15</th>\n",
       "      <td>BURGLARY</td>\n",
       "      <td>False</td>\n",
       "      <td>False</td>\n",
       "      <td>41.707490</td>\n",
       "      <td>-87.559650</td>\n",
       "      <td>OTHER</td>\n",
       "      <td>Night</td>\n",
       "      <td>Summer</td>\n",
       "    </tr>\n",
       "    <tr>\n",
       "      <th>16</th>\n",
       "      <td>BURGLARY</td>\n",
       "      <td>True</td>\n",
       "      <td>False</td>\n",
       "      <td>41.733174</td>\n",
       "      <td>-87.665421</td>\n",
       "      <td>RESIDENCE</td>\n",
       "      <td>Morning</td>\n",
       "      <td>Autumn</td>\n",
       "    </tr>\n",
       "    <tr>\n",
       "      <th>17</th>\n",
       "      <td>BATTERY</td>\n",
       "      <td>False</td>\n",
       "      <td>True</td>\n",
       "      <td>41.949430</td>\n",
       "      <td>-87.775436</td>\n",
       "      <td>PUBLIC OPEN SPACE</td>\n",
       "      <td>Afternoon</td>\n",
       "      <td>Autumn</td>\n",
       "    </tr>\n",
       "    <tr>\n",
       "      <th>18</th>\n",
       "      <td>CRIMINAL DAMAGE</td>\n",
       "      <td>False</td>\n",
       "      <td>False</td>\n",
       "      <td>41.713032</td>\n",
       "      <td>-87.536488</td>\n",
       "      <td>PUBLIC OPEN SPACE</td>\n",
       "      <td>Night</td>\n",
       "      <td>Autumn</td>\n",
       "    </tr>\n",
       "    <tr>\n",
       "      <th>19</th>\n",
       "      <td>CRIMINAL DAMAGE</td>\n",
       "      <td>False</td>\n",
       "      <td>False</td>\n",
       "      <td>41.972552</td>\n",
       "      <td>-87.751077</td>\n",
       "      <td>RESIDENCE</td>\n",
       "      <td>Night</td>\n",
       "      <td>Autumn</td>\n",
       "    </tr>\n",
       "  </tbody>\n",
       "</table>\n",
       "</div>"
      ],
      "text/plain": [
       "       Primary Type  Arrest  Domestic   Latitude  Longitude  \\\n",
       "0           BATTERY   False      True  41.815117 -87.670000   \n",
       "1             THEFT   False     False  41.895080 -87.765400   \n",
       "2         NARCOTICS    True     False  41.937406 -87.716650   \n",
       "3           ASSAULT   False      True  41.881903 -87.755121   \n",
       "4          BURGLARY   False     False  41.744379 -87.658431   \n",
       "5          BURGLARY   False     False  41.914636 -87.681631   \n",
       "6             THEFT    True     False  41.851989 -87.689219   \n",
       "7           ROBBERY   False      True  41.882814 -87.704326   \n",
       "8             THEFT   False     False  41.763648 -87.722345   \n",
       "9           BATTERY   False     False  41.975968 -87.768014   \n",
       "10    OTHER OFFENSE   False      True  41.707155 -87.624245   \n",
       "11          BATTERY   False      True  41.809678 -87.593639   \n",
       "12            THEFT   False     False  41.907127 -87.678232   \n",
       "13          BATTERY   False     False  41.748097 -87.662166   \n",
       "14  CRIMINAL DAMAGE   False     False  41.893870 -87.754341   \n",
       "15         BURGLARY   False     False  41.707490 -87.559650   \n",
       "16         BURGLARY    True     False  41.733174 -87.665421   \n",
       "17          BATTERY   False      True  41.949430 -87.775436   \n",
       "18  CRIMINAL DAMAGE   False     False  41.713032 -87.536488   \n",
       "19  CRIMINAL DAMAGE   False     False  41.972552 -87.751077   \n",
       "\n",
       "   Location Description       HOUR  SEASON  \n",
       "0             RESIDENCE  Afternoon  Autumn  \n",
       "1                   CTA    Morning  Autumn  \n",
       "2     PUBLIC OPEN SPACE  Afternoon  Autumn  \n",
       "3             RESIDENCE  Afternoon  Autumn  \n",
       "4             RESIDENCE    Morning  Autumn  \n",
       "5             RESIDENCE    Evening  Autumn  \n",
       "6   COMMERCIAL BUILDING  Afternoon  Autumn  \n",
       "7     PUBLIC OPEN SPACE    Morning  Autumn  \n",
       "8     PUBLIC OPEN SPACE  Afternoon  Autumn  \n",
       "9   COMMERCIAL BUILDING    Morning  Autumn  \n",
       "10            RESIDENCE      Night  Autumn  \n",
       "11    PUBLIC OPEN SPACE  Afternoon  Autumn  \n",
       "12    PUBLIC OPEN SPACE  Afternoon  Autumn  \n",
       "13            RESIDENCE    Morning  Autumn  \n",
       "14    PUBLIC OPEN SPACE  Afternoon  Autumn  \n",
       "15                OTHER      Night  Summer  \n",
       "16            RESIDENCE    Morning  Autumn  \n",
       "17    PUBLIC OPEN SPACE  Afternoon  Autumn  \n",
       "18    PUBLIC OPEN SPACE      Night  Autumn  \n",
       "19            RESIDENCE      Night  Autumn  "
      ]
     },
     "execution_count": 6,
     "metadata": {},
     "output_type": "execute_result"
    }
   ],
   "source": [
    "# Uploading ETL file\n",
    "data = pd.read_csv('../Resources/chicago_crime_db.csv')\n",
    "data.head(20)"
   ]
  },
  {
   "cell_type": "code",
   "execution_count": 7,
   "metadata": {},
   "outputs": [
    {
     "data": {
      "text/plain": [
       "(6691918, 8)"
      ]
     },
     "execution_count": 7,
     "metadata": {},
     "output_type": "execute_result"
    }
   ],
   "source": [
    "data.shape"
   ]
  },
  {
   "cell_type": "code",
   "execution_count": 4,
   "metadata": {},
   "outputs": [
    {
     "data": {
      "text/plain": [
       "(66919, 8)"
      ]
     },
     "execution_count": 4,
     "metadata": {},
     "output_type": "execute_result"
    }
   ],
   "source": [
    "# Return a random sample of items from an axis of object - Do NOT run!\n",
    "# data_ = data.sample(frac=0.01, random_state=1)\n",
    "# data_.reset_index(drop = True, inplace=True)\n",
    "# data_.shape"
   ]
  },
  {
   "cell_type": "code",
   "execution_count": 9,
   "metadata": {
    "id": "u50FzJxfrX4_"
   },
   "outputs": [
    {
     "data": {
      "text/html": [
       "<div>\n",
       "<style scoped>\n",
       "    .dataframe tbody tr th:only-of-type {\n",
       "        vertical-align: middle;\n",
       "    }\n",
       "\n",
       "    .dataframe tbody tr th {\n",
       "        vertical-align: top;\n",
       "    }\n",
       "\n",
       "    .dataframe thead th {\n",
       "        text-align: right;\n",
       "    }\n",
       "</style>\n",
       "<table border=\"1\" class=\"dataframe\">\n",
       "  <thead>\n",
       "    <tr style=\"text-align: right;\">\n",
       "      <th></th>\n",
       "      <th>Arrest</th>\n",
       "      <th>Domestic</th>\n",
       "      <th>Latitude</th>\n",
       "      <th>Longitude</th>\n",
       "      <th>Location Description_AIRPORT</th>\n",
       "      <th>Location Description_CHURCH</th>\n",
       "      <th>Location Description_COMMERCIAL BUILDING</th>\n",
       "      <th>Location Description_CTA</th>\n",
       "      <th>Location Description_EDUCATIONAL BUILDING</th>\n",
       "      <th>Location Description_FEDERAL PROPERTY</th>\n",
       "      <th>...</th>\n",
       "      <th>Primary Type_THEFT</th>\n",
       "      <th>Primary Type_WEAPONS VIOLATION</th>\n",
       "      <th>HOUR_Afternoon</th>\n",
       "      <th>HOUR_Evening</th>\n",
       "      <th>HOUR_Morning</th>\n",
       "      <th>HOUR_Night</th>\n",
       "      <th>SEASON_Autumn</th>\n",
       "      <th>SEASON_Spring</th>\n",
       "      <th>SEASON_Summer</th>\n",
       "      <th>SEASON_Winter</th>\n",
       "    </tr>\n",
       "  </thead>\n",
       "  <tbody>\n",
       "    <tr>\n",
       "      <th>0</th>\n",
       "      <td>False</td>\n",
       "      <td>True</td>\n",
       "      <td>41.815117</td>\n",
       "      <td>-87.670000</td>\n",
       "      <td>0.0</td>\n",
       "      <td>0.0</td>\n",
       "      <td>0.0</td>\n",
       "      <td>0.0</td>\n",
       "      <td>0.0</td>\n",
       "      <td>0.0</td>\n",
       "      <td>...</td>\n",
       "      <td>0.0</td>\n",
       "      <td>0.0</td>\n",
       "      <td>1.0</td>\n",
       "      <td>0.0</td>\n",
       "      <td>0.0</td>\n",
       "      <td>0.0</td>\n",
       "      <td>1.0</td>\n",
       "      <td>0.0</td>\n",
       "      <td>0.0</td>\n",
       "      <td>0.0</td>\n",
       "    </tr>\n",
       "    <tr>\n",
       "      <th>1</th>\n",
       "      <td>False</td>\n",
       "      <td>False</td>\n",
       "      <td>41.895080</td>\n",
       "      <td>-87.765400</td>\n",
       "      <td>0.0</td>\n",
       "      <td>0.0</td>\n",
       "      <td>0.0</td>\n",
       "      <td>1.0</td>\n",
       "      <td>0.0</td>\n",
       "      <td>0.0</td>\n",
       "      <td>...</td>\n",
       "      <td>1.0</td>\n",
       "      <td>0.0</td>\n",
       "      <td>0.0</td>\n",
       "      <td>0.0</td>\n",
       "      <td>1.0</td>\n",
       "      <td>0.0</td>\n",
       "      <td>1.0</td>\n",
       "      <td>0.0</td>\n",
       "      <td>0.0</td>\n",
       "      <td>0.0</td>\n",
       "    </tr>\n",
       "    <tr>\n",
       "      <th>2</th>\n",
       "      <td>True</td>\n",
       "      <td>False</td>\n",
       "      <td>41.937406</td>\n",
       "      <td>-87.716650</td>\n",
       "      <td>0.0</td>\n",
       "      <td>0.0</td>\n",
       "      <td>0.0</td>\n",
       "      <td>0.0</td>\n",
       "      <td>0.0</td>\n",
       "      <td>0.0</td>\n",
       "      <td>...</td>\n",
       "      <td>0.0</td>\n",
       "      <td>0.0</td>\n",
       "      <td>1.0</td>\n",
       "      <td>0.0</td>\n",
       "      <td>0.0</td>\n",
       "      <td>0.0</td>\n",
       "      <td>1.0</td>\n",
       "      <td>0.0</td>\n",
       "      <td>0.0</td>\n",
       "      <td>0.0</td>\n",
       "    </tr>\n",
       "    <tr>\n",
       "      <th>3</th>\n",
       "      <td>False</td>\n",
       "      <td>True</td>\n",
       "      <td>41.881903</td>\n",
       "      <td>-87.755121</td>\n",
       "      <td>0.0</td>\n",
       "      <td>0.0</td>\n",
       "      <td>0.0</td>\n",
       "      <td>0.0</td>\n",
       "      <td>0.0</td>\n",
       "      <td>0.0</td>\n",
       "      <td>...</td>\n",
       "      <td>0.0</td>\n",
       "      <td>0.0</td>\n",
       "      <td>1.0</td>\n",
       "      <td>0.0</td>\n",
       "      <td>0.0</td>\n",
       "      <td>0.0</td>\n",
       "      <td>1.0</td>\n",
       "      <td>0.0</td>\n",
       "      <td>0.0</td>\n",
       "      <td>0.0</td>\n",
       "    </tr>\n",
       "    <tr>\n",
       "      <th>4</th>\n",
       "      <td>False</td>\n",
       "      <td>False</td>\n",
       "      <td>41.744379</td>\n",
       "      <td>-87.658431</td>\n",
       "      <td>0.0</td>\n",
       "      <td>0.0</td>\n",
       "      <td>0.0</td>\n",
       "      <td>0.0</td>\n",
       "      <td>0.0</td>\n",
       "      <td>0.0</td>\n",
       "      <td>...</td>\n",
       "      <td>0.0</td>\n",
       "      <td>0.0</td>\n",
       "      <td>0.0</td>\n",
       "      <td>0.0</td>\n",
       "      <td>1.0</td>\n",
       "      <td>0.0</td>\n",
       "      <td>1.0</td>\n",
       "      <td>0.0</td>\n",
       "      <td>0.0</td>\n",
       "      <td>0.0</td>\n",
       "    </tr>\n",
       "  </tbody>\n",
       "</table>\n",
       "<p>5 rows × 52 columns</p>\n",
       "</div>"
      ],
      "text/plain": [
       "   Arrest  Domestic   Latitude  Longitude  Location Description_AIRPORT  \\\n",
       "0   False      True  41.815117 -87.670000                           0.0   \n",
       "1   False     False  41.895080 -87.765400                           0.0   \n",
       "2    True     False  41.937406 -87.716650                           0.0   \n",
       "3   False      True  41.881903 -87.755121                           0.0   \n",
       "4   False     False  41.744379 -87.658431                           0.0   \n",
       "\n",
       "   Location Description_CHURCH  Location Description_COMMERCIAL BUILDING  \\\n",
       "0                          0.0                                       0.0   \n",
       "1                          0.0                                       0.0   \n",
       "2                          0.0                                       0.0   \n",
       "3                          0.0                                       0.0   \n",
       "4                          0.0                                       0.0   \n",
       "\n",
       "   Location Description_CTA  Location Description_EDUCATIONAL BUILDING  \\\n",
       "0                       0.0                                        0.0   \n",
       "1                       1.0                                        0.0   \n",
       "2                       0.0                                        0.0   \n",
       "3                       0.0                                        0.0   \n",
       "4                       0.0                                        0.0   \n",
       "\n",
       "   Location Description_FEDERAL PROPERTY  ...  Primary Type_THEFT  \\\n",
       "0                                    0.0  ...                 0.0   \n",
       "1                                    0.0  ...                 1.0   \n",
       "2                                    0.0  ...                 0.0   \n",
       "3                                    0.0  ...                 0.0   \n",
       "4                                    0.0  ...                 0.0   \n",
       "\n",
       "   Primary Type_WEAPONS VIOLATION  HOUR_Afternoon  HOUR_Evening  HOUR_Morning  \\\n",
       "0                             0.0             1.0           0.0           0.0   \n",
       "1                             0.0             0.0           0.0           1.0   \n",
       "2                             0.0             1.0           0.0           0.0   \n",
       "3                             0.0             1.0           0.0           0.0   \n",
       "4                             0.0             0.0           0.0           1.0   \n",
       "\n",
       "   HOUR_Night  SEASON_Autumn  SEASON_Spring  SEASON_Summer  SEASON_Winter  \n",
       "0         0.0            1.0            0.0            0.0            0.0  \n",
       "1         0.0            1.0            0.0            0.0            0.0  \n",
       "2         0.0            1.0            0.0            0.0            0.0  \n",
       "3         0.0            1.0            0.0            0.0            0.0  \n",
       "4         0.0            1.0            0.0            0.0            0.0  \n",
       "\n",
       "[5 rows x 52 columns]"
      ]
     },
     "execution_count": 9,
     "metadata": {},
     "output_type": "execute_result"
    }
   ],
   "source": [
    "# Convert categorical data to numeric with `pd.get_dummies`\n",
    "data_dummies = pd.get_dummies(data, columns = ['Location Description', 'Primary Type', 'HOUR', 'SEASON'],dtype=float)\n",
    "data_dummies.head()"
   ]
  },
  {
   "cell_type": "code",
   "execution_count": 29,
   "metadata": {
    "id": "pWbUSV7lrArk"
   },
   "outputs": [],
   "source": [
    "# Split our preprocessed data into our features and target arrays\n",
    "y = data_dummies.Arrest\n",
    "X = data_dummies.drop('Arrest', axis=1)"
   ]
  },
  {
   "cell_type": "code",
   "execution_count": 30,
   "metadata": {},
   "outputs": [],
   "source": [
    "# Split the preprocessed data into a training and testing dataset\n",
    "X_train, X_test, y_train, y_test = train_test_split(X,y,random_state= 42)"
   ]
  },
  {
   "cell_type": "code",
   "execution_count": 31,
   "metadata": {},
   "outputs": [],
   "source": [
    "# Standardizing dataset so columns that contain larger values do not unduly influence the outcome\n",
    "scaler = StandardScaler().fit(X)\n",
    "X_train_scaled = scaler.transform(X_train)\n",
    "X_test_scaled = scaler.transform(X_test)"
   ]
  },
  {
   "cell_type": "markdown",
   "metadata": {},
   "source": [
    "# Logistic Regression"
   ]
  },
  {
   "cell_type": "code",
   "execution_count": 32,
   "metadata": {},
   "outputs": [
    {
     "name": "stdout",
     "output_type": "stream",
     "text": [
      "Training Score: 86.5546%\n",
      "Testing Score: 86.5703%\n"
     ]
    }
   ],
   "source": [
    "# Train the Logistic Regression model on the scaled data and print the model score\n",
    "model = LogisticRegression()\n",
    "model.fit(X_train_scaled, y_train)\n",
    "print(f'Training Score: {round(model.score(X_train_scaled, y_train)*100,4)}%')\n",
    "print(f'Testing Score: {round(model.score(X_test_scaled, y_test)*100,4)}%')"
   ]
  },
  {
   "cell_type": "code",
   "execution_count": 33,
   "metadata": {},
   "outputs": [
    {
     "data": {
      "image/png": "[encoded data removed]",
      "text/plain": [
       "<Figure size 432x288 with 2 Axes>"
      ]
     },
     "metadata": {
      "needs_background": "light"
     },
     "output_type": "display_data"
    }
   ],
   "source": [
    "# Confusion Matrix Display\n",
    "from sklearn.metrics import confusion_matrix, ConfusionMatrixDisplay\n",
    "predictions = model.predict(X_test_scaled)\n",
    "cm = confusion_matrix(y_test, predictions, labels=model.classes_)\n",
    "disp = ConfusionMatrixDisplay(confusion_matrix=cm, display_labels=model.classes_)\n",
    "disp.plot()\n",
    "\n",
    "plt.show()"
   ]
  },
  {
   "cell_type": "code",
   "execution_count": 34,
   "metadata": {},
   "outputs": [
    {
     "name": "stdout",
     "output_type": "stream",
     "text": [
      "              precision    recall  f1-score   support\n",
      "\n",
      "       False       0.85      0.97      0.91   1227727\n",
      "        True       0.88      0.51      0.64    445253\n",
      "\n",
      "    accuracy                           0.85   1672980\n",
      "   macro avg       0.86      0.74      0.78   1672980\n",
      "weighted avg       0.85      0.85      0.84   1672980\n",
      "\n"
     ]
    }
   ],
   "source": [
    "# Classification Report\n",
    "from sklearn.metrics import classification_report\n",
    "y_true = y_test\n",
    "y_pred = model.predict(X_test)\n",
    "print(classification_report(y_true, y_pred))"
   ]
  },
  {
   "cell_type": "markdown",
   "metadata": {
    "id": "axhT4mCrrPA-"
   },
   "source": [
    "# Random Forest Classifier"
   ]
  },
  {
   "cell_type": "code",
   "execution_count": 35,
   "metadata": {},
   "outputs": [
    {
     "name": "stdout",
     "output_type": "stream",
     "text": [
      "Training Score: 97.3305%\n",
      "Testing Score: 85.6102%\n"
     ]
    }
   ],
   "source": [
    "from sklearn.ensemble import RandomForestClassifier\n",
    "# Train the Random Forest classifier model on the scaled data and print the model score\n",
    "model = RandomForestClassifier(n_estimators=100, random_state=1)\n",
    "model.fit(X_train_scaled, y_train)\n",
    "\n",
    "print(f'Training Score: {round(model.score(X_train_scaled, y_train)*100,4)}%')\n",
    "print(f'Testing Score: {round(model.score(X_test_scaled, y_test)*100,4)}%')"
   ]
  },
  {
   "cell_type": "code",
   "execution_count": 36,
   "metadata": {},
   "outputs": [
    {
     "data": {
      "image/png": "[encoded data removed]",
      "text/plain": [
       "<Figure size 432x288 with 2 Axes>"
      ]
     },
     "metadata": {
      "needs_background": "light"
     },
     "output_type": "display_data"
    }
   ],
   "source": [
    "# Confusion Matrix Display\n",
    "from sklearn.metrics import confusion_matrix, ConfusionMatrixDisplay\n",
    "predictions = model.predict(X_test_scaled)\n",
    "cm = confusion_matrix(y_test, predictions, labels=model.classes_)\n",
    "disp = ConfusionMatrixDisplay(confusion_matrix=cm, display_labels=model.classes_)\n",
    "disp.plot()\n",
    "\n",
    "plt.show()"
   ]
  },
  {
   "cell_type": "code",
   "execution_count": 37,
   "metadata": {},
   "outputs": [
    {
     "name": "stdout",
     "output_type": "stream",
     "text": [
      "              precision    recall  f1-score   support\n",
      "\n",
      "       False       0.73      0.99      0.84   1227727\n",
      "        True       0.21      0.01      0.01    445253\n",
      "\n",
      "    accuracy                           0.73   1672980\n",
      "   macro avg       0.47      0.50      0.43   1672980\n",
      "weighted avg       0.59      0.73      0.62   1672980\n",
      "\n"
     ]
    }
   ],
   "source": [
    "# Classification Report\n",
    "from sklearn.metrics import classification_report\n",
    "y_true = y_test\n",
    "y_pred = model.predict(X_test)\n",
    "print(classification_report(y_true, y_pred))"
   ]
  }
 ],
 "metadata": {
  "colab": {
   "authorship_tag": "ABX9TyPooj7bFiQocFHDC0X3Oati",
   "include_colab_link": true,
   "name": "Chicago_Crime.ipynb",
   "provenance": []
  },
  "kernelspec": {
   "display_name": "Python 3",
   "language": "python",
   "name": "python3"
  },
  "language_info": {
   "codemirror_mode": {
    "name": "ipython",
    "version": 3
   },
   "file_extension": ".py",
   "mimetype": "text/x-python",
   "name": "python",
   "nbconvert_exporter": "python",
   "pygments_lexer": "ipython3",
   "version": "3.8.5"
  }
 },
 "nbformat": 4,
 "nbformat_minor": 4
}
