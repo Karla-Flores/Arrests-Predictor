{
  "nbformat": 4,
  "nbformat_minor": 0,
  "metadata": {
    "colab": {
      "name": "Chicago_Crime_nn.ipynb",
      "provenance": [],
      "collapsed_sections": [],
      "include_colab_link": true
    },
    "kernelspec": {
      "display_name": "Python 3",
      "language": "python",
      "name": "python3"
    },
    "language_info": {
      "codemirror_mode": {
        "name": "ipython",
        "version": 3
      },
      "file_extension": ".py",
      "mimetype": "text/x-python",
      "name": "python",
      "nbconvert_exporter": "python",
      "pygments_lexer": "ipython3",
      "version": "3.8.5"
    }
  },
  "cells": [
    {
      "cell_type": "markdown",
      "metadata": {
        "id": "view-in-github",
        "colab_type": "text"
      },
      "source": [
        "<a href=\"https://colab.research.google.com/github/Karla-Flores/Project-04/blob/main/Model/Chicago_Crime_nn.ipynb\" target=\"_parent\"><img src=\"https://colab.research.google.com/assets/colab-badge.svg\" alt=\"Open In Colab\"/></a>"
      ]
    },
    {
      "cell_type": "markdown",
      "metadata": {
        "id": "jZN5JUejZM9Z"
      },
      "source": [
        "\n",
        "# **Preprocessing**"
      ]
    },
    {
      "cell_type": "code",
      "metadata": {
        "id": "-f8wn-tjZi4F"
      },
      "source": [
        "# Import our dependencies\n",
        "from sklearn.model_selection import train_test_split\n",
        "from sklearn.preprocessing import StandardScaler\n",
        "from sklearn.linear_model import LogisticRegression\n",
        "from sklearn.metrics import classification_report\n",
        "from sklearn.linear_model import SGDClassifier\n",
        "import tensorflow as tf\n",
        "import matplotlib.pyplot as plt\n",
        "import pandas as pd"
      ],
      "execution_count": 1,
      "outputs": []
    },
    {
      "cell_type": "code",
      "metadata": {
        "colab": {
          "resources": {
            "http://localhost:8080/nbextensions/google.colab/files.js": {
              "data": "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",
              "ok": true,
              "headers": [
                [
                  "content-type",
                  "application/javascript"
                ]
              ],
              "status": 200,
              "status_text": ""
            }
          },
          "base_uri": "https://localhost:8080/",
          "height": 73
        },
        "id": "R8C4djqRsxDH",
        "outputId": "33ff0676-8ae6-4a7e-8c12-ae931a7e491c"
      },
      "source": [
        "from google.colab import files\n",
        "uploaded = files.upload()"
      ],
      "execution_count": 2,
      "outputs": [
        {
          "output_type": "display_data",
          "data": {
            "text/html": [
              "\n",
              "     <input type=\"file\" id=\"files-facfa7d9-ffe0-4d55-a5a4-14e0d906a5e0\" name=\"files[]\" multiple disabled\n",
              "        style=\"border:none\" />\n",
              "     <output id=\"result-facfa7d9-ffe0-4d55-a5a4-14e0d906a5e0\">\n",
              "      Upload widget is only available when the cell has been executed in the\n",
              "      current browser session. Please rerun this cell to enable.\n",
              "      </output>\n",
              "      <script src=\"/nbextensions/google.colab/files.js\"></script> "
            ],
            "text/plain": [
              "<IPython.core.display.HTML object>"
            ]
          },
          "metadata": {}
        },
        {
          "output_type": "stream",
          "name": "stdout",
          "text": [
            "Saving chicago_crime_db.csv to chicago_crime_db.csv\n"
          ]
        }
      ]
    },
    {
      "cell_type": "code",
      "metadata": {
        "colab": {
          "base_uri": "https://localhost:8080/",
          "height": 206
        },
        "id": "8QnexXhTgVUT",
        "outputId": "262c2be1-e0a3-42bb-f12a-052d4fa334ed"
      },
      "source": [
        "# Uploading ETL file\n",
        "data = pd.read_csv('chicago_crime_db.csv')\n",
        "data.head(5)"
      ],
      "execution_count": 6,
      "outputs": [
        {
          "data": {
            "text/html": [
              "<div>\n",
              "<style scoped>\n",
              "    .dataframe tbody tr th:only-of-type {\n",
              "        vertical-align: middle;\n",
              "    }\n",
              "\n",
              "    .dataframe tbody tr th {\n",
              "        vertical-align: top;\n",
              "    }\n",
              "\n",
              "    .dataframe thead th {\n",
              "        text-align: right;\n",
              "    }\n",
              "</style>\n",
              "<table border=\"1\" class=\"dataframe\">\n",
              "  <thead>\n",
              "    <tr style=\"text-align: right;\">\n",
              "      <th></th>\n",
              "      <th>Primary Type</th>\n",
              "      <th>Arrest</th>\n",
              "      <th>Domestic</th>\n",
              "      <th>Latitude</th>\n",
              "      <th>Longitude</th>\n",
              "      <th>Location Description</th>\n",
              "      <th>HOUR</th>\n",
              "      <th>SEASON</th>\n",
              "    </tr>\n",
              "  </thead>\n",
              "  <tbody>\n",
              "    <tr>\n",
              "      <th>0</th>\n",
              "      <td>BATTERY</td>\n",
              "      <td>False</td>\n",
              "      <td>True</td>\n",
              "      <td>41.815117</td>\n",
              "      <td>-87.670000</td>\n",
              "      <td>RESIDENCE</td>\n",
              "      <td>Afternoon</td>\n",
              "      <td>Autumn</td>\n",
              "    </tr>\n",
              "    <tr>\n",
              "      <th>1</th>\n",
              "      <td>THEFT</td>\n",
              "      <td>False</td>\n",
              "      <td>False</td>\n",
              "      <td>41.895080</td>\n",
              "      <td>-87.765400</td>\n",
              "      <td>CTA</td>\n",
              "      <td>Morning</td>\n",
              "      <td>Autumn</td>\n",
              "    </tr>\n",
              "    <tr>\n",
              "      <th>2</th>\n",
              "      <td>NARCOTICS</td>\n",
              "      <td>True</td>\n",
              "      <td>False</td>\n",
              "      <td>41.937406</td>\n",
              "      <td>-87.716650</td>\n",
              "      <td>PUBLIC OPEN SPACE</td>\n",
              "      <td>Afternoon</td>\n",
              "      <td>Autumn</td>\n",
              "    </tr>\n",
              "    <tr>\n",
              "      <th>3</th>\n",
              "      <td>ASSAULT</td>\n",
              "      <td>False</td>\n",
              "      <td>True</td>\n",
              "      <td>41.881903</td>\n",
              "      <td>-87.755121</td>\n",
              "      <td>RESIDENCE</td>\n",
              "      <td>Afternoon</td>\n",
              "      <td>Autumn</td>\n",
              "    </tr>\n",
              "    <tr>\n",
              "      <th>4</th>\n",
              "      <td>BURGLARY</td>\n",
              "      <td>False</td>\n",
              "      <td>False</td>\n",
              "      <td>41.744379</td>\n",
              "      <td>-87.658431</td>\n",
              "      <td>RESIDENCE</td>\n",
              "      <td>Morning</td>\n",
              "      <td>Autumn</td>\n",
              "    </tr>\n",
              "  </tbody>\n",
              "</table>\n",
              "</div>"
            ],
            "text/plain": [
              "  Primary Type  Arrest  Domestic  ...  Location Description       HOUR  SEASON\n",
              "0      BATTERY   False      True  ...             RESIDENCE  Afternoon  Autumn\n",
              "1        THEFT   False     False  ...                   CTA    Morning  Autumn\n",
              "2    NARCOTICS    True     False  ...     PUBLIC OPEN SPACE  Afternoon  Autumn\n",
              "3      ASSAULT   False      True  ...             RESIDENCE  Afternoon  Autumn\n",
              "4     BURGLARY   False     False  ...             RESIDENCE    Morning  Autumn\n",
              "\n",
              "[5 rows x 8 columns]"
            ]
          },
          "execution_count": null,
          "metadata": {},
          "output_type": "execute_result"
        }
      ]
    },
    {
      "cell_type": "code",
      "metadata": {
        "colab": {
          "base_uri": "https://localhost:8080/"
        },
        "id": "lAGVISi_rlAv",
        "outputId": "fe056d46-f3f5-4691-bfd8-5014d08cca50"
      },
      "source": [
        "data.shape"
      ],
      "execution_count": 7,
      "outputs": [
        {
          "data": {
            "text/plain": [
              "(6691918, 8)"
            ]
          },
          "execution_count": null,
          "metadata": {},
          "output_type": "execute_result"
        }
      ]
    },
    {
      "cell_type": "code",
      "metadata": {
        "colab": {
          "base_uri": "https://localhost:8080/"
        },
        "id": "exUcKsr2rlAx",
        "outputId": "600b80f0-c88f-4e57-a757-7cd45acebc68"
      },
      "source": [
        "# Return a random sample of items from an axis of object - Do NOT run!\n",
        "sample_data = data.sample(frac=0.05, random_state=1)\n",
        "sample_data.shape"
      ],
      "execution_count": 8,
      "outputs": [
        {
          "data": {
            "text/plain": [
              "(334596, 8)"
            ]
          },
          "execution_count": null,
          "metadata": {},
          "output_type": "execute_result"
        }
      ]
    },
    {
      "cell_type": "code",
      "metadata": {
        "id": "u50FzJxfrX4_",
        "colab": {
          "base_uri": "https://localhost:8080/",
          "height": 278
        },
        "outputId": "724ee062-f11b-4469-c25f-fdf2e8aae3f1"
      },
      "source": [
        "# Convert categorical data to numeric with `pd.get_dummies`\n",
        "data_dummies = pd.get_dummies(sample_data, columns = ['Location Description', 'Primary Type', 'HOUR', 'SEASON'],dtype=float)\n",
        "data_dummies.head()"
      ],
      "execution_count": 9,
      "outputs": [
        {
          "data": {
            "text/html": [
              "<div>\n",
              "<style scoped>\n",
              "    .dataframe tbody tr th:only-of-type {\n",
              "        vertical-align: middle;\n",
              "    }\n",
              "\n",
              "    .dataframe tbody tr th {\n",
              "        vertical-align: top;\n",
              "    }\n",
              "\n",
              "    .dataframe thead th {\n",
              "        text-align: right;\n",
              "    }\n",
              "</style>\n",
              "<table border=\"1\" class=\"dataframe\">\n",
              "  <thead>\n",
              "    <tr style=\"text-align: right;\">\n",
              "      <th></th>\n",
              "      <th>Arrest</th>\n",
              "      <th>Domestic</th>\n",
              "      <th>Latitude</th>\n",
              "      <th>Longitude</th>\n",
              "      <th>Location Description_AIRPORT</th>\n",
              "      <th>Location Description_CHURCH</th>\n",
              "      <th>Location Description_COMMERCIAL BUILDING</th>\n",
              "      <th>Location Description_CTA</th>\n",
              "      <th>Location Description_EDUCATIONAL BUILDING</th>\n",
              "      <th>Location Description_FEDERAL PROPERTY</th>\n",
              "      <th>Location Description_HOSPITAL</th>\n",
              "      <th>Location Description_HOTEL</th>\n",
              "      <th>Location Description_OTHER</th>\n",
              "      <th>Location Description_PUBLIC ENTERTAINMENT</th>\n",
              "      <th>Location Description_PUBLIC OPEN SPACE</th>\n",
              "      <th>Location Description_RESIDENCE</th>\n",
              "      <th>Location Description_VEHICLE</th>\n",
              "      <th>Primary Type_ARSON</th>\n",
              "      <th>Primary Type_ASSAULT</th>\n",
              "      <th>Primary Type_BATTERY</th>\n",
              "      <th>Primary Type_BURGLARY</th>\n",
              "      <th>Primary Type_CRIM SEXUAL ASSAULT</th>\n",
              "      <th>Primary Type_CRIMINAL DAMAGE</th>\n",
              "      <th>Primary Type_CRIMINAL SEXUAL ASSAULT</th>\n",
              "      <th>Primary Type_CRIMINAL TRESPASS</th>\n",
              "      <th>Primary Type_DECEPTIVE PRACTICE</th>\n",
              "      <th>Primary Type_GAMBLING</th>\n",
              "      <th>Primary Type_HOMICIDE</th>\n",
              "      <th>Primary Type_INTERFERENCE WITH PUBLIC OFFICER</th>\n",
              "      <th>Primary Type_INTIMIDATION</th>\n",
              "      <th>Primary Type_KIDNAPPING</th>\n",
              "      <th>Primary Type_LIQUOR LAW VIOLATION</th>\n",
              "      <th>Primary Type_MOTOR VEHICLE THEFT</th>\n",
              "      <th>Primary Type_NARCOTICS</th>\n",
              "      <th>Primary Type_OFFENSE INVOLVING CHILDREN</th>\n",
              "      <th>Primary Type_OTHER</th>\n",
              "      <th>Primary Type_OTHER OFFENSE</th>\n",
              "      <th>Primary Type_PROSTITUTION</th>\n",
              "      <th>Primary Type_PUBLIC PEACE VIOLATION</th>\n",
              "      <th>Primary Type_ROBBERY</th>\n",
              "      <th>Primary Type_SEX OFFENSE</th>\n",
              "      <th>Primary Type_STALKING</th>\n",
              "      <th>Primary Type_THEFT</th>\n",
              "      <th>Primary Type_WEAPONS VIOLATION</th>\n",
              "      <th>HOUR_Afternoon</th>\n",
              "      <th>HOUR_Evening</th>\n",
              "      <th>HOUR_Morning</th>\n",
              "      <th>HOUR_Night</th>\n",
              "      <th>SEASON_Autumn</th>\n",
              "      <th>SEASON_Spring</th>\n",
              "      <th>SEASON_Summer</th>\n",
              "      <th>SEASON_Winter</th>\n",
              "    </tr>\n",
              "  </thead>\n",
              "  <tbody>\n",
              "    <tr>\n",
              "      <th>4595971</th>\n",
              "      <td>True</td>\n",
              "      <td>False</td>\n",
              "      <td>41.808918</td>\n",
              "      <td>-87.604362</td>\n",
              "      <td>0.0</td>\n",
              "      <td>0.0</td>\n",
              "      <td>0.0</td>\n",
              "      <td>0.0</td>\n",
              "      <td>0.0</td>\n",
              "      <td>0.0</td>\n",
              "      <td>0.0</td>\n",
              "      <td>0.0</td>\n",
              "      <td>0.0</td>\n",
              "      <td>0.0</td>\n",
              "      <td>1.0</td>\n",
              "      <td>0.0</td>\n",
              "      <td>0.0</td>\n",
              "      <td>0.0</td>\n",
              "      <td>0.0</td>\n",
              "      <td>1.0</td>\n",
              "      <td>0.0</td>\n",
              "      <td>0.0</td>\n",
              "      <td>0.0</td>\n",
              "      <td>0.0</td>\n",
              "      <td>0.0</td>\n",
              "      <td>0.0</td>\n",
              "      <td>0.0</td>\n",
              "      <td>0.0</td>\n",
              "      <td>0.0</td>\n",
              "      <td>0.0</td>\n",
              "      <td>0.0</td>\n",
              "      <td>0.0</td>\n",
              "      <td>0.0</td>\n",
              "      <td>0.0</td>\n",
              "      <td>0.0</td>\n",
              "      <td>0.0</td>\n",
              "      <td>0.0</td>\n",
              "      <td>0.0</td>\n",
              "      <td>0.0</td>\n",
              "      <td>0.0</td>\n",
              "      <td>0.0</td>\n",
              "      <td>0.0</td>\n",
              "      <td>0.0</td>\n",
              "      <td>0.0</td>\n",
              "      <td>1.0</td>\n",
              "      <td>0.0</td>\n",
              "      <td>0.0</td>\n",
              "      <td>0.0</td>\n",
              "      <td>0.0</td>\n",
              "      <td>1.0</td>\n",
              "      <td>0.0</td>\n",
              "      <td>0.0</td>\n",
              "    </tr>\n",
              "    <tr>\n",
              "      <th>3944072</th>\n",
              "      <td>False</td>\n",
              "      <td>False</td>\n",
              "      <td>41.890977</td>\n",
              "      <td>-87.711301</td>\n",
              "      <td>0.0</td>\n",
              "      <td>0.0</td>\n",
              "      <td>0.0</td>\n",
              "      <td>0.0</td>\n",
              "      <td>0.0</td>\n",
              "      <td>0.0</td>\n",
              "      <td>0.0</td>\n",
              "      <td>0.0</td>\n",
              "      <td>0.0</td>\n",
              "      <td>0.0</td>\n",
              "      <td>1.0</td>\n",
              "      <td>0.0</td>\n",
              "      <td>0.0</td>\n",
              "      <td>0.0</td>\n",
              "      <td>0.0</td>\n",
              "      <td>0.0</td>\n",
              "      <td>0.0</td>\n",
              "      <td>0.0</td>\n",
              "      <td>0.0</td>\n",
              "      <td>0.0</td>\n",
              "      <td>0.0</td>\n",
              "      <td>0.0</td>\n",
              "      <td>0.0</td>\n",
              "      <td>0.0</td>\n",
              "      <td>0.0</td>\n",
              "      <td>0.0</td>\n",
              "      <td>0.0</td>\n",
              "      <td>0.0</td>\n",
              "      <td>1.0</td>\n",
              "      <td>0.0</td>\n",
              "      <td>0.0</td>\n",
              "      <td>0.0</td>\n",
              "      <td>0.0</td>\n",
              "      <td>0.0</td>\n",
              "      <td>0.0</td>\n",
              "      <td>0.0</td>\n",
              "      <td>0.0</td>\n",
              "      <td>0.0</td>\n",
              "      <td>0.0</td>\n",
              "      <td>0.0</td>\n",
              "      <td>1.0</td>\n",
              "      <td>0.0</td>\n",
              "      <td>0.0</td>\n",
              "      <td>0.0</td>\n",
              "      <td>0.0</td>\n",
              "      <td>1.0</td>\n",
              "      <td>0.0</td>\n",
              "      <td>0.0</td>\n",
              "    </tr>\n",
              "    <tr>\n",
              "      <th>1928585</th>\n",
              "      <td>False</td>\n",
              "      <td>False</td>\n",
              "      <td>41.806480</td>\n",
              "      <td>-87.752906</td>\n",
              "      <td>0.0</td>\n",
              "      <td>0.0</td>\n",
              "      <td>0.0</td>\n",
              "      <td>0.0</td>\n",
              "      <td>0.0</td>\n",
              "      <td>0.0</td>\n",
              "      <td>0.0</td>\n",
              "      <td>0.0</td>\n",
              "      <td>0.0</td>\n",
              "      <td>0.0</td>\n",
              "      <td>0.0</td>\n",
              "      <td>1.0</td>\n",
              "      <td>0.0</td>\n",
              "      <td>0.0</td>\n",
              "      <td>0.0</td>\n",
              "      <td>0.0</td>\n",
              "      <td>1.0</td>\n",
              "      <td>0.0</td>\n",
              "      <td>0.0</td>\n",
              "      <td>0.0</td>\n",
              "      <td>0.0</td>\n",
              "      <td>0.0</td>\n",
              "      <td>0.0</td>\n",
              "      <td>0.0</td>\n",
              "      <td>0.0</td>\n",
              "      <td>0.0</td>\n",
              "      <td>0.0</td>\n",
              "      <td>0.0</td>\n",
              "      <td>0.0</td>\n",
              "      <td>0.0</td>\n",
              "      <td>0.0</td>\n",
              "      <td>0.0</td>\n",
              "      <td>0.0</td>\n",
              "      <td>0.0</td>\n",
              "      <td>0.0</td>\n",
              "      <td>0.0</td>\n",
              "      <td>0.0</td>\n",
              "      <td>0.0</td>\n",
              "      <td>0.0</td>\n",
              "      <td>0.0</td>\n",
              "      <td>1.0</td>\n",
              "      <td>0.0</td>\n",
              "      <td>0.0</td>\n",
              "      <td>0.0</td>\n",
              "      <td>0.0</td>\n",
              "      <td>0.0</td>\n",
              "      <td>0.0</td>\n",
              "      <td>1.0</td>\n",
              "    </tr>\n",
              "    <tr>\n",
              "      <th>754949</th>\n",
              "      <td>False</td>\n",
              "      <td>False</td>\n",
              "      <td>41.868173</td>\n",
              "      <td>-87.632289</td>\n",
              "      <td>0.0</td>\n",
              "      <td>0.0</td>\n",
              "      <td>1.0</td>\n",
              "      <td>0.0</td>\n",
              "      <td>0.0</td>\n",
              "      <td>0.0</td>\n",
              "      <td>0.0</td>\n",
              "      <td>0.0</td>\n",
              "      <td>0.0</td>\n",
              "      <td>0.0</td>\n",
              "      <td>0.0</td>\n",
              "      <td>0.0</td>\n",
              "      <td>0.0</td>\n",
              "      <td>0.0</td>\n",
              "      <td>0.0</td>\n",
              "      <td>0.0</td>\n",
              "      <td>0.0</td>\n",
              "      <td>0.0</td>\n",
              "      <td>0.0</td>\n",
              "      <td>0.0</td>\n",
              "      <td>0.0</td>\n",
              "      <td>0.0</td>\n",
              "      <td>0.0</td>\n",
              "      <td>0.0</td>\n",
              "      <td>0.0</td>\n",
              "      <td>0.0</td>\n",
              "      <td>0.0</td>\n",
              "      <td>0.0</td>\n",
              "      <td>0.0</td>\n",
              "      <td>0.0</td>\n",
              "      <td>0.0</td>\n",
              "      <td>0.0</td>\n",
              "      <td>0.0</td>\n",
              "      <td>0.0</td>\n",
              "      <td>0.0</td>\n",
              "      <td>0.0</td>\n",
              "      <td>0.0</td>\n",
              "      <td>0.0</td>\n",
              "      <td>1.0</td>\n",
              "      <td>0.0</td>\n",
              "      <td>0.0</td>\n",
              "      <td>0.0</td>\n",
              "      <td>1.0</td>\n",
              "      <td>0.0</td>\n",
              "      <td>0.0</td>\n",
              "      <td>0.0</td>\n",
              "      <td>1.0</td>\n",
              "      <td>0.0</td>\n",
              "    </tr>\n",
              "    <tr>\n",
              "      <th>2246397</th>\n",
              "      <td>False</td>\n",
              "      <td>False</td>\n",
              "      <td>41.829515</td>\n",
              "      <td>-87.667932</td>\n",
              "      <td>0.0</td>\n",
              "      <td>0.0</td>\n",
              "      <td>0.0</td>\n",
              "      <td>0.0</td>\n",
              "      <td>0.0</td>\n",
              "      <td>0.0</td>\n",
              "      <td>0.0</td>\n",
              "      <td>0.0</td>\n",
              "      <td>0.0</td>\n",
              "      <td>0.0</td>\n",
              "      <td>1.0</td>\n",
              "      <td>0.0</td>\n",
              "      <td>0.0</td>\n",
              "      <td>0.0</td>\n",
              "      <td>0.0</td>\n",
              "      <td>0.0</td>\n",
              "      <td>0.0</td>\n",
              "      <td>0.0</td>\n",
              "      <td>0.0</td>\n",
              "      <td>0.0</td>\n",
              "      <td>0.0</td>\n",
              "      <td>0.0</td>\n",
              "      <td>0.0</td>\n",
              "      <td>0.0</td>\n",
              "      <td>0.0</td>\n",
              "      <td>0.0</td>\n",
              "      <td>0.0</td>\n",
              "      <td>0.0</td>\n",
              "      <td>0.0</td>\n",
              "      <td>0.0</td>\n",
              "      <td>0.0</td>\n",
              "      <td>0.0</td>\n",
              "      <td>0.0</td>\n",
              "      <td>0.0</td>\n",
              "      <td>0.0</td>\n",
              "      <td>0.0</td>\n",
              "      <td>0.0</td>\n",
              "      <td>0.0</td>\n",
              "      <td>1.0</td>\n",
              "      <td>0.0</td>\n",
              "      <td>0.0</td>\n",
              "      <td>0.0</td>\n",
              "      <td>1.0</td>\n",
              "      <td>0.0</td>\n",
              "      <td>1.0</td>\n",
              "      <td>0.0</td>\n",
              "      <td>0.0</td>\n",
              "      <td>0.0</td>\n",
              "    </tr>\n",
              "  </tbody>\n",
              "</table>\n",
              "</div>"
            ],
            "text/plain": [
              "         Arrest  Domestic  ...  SEASON_Summer  SEASON_Winter\n",
              "4595971    True     False  ...            0.0            0.0\n",
              "3944072   False     False  ...            0.0            0.0\n",
              "1928585   False     False  ...            0.0            1.0\n",
              "754949    False     False  ...            1.0            0.0\n",
              "2246397   False     False  ...            0.0            0.0\n",
              "\n",
              "[5 rows x 52 columns]"
            ]
          },
          "execution_count": null,
          "metadata": {},
          "output_type": "execute_result"
        }
      ]
    },
    {
      "cell_type": "code",
      "metadata": {
        "id": "pWbUSV7lrArk"
      },
      "source": [
        "# Split our preprocessed data into our features and target arrays\n",
        "y = data_dummies.Arrest\n",
        "X = data_dummies.drop('Arrest', axis=1)"
      ],
      "execution_count": 10,
      "outputs": []
    },
    {
      "cell_type": "code",
      "metadata": {
        "colab": {
          "base_uri": "https://localhost:8080/"
        },
        "id": "PtNJ_rXo6f2j",
        "outputId": "d1b46838-55b9-47ab-f973-f13b0877fa25"
      },
      "source": [
        "y.unique()"
      ],
      "execution_count": 11,
      "outputs": [
        {
          "data": {
            "text/plain": [
              "array([ True, False])"
            ]
          },
          "execution_count": null,
          "metadata": {},
          "output_type": "execute_result"
        }
      ]
    },
    {
      "cell_type": "code",
      "metadata": {
        "colab": {
          "base_uri": "https://localhost:8080/"
        },
        "id": "LFzgvGjX6o3s",
        "outputId": "3ef32508-210f-4b9b-a265-7775416283ae"
      },
      "source": [
        "len(X.columns)"
      ],
      "execution_count": 12,
      "outputs": [
        {
          "data": {
            "text/plain": [
              "51"
            ]
          },
          "execution_count": null,
          "metadata": {},
          "output_type": "execute_result"
        }
      ]
    },
    {
      "cell_type": "code",
      "metadata": {
        "id": "-J_5WtmPrlAy"
      },
      "source": [
        "# Split the preprocessed data into a training and testing dataset\n",
        "X_train, X_test, y_train, y_test = train_test_split(X,y,random_state= 42)"
      ],
      "execution_count": 13,
      "outputs": []
    },
    {
      "cell_type": "code",
      "metadata": {
        "id": "5pUu9ArlrlAz"
      },
      "source": [
        "# Standardizing dataset so columns that contain larger values do not unduly influence the outcome\n",
        "scaler = StandardScaler().fit(X)\n",
        "X_train_scaled = scaler.transform(X_train)\n",
        "X_test_scaled = scaler.transform(X_test)"
      ],
      "execution_count": 14,
      "outputs": []
    },
    {
      "cell_type": "markdown",
      "metadata": {
        "id": "axhT4mCrrPA-"
      },
      "source": [
        "# Neural Networks"
      ]
    },
    {
      "cell_type": "code",
      "metadata": {
        "colab": {
          "base_uri": "https://localhost:8080/"
        },
        "id": "333BnWJjurqu",
        "outputId": "2d37b6da-64ac-426a-d9a7-9201a28aa4d2"
      },
      "source": [
        "# Define the model - deep neural net, i.e., the number of input features and hidden nodes for each layer.\n",
        "\n",
        "\n",
        "nn = tf.keras.models.Sequential()\n",
        "\n",
        "# # First hidden layer\n",
        "nn.add(tf.keras.layers.Dense(units=70, activation=\"relu\", input_dim=51))\n",
        "\n",
        "# # Second hidden layer\n",
        "nn.add(tf.keras.layers.Dense(units=30, activation=\"relu\"))\n",
        "\n",
        "# # Third hidden layer\n",
        "# nn.add(tf.keras.layers.Dense(units=30, activation=\"relu\"))\n",
        "\n",
        "# # Output layer\n",
        "nn.add(tf.keras.layers.Dense(units=1, activation=\"sigmoid\"))\n",
        "\n",
        "# # Check the structure of the model\n",
        "nn.summary()"
      ],
      "execution_count": 15,
      "outputs": [
        {
          "metadata": {
            "tags": null
          },
          "name": "stdout",
          "output_type": "stream",
          "text": [
            "Model: \"sequential\"\n",
            "_________________________________________________________________\n",
            "Layer (type)                 Output Shape              Param #   \n",
            "=================================================================\n",
            "dense (Dense)                (None, 70)                3640      \n",
            "_________________________________________________________________\n",
            "dense_1 (Dense)              (None, 30)                2130      \n",
            "_________________________________________________________________\n",
            "dense_2 (Dense)              (None, 1)                 31        \n",
            "=================================================================\n",
            "Total params: 5,801\n",
            "Trainable params: 5,801\n",
            "Non-trainable params: 0\n",
            "_________________________________________________________________\n"
          ]
        }
      ]
    },
    {
      "cell_type": "code",
      "metadata": {
        "id": "09BkIs7cu-Zs"
      },
      "source": [
        "# Compile the model\n",
        "nn.compile(loss=\"binary_crossentropy\", optimizer=\"adam\", metrics=[\"accuracy\", tf.keras.metrics.Recall()])"
      ],
      "execution_count": 19,
      "outputs": []
    },
    {
      "cell_type": "code",
      "metadata": {
        "colab": {
          "base_uri": "https://localhost:8080/"
        },
        "id": "TH4TF0tzvBHV",
        "outputId": "fd1b843d-f850-40ad-a7de-ac7bf7f9f5a9"
      },
      "source": [
        "# Train the model\n",
        "fit_model = nn.fit(X_train_scaled, y_train, epochs=100)"
      ],
      "execution_count": 20,
      "outputs": [
        {
          "output_type": "stream",
          "name": "stdout",
          "text": [
            "Epoch 1/100\n",
            "7843/7843 [==============================] - 15s 2ms/step - loss: 0.3177 - accuracy: 0.8730 - recall: 0.5858\n",
            "Epoch 2/100\n",
            "7843/7843 [==============================] - 15s 2ms/step - loss: 0.3174 - accuracy: 0.8734 - recall: 0.5869\n",
            "Epoch 3/100\n",
            "7843/7843 [==============================] - 13s 2ms/step - loss: 0.3174 - accuracy: 0.8731 - recall: 0.5870\n",
            "Epoch 4/100\n",
            "7843/7843 [==============================] - 13s 2ms/step - loss: 0.3174 - accuracy: 0.8731 - recall: 0.5862\n",
            "Epoch 5/100\n",
            "7843/7843 [==============================] - 13s 2ms/step - loss: 0.3174 - accuracy: 0.8732 - recall: 0.5871\n",
            "Epoch 6/100\n",
            "7843/7843 [==============================] - 13s 2ms/step - loss: 0.3171 - accuracy: 0.8732 - recall: 0.5875\n",
            "Epoch 7/100\n",
            "7843/7843 [==============================] - 13s 2ms/step - loss: 0.3172 - accuracy: 0.8733 - recall: 0.5872\n",
            "Epoch 8/100\n",
            "7843/7843 [==============================] - 13s 2ms/step - loss: 0.3172 - accuracy: 0.8734 - recall: 0.5871\n",
            "Epoch 9/100\n",
            "7843/7843 [==============================] - 13s 2ms/step - loss: 0.3172 - accuracy: 0.8732 - recall: 0.5873\n",
            "Epoch 10/100\n",
            "7843/7843 [==============================] - 13s 2ms/step - loss: 0.3171 - accuracy: 0.8734 - recall: 0.5880\n",
            "Epoch 11/100\n",
            "7843/7843 [==============================] - 13s 2ms/step - loss: 0.3170 - accuracy: 0.8734 - recall: 0.5885\n",
            "Epoch 12/100\n",
            "7843/7843 [==============================] - 13s 2ms/step - loss: 0.3171 - accuracy: 0.8732 - recall: 0.5871\n",
            "Epoch 13/100\n",
            "7843/7843 [==============================] - 13s 2ms/step - loss: 0.3169 - accuracy: 0.8733 - recall: 0.5881\n",
            "Epoch 14/100\n",
            "7843/7843 [==============================] - 13s 2ms/step - loss: 0.3169 - accuracy: 0.8731 - recall: 0.5867\n",
            "Epoch 15/100\n",
            "7843/7843 [==============================] - 13s 2ms/step - loss: 0.3172 - accuracy: 0.8731 - recall: 0.5876\n",
            "Epoch 16/100\n",
            "7843/7843 [==============================] - 13s 2ms/step - loss: 0.3168 - accuracy: 0.8733 - recall: 0.5872\n",
            "Epoch 17/100\n",
            "7843/7843 [==============================] - 13s 2ms/step - loss: 0.3169 - accuracy: 0.8733 - recall: 0.5871\n",
            "Epoch 18/100\n",
            "7843/7843 [==============================] - 13s 2ms/step - loss: 0.3166 - accuracy: 0.8734 - recall: 0.5891\n",
            "Epoch 19/100\n",
            "7843/7843 [==============================] - 13s 2ms/step - loss: 0.3167 - accuracy: 0.8732 - recall: 0.5877\n",
            "Epoch 20/100\n",
            "7843/7843 [==============================] - 13s 2ms/step - loss: 0.3165 - accuracy: 0.8736 - recall: 0.5893\n",
            "Epoch 21/100\n",
            "7843/7843 [==============================] - 13s 2ms/step - loss: 0.3167 - accuracy: 0.8735 - recall: 0.5875\n",
            "Epoch 22/100\n",
            "7843/7843 [==============================] - 13s 2ms/step - loss: 0.3166 - accuracy: 0.8735 - recall: 0.5882\n",
            "Epoch 23/100\n",
            "7843/7843 [==============================] - 13s 2ms/step - loss: 0.3166 - accuracy: 0.8733 - recall: 0.5880\n",
            "Epoch 24/100\n",
            "7843/7843 [==============================] - 13s 2ms/step - loss: 0.3166 - accuracy: 0.8737 - recall: 0.5894\n",
            "Epoch 25/100\n",
            "7843/7843 [==============================] - 13s 2ms/step - loss: 0.3165 - accuracy: 0.8734 - recall: 0.5886\n",
            "Epoch 26/100\n",
            "7843/7843 [==============================] - 13s 2ms/step - loss: 0.3166 - accuracy: 0.8735 - recall: 0.5889\n",
            "Epoch 27/100\n",
            "7843/7843 [==============================] - 13s 2ms/step - loss: 0.3165 - accuracy: 0.8736 - recall: 0.5888\n",
            "Epoch 28/100\n",
            "7843/7843 [==============================] - 13s 2ms/step - loss: 0.3163 - accuracy: 0.8735 - recall: 0.5886\n",
            "Epoch 29/100\n",
            "7843/7843 [==============================] - 13s 2ms/step - loss: 0.3164 - accuracy: 0.8733 - recall: 0.5889\n",
            "Epoch 30/100\n",
            "7843/7843 [==============================] - 13s 2ms/step - loss: 0.3163 - accuracy: 0.8734 - recall: 0.5882\n",
            "Epoch 31/100\n",
            "7843/7843 [==============================] - 13s 2ms/step - loss: 0.3163 - accuracy: 0.8738 - recall: 0.5884\n",
            "Epoch 32/100\n",
            "7843/7843 [==============================] - 13s 2ms/step - loss: 0.3164 - accuracy: 0.8736 - recall: 0.5893\n",
            "Epoch 33/100\n",
            "7843/7843 [==============================] - 13s 2ms/step - loss: 0.3163 - accuracy: 0.8739 - recall: 0.5902\n",
            "Epoch 34/100\n",
            "7843/7843 [==============================] - 13s 2ms/step - loss: 0.3162 - accuracy: 0.8737 - recall: 0.5885\n",
            "Epoch 35/100\n",
            "7843/7843 [==============================] - 13s 2ms/step - loss: 0.3164 - accuracy: 0.8737 - recall: 0.5898\n",
            "Epoch 36/100\n",
            "7843/7843 [==============================] - 13s 2ms/step - loss: 0.3162 - accuracy: 0.8738 - recall: 0.5894\n",
            "Epoch 37/100\n",
            "7843/7843 [==============================] - 13s 2ms/step - loss: 0.3162 - accuracy: 0.8735 - recall: 0.5891\n",
            "Epoch 38/100\n",
            "7843/7843 [==============================] - 13s 2ms/step - loss: 0.3161 - accuracy: 0.8734 - recall: 0.5894\n",
            "Epoch 39/100\n",
            "7843/7843 [==============================] - 13s 2ms/step - loss: 0.3161 - accuracy: 0.8736 - recall: 0.5892\n",
            "Epoch 40/100\n",
            "7843/7843 [==============================] - 13s 2ms/step - loss: 0.3160 - accuracy: 0.8737 - recall: 0.5889\n",
            "Epoch 41/100\n",
            "7843/7843 [==============================] - 13s 2ms/step - loss: 0.3161 - accuracy: 0.8737 - recall: 0.5896\n",
            "Epoch 42/100\n",
            "7843/7843 [==============================] - 13s 2ms/step - loss: 0.3161 - accuracy: 0.8738 - recall: 0.5892\n",
            "Epoch 43/100\n",
            "7843/7843 [==============================] - 13s 2ms/step - loss: 0.3158 - accuracy: 0.8738 - recall: 0.5905\n",
            "Epoch 44/100\n",
            "7843/7843 [==============================] - 13s 2ms/step - loss: 0.3160 - accuracy: 0.8739 - recall: 0.5903\n",
            "Epoch 45/100\n",
            "7843/7843 [==============================] - 13s 2ms/step - loss: 0.3159 - accuracy: 0.8737 - recall: 0.5899\n",
            "Epoch 46/100\n",
            "7843/7843 [==============================] - 13s 2ms/step - loss: 0.3158 - accuracy: 0.8739 - recall: 0.5902\n",
            "Epoch 47/100\n",
            "7843/7843 [==============================] - 13s 2ms/step - loss: 0.3159 - accuracy: 0.8738 - recall: 0.5898\n",
            "Epoch 48/100\n",
            "7843/7843 [==============================] - 13s 2ms/step - loss: 0.3158 - accuracy: 0.8739 - recall: 0.5901\n",
            "Epoch 49/100\n",
            "7843/7843 [==============================] - 13s 2ms/step - loss: 0.3158 - accuracy: 0.8740 - recall: 0.5904\n",
            "Epoch 50/100\n",
            "7843/7843 [==============================] - 13s 2ms/step - loss: 0.3158 - accuracy: 0.8737 - recall: 0.5897\n",
            "Epoch 51/100\n",
            "7843/7843 [==============================] - 14s 2ms/step - loss: 0.3156 - accuracy: 0.8738 - recall: 0.5910\n",
            "Epoch 52/100\n",
            "7843/7843 [==============================] - 13s 2ms/step - loss: 0.3157 - accuracy: 0.8739 - recall: 0.5899\n",
            "Epoch 53/100\n",
            "7843/7843 [==============================] - 13s 2ms/step - loss: 0.3155 - accuracy: 0.8737 - recall: 0.5898\n",
            "Epoch 54/100\n",
            "7843/7843 [==============================] - 13s 2ms/step - loss: 0.3156 - accuracy: 0.8739 - recall: 0.5904\n",
            "Epoch 55/100\n",
            "7843/7843 [==============================] - 13s 2ms/step - loss: 0.3156 - accuracy: 0.8739 - recall: 0.5912\n",
            "Epoch 56/100\n",
            "7843/7843 [==============================] - 13s 2ms/step - loss: 0.3156 - accuracy: 0.8738 - recall: 0.5895\n",
            "Epoch 57/100\n",
            "7843/7843 [==============================] - 13s 2ms/step - loss: 0.3156 - accuracy: 0.8740 - recall: 0.5906\n",
            "Epoch 58/100\n",
            "7843/7843 [==============================] - 13s 2ms/step - loss: 0.3155 - accuracy: 0.8738 - recall: 0.5903\n",
            "Epoch 59/100\n",
            "7843/7843 [==============================] - 13s 2ms/step - loss: 0.3155 - accuracy: 0.8741 - recall: 0.5911\n",
            "Epoch 60/100\n",
            "7843/7843 [==============================] - 13s 2ms/step - loss: 0.3155 - accuracy: 0.8739 - recall: 0.5905\n",
            "Epoch 61/100\n",
            "7843/7843 [==============================] - 13s 2ms/step - loss: 0.3155 - accuracy: 0.8741 - recall: 0.5904\n",
            "Epoch 62/100\n",
            "7843/7843 [==============================] - 13s 2ms/step - loss: 0.3154 - accuracy: 0.8737 - recall: 0.5899\n",
            "Epoch 63/100\n",
            "7843/7843 [==============================] - 13s 2ms/step - loss: 0.3154 - accuracy: 0.8739 - recall: 0.5905\n",
            "Epoch 64/100\n",
            "7843/7843 [==============================] - 13s 2ms/step - loss: 0.3156 - accuracy: 0.8741 - recall: 0.5911\n",
            "Epoch 65/100\n",
            "7843/7843 [==============================] - 13s 2ms/step - loss: 0.3153 - accuracy: 0.8741 - recall: 0.5902\n",
            "Epoch 66/100\n",
            "7843/7843 [==============================] - 13s 2ms/step - loss: 0.3154 - accuracy: 0.8738 - recall: 0.5896\n",
            "Epoch 67/100\n",
            "7843/7843 [==============================] - 13s 2ms/step - loss: 0.3153 - accuracy: 0.8739 - recall: 0.5906\n",
            "Epoch 68/100\n",
            "7843/7843 [==============================] - 13s 2ms/step - loss: 0.3153 - accuracy: 0.8740 - recall: 0.5908\n",
            "Epoch 69/100\n",
            "7843/7843 [==============================] - 13s 2ms/step - loss: 0.3153 - accuracy: 0.8741 - recall: 0.5908\n",
            "Epoch 70/100\n",
            "7843/7843 [==============================] - 13s 2ms/step - loss: 0.3154 - accuracy: 0.8738 - recall: 0.5899\n",
            "Epoch 71/100\n",
            "7843/7843 [==============================] - 13s 2ms/step - loss: 0.3153 - accuracy: 0.8741 - recall: 0.5910\n",
            "Epoch 72/100\n",
            "7843/7843 [==============================] - 13s 2ms/step - loss: 0.3151 - accuracy: 0.8739 - recall: 0.5902\n",
            "Epoch 73/100\n",
            "7843/7843 [==============================] - 13s 2ms/step - loss: 0.3150 - accuracy: 0.8742 - recall: 0.5905\n",
            "Epoch 74/100\n",
            "7843/7843 [==============================] - 13s 2ms/step - loss: 0.3152 - accuracy: 0.8741 - recall: 0.5910\n",
            "Epoch 75/100\n",
            "7843/7843 [==============================] - 14s 2ms/step - loss: 0.3152 - accuracy: 0.8741 - recall: 0.5916\n",
            "Epoch 76/100\n",
            "7843/7843 [==============================] - 14s 2ms/step - loss: 0.3153 - accuracy: 0.8740 - recall: 0.5903\n",
            "Epoch 77/100\n",
            "7843/7843 [==============================] - 13s 2ms/step - loss: 0.3151 - accuracy: 0.8741 - recall: 0.5906\n",
            "Epoch 78/100\n",
            "7843/7843 [==============================] - 13s 2ms/step - loss: 0.3150 - accuracy: 0.8743 - recall: 0.5909\n",
            "Epoch 79/100\n",
            "7843/7843 [==============================] - 13s 2ms/step - loss: 0.3149 - accuracy: 0.8742 - recall: 0.5912\n",
            "Epoch 80/100\n",
            "7843/7843 [==============================] - 13s 2ms/step - loss: 0.3150 - accuracy: 0.8742 - recall: 0.5908\n",
            "Epoch 81/100\n",
            "7843/7843 [==============================] - 13s 2ms/step - loss: 0.3149 - accuracy: 0.8743 - recall: 0.5912\n",
            "Epoch 82/100\n",
            "7843/7843 [==============================] - 13s 2ms/step - loss: 0.3150 - accuracy: 0.8741 - recall: 0.5903\n",
            "Epoch 83/100\n",
            "7843/7843 [==============================] - 13s 2ms/step - loss: 0.3150 - accuracy: 0.8743 - recall: 0.5912\n",
            "Epoch 84/100\n",
            "7843/7843 [==============================] - 13s 2ms/step - loss: 0.3150 - accuracy: 0.8741 - recall: 0.5908\n",
            "Epoch 85/100\n",
            "7843/7843 [==============================] - 13s 2ms/step - loss: 0.3149 - accuracy: 0.8741 - recall: 0.5904\n",
            "Epoch 86/100\n",
            "7843/7843 [==============================] - 14s 2ms/step - loss: 0.3148 - accuracy: 0.8741 - recall: 0.5913\n",
            "Epoch 87/100\n",
            "7843/7843 [==============================] - 13s 2ms/step - loss: 0.3147 - accuracy: 0.8743 - recall: 0.5909\n",
            "Epoch 88/100\n",
            "7843/7843 [==============================] - 13s 2ms/step - loss: 0.3147 - accuracy: 0.8743 - recall: 0.5914\n",
            "Epoch 89/100\n",
            "7843/7843 [==============================] - 13s 2ms/step - loss: 0.3148 - accuracy: 0.8743 - recall: 0.5911\n",
            "Epoch 90/100\n",
            "7843/7843 [==============================] - 13s 2ms/step - loss: 0.3148 - accuracy: 0.8742 - recall: 0.5914\n",
            "Epoch 91/100\n",
            "7843/7843 [==============================] - 14s 2ms/step - loss: 0.3148 - accuracy: 0.8741 - recall: 0.5909\n",
            "Epoch 92/100\n",
            "7843/7843 [==============================] - 13s 2ms/step - loss: 0.3146 - accuracy: 0.8740 - recall: 0.5911\n",
            "Epoch 93/100\n",
            "7843/7843 [==============================] - 13s 2ms/step - loss: 0.3148 - accuracy: 0.8743 - recall: 0.5911\n",
            "Epoch 94/100\n",
            "7843/7843 [==============================] - 13s 2ms/step - loss: 0.3147 - accuracy: 0.8743 - recall: 0.5922\n",
            "Epoch 95/100\n",
            "7843/7843 [==============================] - 13s 2ms/step - loss: 0.3148 - accuracy: 0.8741 - recall: 0.5911\n",
            "Epoch 96/100\n",
            "7843/7843 [==============================] - 13s 2ms/step - loss: 0.3146 - accuracy: 0.8743 - recall: 0.5918\n",
            "Epoch 97/100\n",
            "7843/7843 [==============================] - 13s 2ms/step - loss: 0.3149 - accuracy: 0.8739 - recall: 0.5918\n",
            "Epoch 98/100\n",
            "7843/7843 [==============================] - 13s 2ms/step - loss: 0.3145 - accuracy: 0.8743 - recall: 0.5914\n",
            "Epoch 99/100\n",
            "7843/7843 [==============================] - 14s 2ms/step - loss: 0.3146 - accuracy: 0.8741 - recall: 0.5908\n",
            "Epoch 100/100\n",
            "7843/7843 [==============================] - 13s 2ms/step - loss: 0.3146 - accuracy: 0.8742 - recall: 0.5908\n"
          ]
        }
      ]
    },
    {
      "cell_type": "code",
      "metadata": {
        "colab": {
          "base_uri": "https://localhost:8080/"
        },
        "id": "EUj3LBiMvOrC",
        "outputId": "4a6f1a0d-807a-475a-f7f4-515207acd403"
      },
      "source": [
        "# Evaluate the model using the training data \n",
        "model_loss, model_accuracy, model_Recall = nn.evaluate(X_test_scaled, y_test, verbose=2)\n",
        "print(f\"Loss: {model_loss}, Accuracy: {model_accuracy}\")"
      ],
      "execution_count": 21,
      "outputs": [
        {
          "output_type": "stream",
          "name": "stdout",
          "text": [
            "2615/2615 - 3s - loss: 0.3380 - accuracy: 0.8691 - recall: 0.5847\n",
            "Loss: 0.33797240257263184, Accuracy: 0.8691317439079285\n"
          ]
        }
      ]
    },
    {
      "cell_type": "code",
      "metadata": {
        "id": "BCSFZF2crlA2"
      },
      "source": [
        "# import pickle\n",
        "# pickle.dump(model,open('../Model/rfc.sav','wb'))"
      ],
      "execution_count": 22,
      "outputs": []
    },
    {
      "cell_type": "code",
      "metadata": {
        "id": "S4rnaNc4rlA3"
      },
      "source": [
        "# import flask ...\n",
        "\n",
        "# model = pickle.load('rfc.sav')\n",
        "\n",
        "# @route('/api/parameters')\n",
        "# def api():\n",
        "#     parameters = request.get()\n",
        "#     results = model.predict(parameters)\n",
        "    \n",
        "#     return jsonify(results)"
      ],
      "execution_count": 23,
      "outputs": []
    },
    {
      "cell_type": "code",
      "metadata": {
        "id": "yYkZFlxdrlA4"
      },
      "source": [
        "# with open('../Model/rfc.sav','rb') as f:\n",
        "#     model = pickle.load(f)"
      ],
      "execution_count": 24,
      "outputs": []
    },
    {
      "cell_type": "code",
      "metadata": {
        "id": "8MvmsOArrlA4",
        "colab": {
          "base_uri": "https://localhost:8080/",
          "height": 404
        },
        "outputId": "f2a20a4d-1b59-4ecc-e3a0-c68e85f7233c"
      },
      "source": [
        "# Model Loss Graph\n",
        "plt.style.use('seaborn')\n",
        "plt.title('Loss \\n',fontsize=20)\n",
        "plt.plot(fit_model.history['loss'], 'orchid', label='Training Loss')\n",
        "# plt.plot(fit_model.history['val_loss'],'royalblue', label='Validation Loss')\n",
        "plt.xlabel('Number of Epochs')\n",
        "plt.ylabel('Loss')\n",
        "plt.legend()\n",
        "plt.show()"
      ],
      "execution_count": 26,
      "outputs": [
        {
          "output_type": "display_data",
          "data": {
            "image/png": "[encoded data removed]",
            "text/plain": [
              "<Figure size 576x396 with 1 Axes>"
            ]
          },
          "metadata": {}
        }
      ]
    },
    {
      "cell_type": "code",
      "metadata": {
        "id": "InfGSAnSraPS"
      },
      "source": [
        ""
      ],
      "execution_count": null,
      "outputs": []
    }
  ]
}