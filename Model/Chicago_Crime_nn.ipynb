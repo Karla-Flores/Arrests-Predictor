{
  "nbformat": 4,
  "nbformat_minor": 0,
  "metadata": {
    "colab": {
      "name": "Chicago_Crime_nn.ipynb",
      "provenance": [],
      "collapsed_sections": [],
      "include_colab_link": true
    },
    "kernelspec": {
      "display_name": "Python 3",
      "language": "python",
      "name": "python3"
    },
    "language_info": {
      "codemirror_mode": {
        "name": "ipython",
        "version": 3
      },
      "file_extension": ".py",
      "mimetype": "text/x-python",
      "name": "python",
      "nbconvert_exporter": "python",
      "pygments_lexer": "ipython3",
      "version": "3.8.5"
    }
  },
  "cells": [
    {
      "cell_type": "markdown",
      "metadata": {
        "id": "view-in-github",
        "colab_type": "text"
      },
      "source": [
        "<a href=\"https://colab.research.google.com/github/Karla-Flores/Project-04/blob/main/Model/Chicago_Crime_nn.ipynb\" target=\"_parent\"><img src=\"https://colab.research.google.com/assets/colab-badge.svg\" alt=\"Open In Colab\"/></a>"
      ]
    },
    {
      "cell_type": "markdown",
      "metadata": {
        "id": "jZN5JUejZM9Z"
      },
      "source": [
        "\n",
        "# **Preprocessing**"
      ]
    },
    {
      "cell_type": "code",
      "metadata": {
        "id": "-f8wn-tjZi4F"
      },
      "source": [
        "# Import our dependencies\n",
        "from sklearn.model_selection import train_test_split\n",
        "from sklearn.preprocessing import StandardScaler\n",
        "from sklearn.linear_model import LogisticRegression\n",
        "from sklearn.metrics import classification_report\n",
        "from sklearn.linear_model import SGDClassifier\n",
        "import tensorflow as tf\n",
        "import matplotlib.pyplot as plt\n",
        "import pandas as pd"
      ],
      "execution_count": 1,
      "outputs": []
    },
    {
      "cell_type": "code",
      "metadata": {
        "colab": {
          "resources": {
            "http://localhost:8080/nbextensions/google.colab/files.js": {
              "data": "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",
              "ok": true,
              "headers": [
                [
                  "content-type",
                  "application/javascript"
                ]
              ],
              "status": 200,
              "status_text": ""
            }
          },
          "base_uri": "https://localhost:8080/",
          "height": 72
        },
        "id": "R8C4djqRsxDH",
        "outputId": "190e8b8b-414e-4f88-d6d2-63cabc0ba5e1"
      },
      "source": [
        "from google.colab import files\n",
        "uploaded = files.upload()"
      ],
      "execution_count": 2,
      "outputs": [
        {
          "output_type": "display_data",
          "data": {
            "text/html": [
              "\n",
              "     <input type=\"file\" id=\"files-27b62002-01d8-48a0-b559-3b28b0385683\" name=\"files[]\" multiple disabled\n",
              "        style=\"border:none\" />\n",
              "     <output id=\"result-27b62002-01d8-48a0-b559-3b28b0385683\">\n",
              "      Upload widget is only available when the cell has been executed in the\n",
              "      current browser session. Please rerun this cell to enable.\n",
              "      </output>\n",
              "      <script src=\"/nbextensions/google.colab/files.js\"></script> "
            ],
            "text/plain": [
              "<IPython.core.display.HTML object>"
            ]
          },
          "metadata": {}
        },
        {
          "output_type": "stream",
          "name": "stdout",
          "text": [
            "Saving chicago_crime_db.csv to chicago_crime_db.csv\n"
          ]
        }
      ]
    },
    {
      "cell_type": "code",
      "metadata": {
        "colab": {
          "base_uri": "https://localhost:8080/",
          "height": 204
        },
        "id": "8QnexXhTgVUT",
        "outputId": "89aba939-26dd-4a7f-c433-a6079a556a37"
      },
      "source": [
        "# Uploading ETL file\n",
        "data = pd.read_csv('chicago_crime_db.csv')\n",
        "data.head(5)"
      ],
      "execution_count": 3,
      "outputs": [
        {
          "output_type": "execute_result",
          "data": {
            "text/html": [
              "<div>\n",
              "<style scoped>\n",
              "    .dataframe tbody tr th:only-of-type {\n",
              "        vertical-align: middle;\n",
              "    }\n",
              "\n",
              "    .dataframe tbody tr th {\n",
              "        vertical-align: top;\n",
              "    }\n",
              "\n",
              "    .dataframe thead th {\n",
              "        text-align: right;\n",
              "    }\n",
              "</style>\n",
              "<table border=\"1\" class=\"dataframe\">\n",
              "  <thead>\n",
              "    <tr style=\"text-align: right;\">\n",
              "      <th></th>\n",
              "      <th>Primary Type</th>\n",
              "      <th>Arrest</th>\n",
              "      <th>Domestic</th>\n",
              "      <th>Latitude</th>\n",
              "      <th>Longitude</th>\n",
              "      <th>Location Description</th>\n",
              "      <th>HOUR</th>\n",
              "      <th>SEASON</th>\n",
              "    </tr>\n",
              "  </thead>\n",
              "  <tbody>\n",
              "    <tr>\n",
              "      <th>0</th>\n",
              "      <td>BATTERY</td>\n",
              "      <td>False</td>\n",
              "      <td>True</td>\n",
              "      <td>41.815117</td>\n",
              "      <td>-87.670000</td>\n",
              "      <td>RESIDENCE</td>\n",
              "      <td>Afternoon</td>\n",
              "      <td>Autumn</td>\n",
              "    </tr>\n",
              "    <tr>\n",
              "      <th>1</th>\n",
              "      <td>THEFT</td>\n",
              "      <td>False</td>\n",
              "      <td>False</td>\n",
              "      <td>41.895080</td>\n",
              "      <td>-87.765400</td>\n",
              "      <td>CTA</td>\n",
              "      <td>Morning</td>\n",
              "      <td>Autumn</td>\n",
              "    </tr>\n",
              "    <tr>\n",
              "      <th>2</th>\n",
              "      <td>NARCOTICS</td>\n",
              "      <td>True</td>\n",
              "      <td>False</td>\n",
              "      <td>41.937406</td>\n",
              "      <td>-87.716650</td>\n",
              "      <td>PUBLIC OPEN SPACE</td>\n",
              "      <td>Afternoon</td>\n",
              "      <td>Autumn</td>\n",
              "    </tr>\n",
              "    <tr>\n",
              "      <th>3</th>\n",
              "      <td>ASSAULT</td>\n",
              "      <td>False</td>\n",
              "      <td>True</td>\n",
              "      <td>41.881903</td>\n",
              "      <td>-87.755121</td>\n",
              "      <td>RESIDENCE</td>\n",
              "      <td>Afternoon</td>\n",
              "      <td>Autumn</td>\n",
              "    </tr>\n",
              "    <tr>\n",
              "      <th>4</th>\n",
              "      <td>BURGLARY</td>\n",
              "      <td>False</td>\n",
              "      <td>False</td>\n",
              "      <td>41.744379</td>\n",
              "      <td>-87.658431</td>\n",
              "      <td>RESIDENCE</td>\n",
              "      <td>Morning</td>\n",
              "      <td>Autumn</td>\n",
              "    </tr>\n",
              "  </tbody>\n",
              "</table>\n",
              "</div>"
            ],
            "text/plain": [
              "  Primary Type  Arrest  Domestic  ...  Location Description       HOUR  SEASON\n",
              "0      BATTERY   False      True  ...             RESIDENCE  Afternoon  Autumn\n",
              "1        THEFT   False     False  ...                   CTA    Morning  Autumn\n",
              "2    NARCOTICS    True     False  ...     PUBLIC OPEN SPACE  Afternoon  Autumn\n",
              "3      ASSAULT   False      True  ...             RESIDENCE  Afternoon  Autumn\n",
              "4     BURGLARY   False     False  ...             RESIDENCE    Morning  Autumn\n",
              "\n",
              "[5 rows x 8 columns]"
            ]
          },
          "metadata": {},
          "execution_count": 3
        }
      ]
    },
    {
      "cell_type": "code",
      "metadata": {
        "colab": {
          "base_uri": "https://localhost:8080/"
        },
        "id": "lAGVISi_rlAv",
        "outputId": "f2e72213-415a-49cd-a9e4-891ed4d69d3e"
      },
      "source": [
        "data.shape"
      ],
      "execution_count": 4,
      "outputs": [
        {
          "output_type": "execute_result",
          "data": {
            "text/plain": [
              "(6691918, 8)"
            ]
          },
          "metadata": {},
          "execution_count": 4
        }
      ]
    },
    {
      "cell_type": "code",
      "metadata": {
        "colab": {
          "base_uri": "https://localhost:8080/"
        },
        "id": "exUcKsr2rlAx",
        "outputId": "a2599553-1a83-4b83-e769-685b85cd8358"
      },
      "source": [
        "# Return a random sample of items from an axis of object\n",
        "sample_data = data.sample(frac=0.05, random_state=1)\n",
        "sample_data.shape"
      ],
      "execution_count": 5,
      "outputs": [
        {
          "output_type": "execute_result",
          "data": {
            "text/plain": [
              "(334596, 8)"
            ]
          },
          "metadata": {},
          "execution_count": 5
        }
      ]
    },
    {
      "cell_type": "code",
      "metadata": {
        "id": "u50FzJxfrX4_",
        "colab": {
          "base_uri": "https://localhost:8080/",
          "height": 275
        },
        "outputId": "a196cf00-70df-427f-f473-6e89d0c522fd"
      },
      "source": [
        "# Convert categorical data to numeric with `pd.get_dummies`\n",
        "data_dummies = pd.get_dummies(sample_data, columns = ['Location Description', 'Primary Type', 'HOUR', 'SEASON'],dtype=float)\n",
        "data_dummies.head()"
      ],
      "execution_count": 6,
      "outputs": [
        {
          "output_type": "execute_result",
          "data": {
            "text/html": [
              "<div>\n",
              "<style scoped>\n",
              "    .dataframe tbody tr th:only-of-type {\n",
              "        vertical-align: middle;\n",
              "    }\n",
              "\n",
              "    .dataframe tbody tr th {\n",
              "        vertical-align: top;\n",
              "    }\n",
              "\n",
              "    .dataframe thead th {\n",
              "        text-align: right;\n",
              "    }\n",
              "</style>\n",
              "<table border=\"1\" class=\"dataframe\">\n",
              "  <thead>\n",
              "    <tr style=\"text-align: right;\">\n",
              "      <th></th>\n",
              "      <th>Arrest</th>\n",
              "      <th>Domestic</th>\n",
              "      <th>Latitude</th>\n",
              "      <th>Longitude</th>\n",
              "      <th>Location Description_AIRPORT</th>\n",
              "      <th>Location Description_CHURCH</th>\n",
              "      <th>Location Description_COMMERCIAL BUILDING</th>\n",
              "      <th>Location Description_CTA</th>\n",
              "      <th>Location Description_EDUCATIONAL BUILDING</th>\n",
              "      <th>Location Description_FEDERAL PROPERTY</th>\n",
              "      <th>Location Description_HOSPITAL</th>\n",
              "      <th>Location Description_HOTEL</th>\n",
              "      <th>Location Description_OTHER</th>\n",
              "      <th>Location Description_PUBLIC ENTERTAINMENT</th>\n",
              "      <th>Location Description_PUBLIC OPEN SPACE</th>\n",
              "      <th>Location Description_RESIDENCE</th>\n",
              "      <th>Location Description_VEHICLE</th>\n",
              "      <th>Primary Type_ARSON</th>\n",
              "      <th>Primary Type_ASSAULT</th>\n",
              "      <th>Primary Type_BATTERY</th>\n",
              "      <th>Primary Type_BURGLARY</th>\n",
              "      <th>Primary Type_CRIM SEXUAL ASSAULT</th>\n",
              "      <th>Primary Type_CRIMINAL DAMAGE</th>\n",
              "      <th>Primary Type_CRIMINAL SEXUAL ASSAULT</th>\n",
              "      <th>Primary Type_CRIMINAL TRESPASS</th>\n",
              "      <th>Primary Type_DECEPTIVE PRACTICE</th>\n",
              "      <th>Primary Type_GAMBLING</th>\n",
              "      <th>Primary Type_HOMICIDE</th>\n",
              "      <th>Primary Type_INTERFERENCE WITH PUBLIC OFFICER</th>\n",
              "      <th>Primary Type_INTIMIDATION</th>\n",
              "      <th>Primary Type_KIDNAPPING</th>\n",
              "      <th>Primary Type_LIQUOR LAW VIOLATION</th>\n",
              "      <th>Primary Type_MOTOR VEHICLE THEFT</th>\n",
              "      <th>Primary Type_NARCOTICS</th>\n",
              "      <th>Primary Type_OFFENSE INVOLVING CHILDREN</th>\n",
              "      <th>Primary Type_OTHER</th>\n",
              "      <th>Primary Type_OTHER OFFENSE</th>\n",
              "      <th>Primary Type_PROSTITUTION</th>\n",
              "      <th>Primary Type_PUBLIC PEACE VIOLATION</th>\n",
              "      <th>Primary Type_ROBBERY</th>\n",
              "      <th>Primary Type_SEX OFFENSE</th>\n",
              "      <th>Primary Type_STALKING</th>\n",
              "      <th>Primary Type_THEFT</th>\n",
              "      <th>Primary Type_WEAPONS VIOLATION</th>\n",
              "      <th>HOUR_Afternoon</th>\n",
              "      <th>HOUR_Evening</th>\n",
              "      <th>HOUR_Morning</th>\n",
              "      <th>HOUR_Night</th>\n",
              "      <th>SEASON_Autumn</th>\n",
              "      <th>SEASON_Spring</th>\n",
              "      <th>SEASON_Summer</th>\n",
              "      <th>SEASON_Winter</th>\n",
              "    </tr>\n",
              "  </thead>\n",
              "  <tbody>\n",
              "    <tr>\n",
              "      <th>4595971</th>\n",
              "      <td>True</td>\n",
              "      <td>False</td>\n",
              "      <td>41.808918</td>\n",
              "      <td>-87.604362</td>\n",
              "      <td>0.0</td>\n",
              "      <td>0.0</td>\n",
              "      <td>0.0</td>\n",
              "      <td>0.0</td>\n",
              "      <td>0.0</td>\n",
              "      <td>0.0</td>\n",
              "      <td>0.0</td>\n",
              "      <td>0.0</td>\n",
              "      <td>0.0</td>\n",
              "      <td>0.0</td>\n",
              "      <td>1.0</td>\n",
              "      <td>0.0</td>\n",
              "      <td>0.0</td>\n",
              "      <td>0.0</td>\n",
              "      <td>0.0</td>\n",
              "      <td>1.0</td>\n",
              "      <td>0.0</td>\n",
              "      <td>0.0</td>\n",
              "      <td>0.0</td>\n",
              "      <td>0.0</td>\n",
              "      <td>0.0</td>\n",
              "      <td>0.0</td>\n",
              "      <td>0.0</td>\n",
              "      <td>0.0</td>\n",
              "      <td>0.0</td>\n",
              "      <td>0.0</td>\n",
              "      <td>0.0</td>\n",
              "      <td>0.0</td>\n",
              "      <td>0.0</td>\n",
              "      <td>0.0</td>\n",
              "      <td>0.0</td>\n",
              "      <td>0.0</td>\n",
              "      <td>0.0</td>\n",
              "      <td>0.0</td>\n",
              "      <td>0.0</td>\n",
              "      <td>0.0</td>\n",
              "      <td>0.0</td>\n",
              "      <td>0.0</td>\n",
              "      <td>0.0</td>\n",
              "      <td>0.0</td>\n",
              "      <td>1.0</td>\n",
              "      <td>0.0</td>\n",
              "      <td>0.0</td>\n",
              "      <td>0.0</td>\n",
              "      <td>0.0</td>\n",
              "      <td>1.0</td>\n",
              "      <td>0.0</td>\n",
              "      <td>0.0</td>\n",
              "    </tr>\n",
              "    <tr>\n",
              "      <th>3944072</th>\n",
              "      <td>False</td>\n",
              "      <td>False</td>\n",
              "      <td>41.890977</td>\n",
              "      <td>-87.711301</td>\n",
              "      <td>0.0</td>\n",
              "      <td>0.0</td>\n",
              "      <td>0.0</td>\n",
              "      <td>0.0</td>\n",
              "      <td>0.0</td>\n",
              "      <td>0.0</td>\n",
              "      <td>0.0</td>\n",
              "      <td>0.0</td>\n",
              "      <td>0.0</td>\n",
              "      <td>0.0</td>\n",
              "      <td>1.0</td>\n",
              "      <td>0.0</td>\n",
              "      <td>0.0</td>\n",
              "      <td>0.0</td>\n",
              "      <td>0.0</td>\n",
              "      <td>0.0</td>\n",
              "      <td>0.0</td>\n",
              "      <td>0.0</td>\n",
              "      <td>0.0</td>\n",
              "      <td>0.0</td>\n",
              "      <td>0.0</td>\n",
              "      <td>0.0</td>\n",
              "      <td>0.0</td>\n",
              "      <td>0.0</td>\n",
              "      <td>0.0</td>\n",
              "      <td>0.0</td>\n",
              "      <td>0.0</td>\n",
              "      <td>0.0</td>\n",
              "      <td>1.0</td>\n",
              "      <td>0.0</td>\n",
              "      <td>0.0</td>\n",
              "      <td>0.0</td>\n",
              "      <td>0.0</td>\n",
              "      <td>0.0</td>\n",
              "      <td>0.0</td>\n",
              "      <td>0.0</td>\n",
              "      <td>0.0</td>\n",
              "      <td>0.0</td>\n",
              "      <td>0.0</td>\n",
              "      <td>0.0</td>\n",
              "      <td>1.0</td>\n",
              "      <td>0.0</td>\n",
              "      <td>0.0</td>\n",
              "      <td>0.0</td>\n",
              "      <td>0.0</td>\n",
              "      <td>1.0</td>\n",
              "      <td>0.0</td>\n",
              "      <td>0.0</td>\n",
              "    </tr>\n",
              "    <tr>\n",
              "      <th>1928585</th>\n",
              "      <td>False</td>\n",
              "      <td>False</td>\n",
              "      <td>41.806480</td>\n",
              "      <td>-87.752906</td>\n",
              "      <td>0.0</td>\n",
              "      <td>0.0</td>\n",
              "      <td>0.0</td>\n",
              "      <td>0.0</td>\n",
              "      <td>0.0</td>\n",
              "      <td>0.0</td>\n",
              "      <td>0.0</td>\n",
              "      <td>0.0</td>\n",
              "      <td>0.0</td>\n",
              "      <td>0.0</td>\n",
              "      <td>0.0</td>\n",
              "      <td>1.0</td>\n",
              "      <td>0.0</td>\n",
              "      <td>0.0</td>\n",
              "      <td>0.0</td>\n",
              "      <td>0.0</td>\n",
              "      <td>1.0</td>\n",
              "      <td>0.0</td>\n",
              "      <td>0.0</td>\n",
              "      <td>0.0</td>\n",
              "      <td>0.0</td>\n",
              "      <td>0.0</td>\n",
              "      <td>0.0</td>\n",
              "      <td>0.0</td>\n",
              "      <td>0.0</td>\n",
              "      <td>0.0</td>\n",
              "      <td>0.0</td>\n",
              "      <td>0.0</td>\n",
              "      <td>0.0</td>\n",
              "      <td>0.0</td>\n",
              "      <td>0.0</td>\n",
              "      <td>0.0</td>\n",
              "      <td>0.0</td>\n",
              "      <td>0.0</td>\n",
              "      <td>0.0</td>\n",
              "      <td>0.0</td>\n",
              "      <td>0.0</td>\n",
              "      <td>0.0</td>\n",
              "      <td>0.0</td>\n",
              "      <td>0.0</td>\n",
              "      <td>1.0</td>\n",
              "      <td>0.0</td>\n",
              "      <td>0.0</td>\n",
              "      <td>0.0</td>\n",
              "      <td>0.0</td>\n",
              "      <td>0.0</td>\n",
              "      <td>0.0</td>\n",
              "      <td>1.0</td>\n",
              "    </tr>\n",
              "    <tr>\n",
              "      <th>754949</th>\n",
              "      <td>False</td>\n",
              "      <td>False</td>\n",
              "      <td>41.868173</td>\n",
              "      <td>-87.632289</td>\n",
              "      <td>0.0</td>\n",
              "      <td>0.0</td>\n",
              "      <td>1.0</td>\n",
              "      <td>0.0</td>\n",
              "      <td>0.0</td>\n",
              "      <td>0.0</td>\n",
              "      <td>0.0</td>\n",
              "      <td>0.0</td>\n",
              "      <td>0.0</td>\n",
              "      <td>0.0</td>\n",
              "      <td>0.0</td>\n",
              "      <td>0.0</td>\n",
              "      <td>0.0</td>\n",
              "      <td>0.0</td>\n",
              "      <td>0.0</td>\n",
              "      <td>0.0</td>\n",
              "      <td>0.0</td>\n",
              "      <td>0.0</td>\n",
              "      <td>0.0</td>\n",
              "      <td>0.0</td>\n",
              "      <td>0.0</td>\n",
              "      <td>0.0</td>\n",
              "      <td>0.0</td>\n",
              "      <td>0.0</td>\n",
              "      <td>0.0</td>\n",
              "      <td>0.0</td>\n",
              "      <td>0.0</td>\n",
              "      <td>0.0</td>\n",
              "      <td>0.0</td>\n",
              "      <td>0.0</td>\n",
              "      <td>0.0</td>\n",
              "      <td>0.0</td>\n",
              "      <td>0.0</td>\n",
              "      <td>0.0</td>\n",
              "      <td>0.0</td>\n",
              "      <td>0.0</td>\n",
              "      <td>0.0</td>\n",
              "      <td>0.0</td>\n",
              "      <td>1.0</td>\n",
              "      <td>0.0</td>\n",
              "      <td>0.0</td>\n",
              "      <td>0.0</td>\n",
              "      <td>1.0</td>\n",
              "      <td>0.0</td>\n",
              "      <td>0.0</td>\n",
              "      <td>0.0</td>\n",
              "      <td>1.0</td>\n",
              "      <td>0.0</td>\n",
              "    </tr>\n",
              "    <tr>\n",
              "      <th>2246397</th>\n",
              "      <td>False</td>\n",
              "      <td>False</td>\n",
              "      <td>41.829515</td>\n",
              "      <td>-87.667932</td>\n",
              "      <td>0.0</td>\n",
              "      <td>0.0</td>\n",
              "      <td>0.0</td>\n",
              "      <td>0.0</td>\n",
              "      <td>0.0</td>\n",
              "      <td>0.0</td>\n",
              "      <td>0.0</td>\n",
              "      <td>0.0</td>\n",
              "      <td>0.0</td>\n",
              "      <td>0.0</td>\n",
              "      <td>1.0</td>\n",
              "      <td>0.0</td>\n",
              "      <td>0.0</td>\n",
              "      <td>0.0</td>\n",
              "      <td>0.0</td>\n",
              "      <td>0.0</td>\n",
              "      <td>0.0</td>\n",
              "      <td>0.0</td>\n",
              "      <td>0.0</td>\n",
              "      <td>0.0</td>\n",
              "      <td>0.0</td>\n",
              "      <td>0.0</td>\n",
              "      <td>0.0</td>\n",
              "      <td>0.0</td>\n",
              "      <td>0.0</td>\n",
              "      <td>0.0</td>\n",
              "      <td>0.0</td>\n",
              "      <td>0.0</td>\n",
              "      <td>0.0</td>\n",
              "      <td>0.0</td>\n",
              "      <td>0.0</td>\n",
              "      <td>0.0</td>\n",
              "      <td>0.0</td>\n",
              "      <td>0.0</td>\n",
              "      <td>0.0</td>\n",
              "      <td>0.0</td>\n",
              "      <td>0.0</td>\n",
              "      <td>0.0</td>\n",
              "      <td>1.0</td>\n",
              "      <td>0.0</td>\n",
              "      <td>0.0</td>\n",
              "      <td>0.0</td>\n",
              "      <td>1.0</td>\n",
              "      <td>0.0</td>\n",
              "      <td>1.0</td>\n",
              "      <td>0.0</td>\n",
              "      <td>0.0</td>\n",
              "      <td>0.0</td>\n",
              "    </tr>\n",
              "  </tbody>\n",
              "</table>\n",
              "</div>"
            ],
            "text/plain": [
              "         Arrest  Domestic  ...  SEASON_Summer  SEASON_Winter\n",
              "4595971    True     False  ...            0.0            0.0\n",
              "3944072   False     False  ...            0.0            0.0\n",
              "1928585   False     False  ...            0.0            1.0\n",
              "754949    False     False  ...            1.0            0.0\n",
              "2246397   False     False  ...            0.0            0.0\n",
              "\n",
              "[5 rows x 52 columns]"
            ]
          },
          "metadata": {},
          "execution_count": 6
        }
      ]
    },
    {
      "cell_type": "code",
      "metadata": {
        "id": "pWbUSV7lrArk"
      },
      "source": [
        "# Split our preprocessed data into our features and target arrays\n",
        "y = data_dummies.Arrest\n",
        "X = data_dummies.drop('Arrest', axis=1)"
      ],
      "execution_count": 7,
      "outputs": []
    },
    {
      "cell_type": "code",
      "metadata": {
        "colab": {
          "base_uri": "https://localhost:8080/"
        },
        "id": "PtNJ_rXo6f2j",
        "outputId": "4bdaa36e-e467-46bb-f00b-ce7a142780aa"
      },
      "source": [
        "y.unique()"
      ],
      "execution_count": 8,
      "outputs": [
        {
          "output_type": "execute_result",
          "data": {
            "text/plain": [
              "array([ True, False])"
            ]
          },
          "metadata": {},
          "execution_count": 8
        }
      ]
    },
    {
      "cell_type": "code",
      "metadata": {
        "colab": {
          "base_uri": "https://localhost:8080/"
        },
        "id": "LFzgvGjX6o3s",
        "outputId": "0e92c76a-5434-46de-978d-a112eaaa70b1"
      },
      "source": [
        "len(X.columns)"
      ],
      "execution_count": 9,
      "outputs": [
        {
          "output_type": "execute_result",
          "data": {
            "text/plain": [
              "51"
            ]
          },
          "metadata": {},
          "execution_count": 9
        }
      ]
    },
    {
      "cell_type": "code",
      "metadata": {
        "id": "-J_5WtmPrlAy"
      },
      "source": [
        "# Split the preprocessed data into a training and testing dataset\n",
        "X_train, X_test, y_train, y_test = train_test_split(X,y,random_state= 42)"
      ],
      "execution_count": 10,
      "outputs": []
    },
    {
      "cell_type": "code",
      "metadata": {
        "id": "5pUu9ArlrlAz"
      },
      "source": [
        "# Standardizing dataset so columns that contain larger values do not unduly influence the outcome\n",
        "scaler = StandardScaler().fit(X)\n",
        "X_train_scaled = scaler.transform(X_train)\n",
        "X_test_scaled = scaler.transform(X_test)"
      ],
      "execution_count": 11,
      "outputs": []
    },
    {
      "cell_type": "markdown",
      "metadata": {
        "id": "axhT4mCrrPA-"
      },
      "source": [
        "# Neural Networks"
      ]
    },
    {
      "cell_type": "code",
      "metadata": {
        "colab": {
          "base_uri": "https://localhost:8080/"
        },
        "id": "333BnWJjurqu",
        "outputId": "362b3273-6e9a-43f8-9d3a-02acf48383af"
      },
      "source": [
        "# Define the model - deep neural net, i.e., the number of input features and hidden nodes for each layer.\n",
        "\n",
        "\n",
        "nn = tf.keras.models.Sequential()\n",
        "\n",
        "# # First hidden layer\n",
        "nn.add(tf.keras.layers.Dense(units=110, activation=\"relu\", input_dim=51))\n",
        "\n",
        "# # Second hidden layer\n",
        "nn.add(tf.keras.layers.Dense(units=55, activation=\"relu\"))\n",
        "\n",
        "# # Third hidden layer\n",
        "nn.add(tf.keras.layers.Dense(units=110, activation=\"relu\"))\n",
        "\n",
        "# # Output layer\n",
        "nn.add(tf.keras.layers.Dense(units=1, activation=\"sigmoid\"))\n",
        "\n",
        "# # Check the structure of the model\n",
        "nn.summary()"
      ],
      "execution_count": 21,
      "outputs": [
        {
          "output_type": "stream",
          "name": "stdout",
          "text": [
            "Model: \"sequential_1\"\n",
            "_________________________________________________________________\n",
            "Layer (type)                 Output Shape              Param #   \n",
            "=================================================================\n",
            "dense_4 (Dense)              (None, 110)               5720      \n",
            "_________________________________________________________________\n",
            "dense_5 (Dense)              (None, 55)                6105      \n",
            "_________________________________________________________________\n",
            "dense_6 (Dense)              (None, 110)               6160      \n",
            "_________________________________________________________________\n",
            "dense_7 (Dense)              (None, 1)                 111       \n",
            "=================================================================\n",
            "Total params: 18,096\n",
            "Trainable params: 18,096\n",
            "Non-trainable params: 0\n",
            "_________________________________________________________________\n"
          ]
        }
      ]
    },
    {
      "cell_type": "code",
      "metadata": {
        "id": "09BkIs7cu-Zs"
      },
      "source": [
        "# Compile the model\n",
        "nn.compile(loss = 'binary_crossentropy', optimizer = 'adam', metrics=['accuracy', tf.keras.metrics.Recall()])"
      ],
      "execution_count": 22,
      "outputs": []
    },
    {
      "cell_type": "code",
      "metadata": {
        "colab": {
          "base_uri": "https://localhost:8080/"
        },
        "id": "TH4TF0tzvBHV",
        "outputId": "cb6722ed-71d4-4dbf-a675-5fb353fc4d13"
      },
      "source": [
        "# Train the model\n",
        "fit_model = nn.fit(X_train_scaled,y_train,validation_split=0.15, epochs=100)"
      ],
      "execution_count": 23,
      "outputs": [
        {
          "output_type": "stream",
          "name": "stdout",
          "text": [
            "Epoch 1/100\n",
            "6666/6666 [==============================] - 18s 3ms/step - loss: 0.3370 - accuracy: 0.8680 - recall_1: 0.5653 - val_loss: 0.3316 - val_accuracy: 0.8686 - val_recall_1: 0.5593\n",
            "Epoch 2/100\n",
            "6666/6666 [==============================] - 17s 3ms/step - loss: 0.3310 - accuracy: 0.8697 - recall_1: 0.5703 - val_loss: 0.3292 - val_accuracy: 0.8692 - val_recall_1: 0.5671\n",
            "Epoch 3/100\n",
            "6666/6666 [==============================] - 17s 3ms/step - loss: 0.3299 - accuracy: 0.8702 - recall_1: 0.5713 - val_loss: 0.3291 - val_accuracy: 0.8695 - val_recall_1: 0.5681\n",
            "Epoch 4/100\n",
            "6666/6666 [==============================] - 17s 3ms/step - loss: 0.3289 - accuracy: 0.8704 - recall_1: 0.5709 - val_loss: 0.3302 - val_accuracy: 0.8697 - val_recall_1: 0.5736\n",
            "Epoch 5/100\n",
            "6666/6666 [==============================] - 17s 3ms/step - loss: 0.3284 - accuracy: 0.8705 - recall_1: 0.5711 - val_loss: 0.3284 - val_accuracy: 0.8697 - val_recall_1: 0.5800\n",
            "Epoch 6/100\n",
            "6666/6666 [==============================] - 17s 3ms/step - loss: 0.3278 - accuracy: 0.8706 - recall_1: 0.5710 - val_loss: 0.3299 - val_accuracy: 0.8693 - val_recall_1: 0.5601\n",
            "Epoch 7/100\n",
            "6666/6666 [==============================] - 17s 3ms/step - loss: 0.3273 - accuracy: 0.8707 - recall_1: 0.5712 - val_loss: 0.3285 - val_accuracy: 0.8698 - val_recall_1: 0.5692\n",
            "Epoch 8/100\n",
            "6666/6666 [==============================] - 17s 3ms/step - loss: 0.3270 - accuracy: 0.8706 - recall_1: 0.5714 - val_loss: 0.3290 - val_accuracy: 0.8694 - val_recall_1: 0.5620\n",
            "Epoch 9/100\n",
            "6666/6666 [==============================] - 17s 3ms/step - loss: 0.3264 - accuracy: 0.8708 - recall_1: 0.5724 - val_loss: 0.3283 - val_accuracy: 0.8700 - val_recall_1: 0.5674\n",
            "Epoch 10/100\n",
            "6666/6666 [==============================] - 17s 3ms/step - loss: 0.3260 - accuracy: 0.8709 - recall_1: 0.5729 - val_loss: 0.3283 - val_accuracy: 0.8698 - val_recall_1: 0.5721\n",
            "Epoch 11/100\n",
            "6666/6666 [==============================] - 17s 3ms/step - loss: 0.3256 - accuracy: 0.8709 - recall_1: 0.5712 - val_loss: 0.3311 - val_accuracy: 0.8694 - val_recall_1: 0.5759\n",
            "Epoch 12/100\n",
            "6666/6666 [==============================] - 17s 3ms/step - loss: 0.3254 - accuracy: 0.8707 - recall_1: 0.5715 - val_loss: 0.3282 - val_accuracy: 0.8691 - val_recall_1: 0.5613\n",
            "Epoch 13/100\n",
            "6666/6666 [==============================] - 17s 3ms/step - loss: 0.3251 - accuracy: 0.8710 - recall_1: 0.5721 - val_loss: 0.3294 - val_accuracy: 0.8687 - val_recall_1: 0.5621\n",
            "Epoch 14/100\n",
            "6666/6666 [==============================] - 17s 3ms/step - loss: 0.3246 - accuracy: 0.8712 - recall_1: 0.5729 - val_loss: 0.3283 - val_accuracy: 0.8700 - val_recall_1: 0.5700\n",
            "Epoch 15/100\n",
            "6666/6666 [==============================] - 19s 3ms/step - loss: 0.3244 - accuracy: 0.8711 - recall_1: 0.5726 - val_loss: 0.3291 - val_accuracy: 0.8693 - val_recall_1: 0.5731\n",
            "Epoch 16/100\n",
            "6666/6666 [==============================] - 18s 3ms/step - loss: 0.3241 - accuracy: 0.8712 - recall_1: 0.5728 - val_loss: 0.3293 - val_accuracy: 0.8690 - val_recall_1: 0.5651\n",
            "Epoch 17/100\n",
            "6666/6666 [==============================] - 17s 3ms/step - loss: 0.3239 - accuracy: 0.8712 - recall_1: 0.5741 - val_loss: 0.3295 - val_accuracy: 0.8701 - val_recall_1: 0.5773\n",
            "Epoch 18/100\n",
            "6666/6666 [==============================] - 17s 3ms/step - loss: 0.3236 - accuracy: 0.8714 - recall_1: 0.5748 - val_loss: 0.3291 - val_accuracy: 0.8695 - val_recall_1: 0.5660\n",
            "Epoch 19/100\n",
            "6666/6666 [==============================] - 17s 3ms/step - loss: 0.3234 - accuracy: 0.8716 - recall_1: 0.5754 - val_loss: 0.3298 - val_accuracy: 0.8694 - val_recall_1: 0.5712\n",
            "Epoch 20/100\n",
            "6666/6666 [==============================] - 17s 3ms/step - loss: 0.3232 - accuracy: 0.8714 - recall_1: 0.5736 - val_loss: 0.3284 - val_accuracy: 0.8694 - val_recall_1: 0.5649\n",
            "Epoch 21/100\n",
            "6666/6666 [==============================] - 17s 3ms/step - loss: 0.3229 - accuracy: 0.8712 - recall_1: 0.5746 - val_loss: 0.3280 - val_accuracy: 0.8692 - val_recall_1: 0.5695\n",
            "Epoch 22/100\n",
            "6666/6666 [==============================] - 17s 3ms/step - loss: 0.3226 - accuracy: 0.8717 - recall_1: 0.5761 - val_loss: 0.3300 - val_accuracy: 0.8694 - val_recall_1: 0.5684\n",
            "Epoch 23/100\n",
            "6666/6666 [==============================] - 17s 3ms/step - loss: 0.3223 - accuracy: 0.8716 - recall_1: 0.5759 - val_loss: 0.3298 - val_accuracy: 0.8696 - val_recall_1: 0.5705\n",
            "Epoch 24/100\n",
            "6666/6666 [==============================] - 18s 3ms/step - loss: 0.3220 - accuracy: 0.8717 - recall_1: 0.5757 - val_loss: 0.3307 - val_accuracy: 0.8692 - val_recall_1: 0.5653\n",
            "Epoch 25/100\n",
            "6666/6666 [==============================] - 17s 3ms/step - loss: 0.3221 - accuracy: 0.8718 - recall_1: 0.5773 - val_loss: 0.3301 - val_accuracy: 0.8693 - val_recall_1: 0.5776\n",
            "Epoch 26/100\n",
            "6666/6666 [==============================] - 18s 3ms/step - loss: 0.3217 - accuracy: 0.8717 - recall_1: 0.5781 - val_loss: 0.3314 - val_accuracy: 0.8691 - val_recall_1: 0.5761\n",
            "Epoch 27/100\n",
            "6666/6666 [==============================] - 17s 3ms/step - loss: 0.3214 - accuracy: 0.8716 - recall_1: 0.5766 - val_loss: 0.3300 - val_accuracy: 0.8690 - val_recall_1: 0.5719\n",
            "Epoch 28/100\n",
            "6666/6666 [==============================] - 17s 3ms/step - loss: 0.3211 - accuracy: 0.8717 - recall_1: 0.5778 - val_loss: 0.3338 - val_accuracy: 0.8694 - val_recall_1: 0.5784\n",
            "Epoch 29/100\n",
            "6666/6666 [==============================] - 17s 3ms/step - loss: 0.3210 - accuracy: 0.8721 - recall_1: 0.5782 - val_loss: 0.3321 - val_accuracy: 0.8695 - val_recall_1: 0.5803\n",
            "Epoch 30/100\n",
            "6666/6666 [==============================] - 17s 3ms/step - loss: 0.3208 - accuracy: 0.8721 - recall_1: 0.5782 - val_loss: 0.3298 - val_accuracy: 0.8690 - val_recall_1: 0.5758\n",
            "Epoch 31/100\n",
            "6666/6666 [==============================] - 17s 3ms/step - loss: 0.3206 - accuracy: 0.8722 - recall_1: 0.5785 - val_loss: 0.3319 - val_accuracy: 0.8694 - val_recall_1: 0.5702\n",
            "Epoch 32/100\n",
            "6666/6666 [==============================] - 19s 3ms/step - loss: 0.3204 - accuracy: 0.8722 - recall_1: 0.5800 - val_loss: 0.3322 - val_accuracy: 0.8689 - val_recall_1: 0.5687\n",
            "Epoch 33/100\n",
            "6666/6666 [==============================] - 19s 3ms/step - loss: 0.3201 - accuracy: 0.8723 - recall_1: 0.5806 - val_loss: 0.3312 - val_accuracy: 0.8686 - val_recall_1: 0.5626\n",
            "Epoch 34/100\n",
            "6666/6666 [==============================] - 18s 3ms/step - loss: 0.3199 - accuracy: 0.8719 - recall_1: 0.5790 - val_loss: 0.3326 - val_accuracy: 0.8687 - val_recall_1: 0.5763\n",
            "Epoch 35/100\n",
            "6666/6666 [==============================] - 17s 3ms/step - loss: 0.3197 - accuracy: 0.8724 - recall_1: 0.5801 - val_loss: 0.3369 - val_accuracy: 0.8693 - val_recall_1: 0.5800\n",
            "Epoch 36/100\n",
            "6666/6666 [==============================] - 18s 3ms/step - loss: 0.3196 - accuracy: 0.8722 - recall_1: 0.5797 - val_loss: 0.3338 - val_accuracy: 0.8687 - val_recall_1: 0.5760\n",
            "Epoch 37/100\n",
            "6666/6666 [==============================] - 17s 3ms/step - loss: 0.3194 - accuracy: 0.8724 - recall_1: 0.5792 - val_loss: 0.3331 - val_accuracy: 0.8681 - val_recall_1: 0.5759\n",
            "Epoch 38/100\n",
            "6666/6666 [==============================] - 17s 3ms/step - loss: 0.3193 - accuracy: 0.8723 - recall_1: 0.5800 - val_loss: 0.3337 - val_accuracy: 0.8690 - val_recall_1: 0.5604\n",
            "Epoch 39/100\n",
            "6666/6666 [==============================] - 17s 3ms/step - loss: 0.3191 - accuracy: 0.8726 - recall_1: 0.5812 - val_loss: 0.3377 - val_accuracy: 0.8690 - val_recall_1: 0.5747\n",
            "Epoch 40/100\n",
            "6666/6666 [==============================] - 17s 3ms/step - loss: 0.3188 - accuracy: 0.8727 - recall_1: 0.5816 - val_loss: 0.3348 - val_accuracy: 0.8684 - val_recall_1: 0.5724\n",
            "Epoch 41/100\n",
            "6666/6666 [==============================] - 17s 3ms/step - loss: 0.3187 - accuracy: 0.8724 - recall_1: 0.5819 - val_loss: 0.3327 - val_accuracy: 0.8687 - val_recall_1: 0.5751\n",
            "Epoch 42/100\n",
            "6666/6666 [==============================] - 17s 3ms/step - loss: 0.3185 - accuracy: 0.8725 - recall_1: 0.5804 - val_loss: 0.3330 - val_accuracy: 0.8685 - val_recall_1: 0.5817\n",
            "Epoch 43/100\n",
            "6666/6666 [==============================] - 17s 3ms/step - loss: 0.3182 - accuracy: 0.8726 - recall_1: 0.5829 - val_loss: 0.3340 - val_accuracy: 0.8685 - val_recall_1: 0.5675\n",
            "Epoch 44/100\n",
            "6666/6666 [==============================] - 18s 3ms/step - loss: 0.3180 - accuracy: 0.8725 - recall_1: 0.5807 - val_loss: 0.3349 - val_accuracy: 0.8688 - val_recall_1: 0.5581\n",
            "Epoch 45/100\n",
            "6666/6666 [==============================] - 19s 3ms/step - loss: 0.3179 - accuracy: 0.8725 - recall_1: 0.5813 - val_loss: 0.3376 - val_accuracy: 0.8688 - val_recall_1: 0.5740\n",
            "Epoch 46/100\n",
            "6666/6666 [==============================] - 18s 3ms/step - loss: 0.3175 - accuracy: 0.8728 - recall_1: 0.5822 - val_loss: 0.3400 - val_accuracy: 0.8690 - val_recall_1: 0.5907\n",
            "Epoch 47/100\n",
            "6666/6666 [==============================] - 19s 3ms/step - loss: 0.3172 - accuracy: 0.8726 - recall_1: 0.5823 - val_loss: 0.3421 - val_accuracy: 0.8678 - val_recall_1: 0.5926\n",
            "Epoch 48/100\n",
            "6666/6666 [==============================] - 18s 3ms/step - loss: 0.3173 - accuracy: 0.8729 - recall_1: 0.5814 - val_loss: 0.3373 - val_accuracy: 0.8684 - val_recall_1: 0.5812\n",
            "Epoch 49/100\n",
            "6666/6666 [==============================] - 18s 3ms/step - loss: 0.3171 - accuracy: 0.8729 - recall_1: 0.5827 - val_loss: 0.3364 - val_accuracy: 0.8682 - val_recall_1: 0.5856\n",
            "Epoch 50/100\n",
            "6666/6666 [==============================] - 18s 3ms/step - loss: 0.3169 - accuracy: 0.8730 - recall_1: 0.5836 - val_loss: 0.3361 - val_accuracy: 0.8692 - val_recall_1: 0.5632\n",
            "Epoch 51/100\n",
            "6666/6666 [==============================] - 18s 3ms/step - loss: 0.3167 - accuracy: 0.8731 - recall_1: 0.5827 - val_loss: 0.3378 - val_accuracy: 0.8688 - val_recall_1: 0.5732\n",
            "Epoch 52/100\n",
            "6666/6666 [==============================] - 18s 3ms/step - loss: 0.3164 - accuracy: 0.8733 - recall_1: 0.5836 - val_loss: 0.3347 - val_accuracy: 0.8692 - val_recall_1: 0.5743\n",
            "Epoch 53/100\n",
            "6666/6666 [==============================] - 17s 3ms/step - loss: 0.3161 - accuracy: 0.8729 - recall_1: 0.5827 - val_loss: 0.3400 - val_accuracy: 0.8677 - val_recall_1: 0.5852\n",
            "Epoch 54/100\n",
            "6666/6666 [==============================] - 16s 2ms/step - loss: 0.3162 - accuracy: 0.8733 - recall_1: 0.5836 - val_loss: 0.3351 - val_accuracy: 0.8687 - val_recall_1: 0.5628\n",
            "Epoch 55/100\n",
            "6666/6666 [==============================] - 18s 3ms/step - loss: 0.3158 - accuracy: 0.8732 - recall_1: 0.5820 - val_loss: 0.3401 - val_accuracy: 0.8681 - val_recall_1: 0.5745\n",
            "Epoch 56/100\n",
            "6666/6666 [==============================] - 18s 3ms/step - loss: 0.3157 - accuracy: 0.8730 - recall_1: 0.5828 - val_loss: 0.3419 - val_accuracy: 0.8687 - val_recall_1: 0.5892\n",
            "Epoch 57/100\n",
            "6666/6666 [==============================] - 18s 3ms/step - loss: 0.3158 - accuracy: 0.8732 - recall_1: 0.5830 - val_loss: 0.3375 - val_accuracy: 0.8692 - val_recall_1: 0.5786\n",
            "Epoch 58/100\n",
            "6666/6666 [==============================] - 18s 3ms/step - loss: 0.3153 - accuracy: 0.8735 - recall_1: 0.5847 - val_loss: 0.3367 - val_accuracy: 0.8692 - val_recall_1: 0.5753\n",
            "Epoch 59/100\n",
            "6666/6666 [==============================] - 18s 3ms/step - loss: 0.3151 - accuracy: 0.8736 - recall_1: 0.5852 - val_loss: 0.3401 - val_accuracy: 0.8681 - val_recall_1: 0.5679\n",
            "Epoch 60/100\n",
            "6666/6666 [==============================] - 18s 3ms/step - loss: 0.3152 - accuracy: 0.8734 - recall_1: 0.5835 - val_loss: 0.3379 - val_accuracy: 0.8689 - val_recall_1: 0.5677\n",
            "Epoch 61/100\n",
            "6666/6666 [==============================] - 18s 3ms/step - loss: 0.3150 - accuracy: 0.8736 - recall_1: 0.5838 - val_loss: 0.3463 - val_accuracy: 0.8681 - val_recall_1: 0.5856\n",
            "Epoch 62/100\n",
            "6666/6666 [==============================] - 18s 3ms/step - loss: 0.3148 - accuracy: 0.8736 - recall_1: 0.5860 - val_loss: 0.3454 - val_accuracy: 0.8680 - val_recall_1: 0.5816\n",
            "Epoch 63/100\n",
            "6666/6666 [==============================] - 18s 3ms/step - loss: 0.3148 - accuracy: 0.8732 - recall_1: 0.5857 - val_loss: 0.3434 - val_accuracy: 0.8690 - val_recall_1: 0.5766\n",
            "Epoch 64/100\n",
            "6666/6666 [==============================] - 20s 3ms/step - loss: 0.3146 - accuracy: 0.8734 - recall_1: 0.5853 - val_loss: 0.3460 - val_accuracy: 0.8687 - val_recall_1: 0.5869\n",
            "Epoch 65/100\n",
            "6666/6666 [==============================] - 18s 3ms/step - loss: 0.3145 - accuracy: 0.8736 - recall_1: 0.5864 - val_loss: 0.3421 - val_accuracy: 0.8690 - val_recall_1: 0.5654\n",
            "Epoch 66/100\n",
            "6666/6666 [==============================] - 18s 3ms/step - loss: 0.3142 - accuracy: 0.8737 - recall_1: 0.5856 - val_loss: 0.3406 - val_accuracy: 0.8691 - val_recall_1: 0.5732\n",
            "Epoch 67/100\n",
            "6666/6666 [==============================] - 18s 3ms/step - loss: 0.3142 - accuracy: 0.8738 - recall_1: 0.5867 - val_loss: 0.3463 - val_accuracy: 0.8692 - val_recall_1: 0.5719\n",
            "Epoch 68/100\n",
            "6666/6666 [==============================] - 18s 3ms/step - loss: 0.3140 - accuracy: 0.8738 - recall_1: 0.5874 - val_loss: 0.3477 - val_accuracy: 0.8687 - val_recall_1: 0.5647\n",
            "Epoch 69/100\n",
            "6666/6666 [==============================] - 18s 3ms/step - loss: 0.3138 - accuracy: 0.8736 - recall_1: 0.5864 - val_loss: 0.3476 - val_accuracy: 0.8679 - val_recall_1: 0.5786\n",
            "Epoch 70/100\n",
            "6666/6666 [==============================] - 18s 3ms/step - loss: 0.3139 - accuracy: 0.8738 - recall_1: 0.5861 - val_loss: 0.3481 - val_accuracy: 0.8689 - val_recall_1: 0.5886\n",
            "Epoch 71/100\n",
            "6666/6666 [==============================] - 18s 3ms/step - loss: 0.3140 - accuracy: 0.8740 - recall_1: 0.5871 - val_loss: 0.3468 - val_accuracy: 0.8682 - val_recall_1: 0.5849\n",
            "Epoch 72/100\n",
            "6666/6666 [==============================] - 18s 3ms/step - loss: 0.3134 - accuracy: 0.8741 - recall_1: 0.5878 - val_loss: 0.3443 - val_accuracy: 0.8688 - val_recall_1: 0.5654\n",
            "Epoch 73/100\n",
            "6666/6666 [==============================] - 18s 3ms/step - loss: 0.3134 - accuracy: 0.8739 - recall_1: 0.5874 - val_loss: 0.3479 - val_accuracy: 0.8688 - val_recall_1: 0.5767\n",
            "Epoch 74/100\n",
            "6666/6666 [==============================] - 18s 3ms/step - loss: 0.3130 - accuracy: 0.8740 - recall_1: 0.5866 - val_loss: 0.3471 - val_accuracy: 0.8685 - val_recall_1: 0.5776\n",
            "Epoch 75/100\n",
            "6666/6666 [==============================] - 20s 3ms/step - loss: 0.3130 - accuracy: 0.8741 - recall_1: 0.5881 - val_loss: 0.3490 - val_accuracy: 0.8692 - val_recall_1: 0.5716\n",
            "Epoch 76/100\n",
            "6666/6666 [==============================] - 19s 3ms/step - loss: 0.3128 - accuracy: 0.8740 - recall_1: 0.5879 - val_loss: 0.3464 - val_accuracy: 0.8682 - val_recall_1: 0.5870\n",
            "Epoch 77/100\n",
            "6666/6666 [==============================] - 19s 3ms/step - loss: 0.3128 - accuracy: 0.8740 - recall_1: 0.5875 - val_loss: 0.3461 - val_accuracy: 0.8684 - val_recall_1: 0.5782\n",
            "Epoch 78/100\n",
            "6666/6666 [==============================] - 18s 3ms/step - loss: 0.3127 - accuracy: 0.8741 - recall_1: 0.5874 - val_loss: 0.3474 - val_accuracy: 0.8687 - val_recall_1: 0.5849\n",
            "Epoch 79/100\n",
            "6666/6666 [==============================] - 19s 3ms/step - loss: 0.3125 - accuracy: 0.8741 - recall_1: 0.5879 - val_loss: 0.3497 - val_accuracy: 0.8686 - val_recall_1: 0.5774\n",
            "Epoch 80/100\n",
            "6666/6666 [==============================] - 19s 3ms/step - loss: 0.3124 - accuracy: 0.8742 - recall_1: 0.5886 - val_loss: 0.3494 - val_accuracy: 0.8680 - val_recall_1: 0.5771\n",
            "Epoch 81/100\n",
            "6666/6666 [==============================] - 19s 3ms/step - loss: 0.3122 - accuracy: 0.8742 - recall_1: 0.5874 - val_loss: 0.3442 - val_accuracy: 0.8693 - val_recall_1: 0.5733\n",
            "Epoch 82/100\n",
            "6666/6666 [==============================] - 19s 3ms/step - loss: 0.3124 - accuracy: 0.8743 - recall_1: 0.5878 - val_loss: 0.3496 - val_accuracy: 0.8681 - val_recall_1: 0.5873\n",
            "Epoch 83/100\n",
            "6666/6666 [==============================] - 19s 3ms/step - loss: 0.3121 - accuracy: 0.8742 - recall_1: 0.5879 - val_loss: 0.3455 - val_accuracy: 0.8685 - val_recall_1: 0.5820\n",
            "Epoch 84/100\n",
            "6666/6666 [==============================] - 19s 3ms/step - loss: 0.3118 - accuracy: 0.8743 - recall_1: 0.5881 - val_loss: 0.3509 - val_accuracy: 0.8682 - val_recall_1: 0.5674\n",
            "Epoch 85/100\n",
            "6666/6666 [==============================] - 19s 3ms/step - loss: 0.3121 - accuracy: 0.8743 - recall_1: 0.5895 - val_loss: 0.3475 - val_accuracy: 0.8680 - val_recall_1: 0.5895\n",
            "Epoch 86/100\n",
            "6666/6666 [==============================] - 18s 3ms/step - loss: 0.3116 - accuracy: 0.8744 - recall_1: 0.5890 - val_loss: 0.3479 - val_accuracy: 0.8686 - val_recall_1: 0.5738\n",
            "Epoch 87/100\n",
            "6666/6666 [==============================] - 18s 3ms/step - loss: 0.3121 - accuracy: 0.8745 - recall_1: 0.5893 - val_loss: 0.3476 - val_accuracy: 0.8682 - val_recall_1: 0.5861\n",
            "Epoch 88/100\n",
            "6666/6666 [==============================] - 18s 3ms/step - loss: 0.3114 - accuracy: 0.8747 - recall_1: 0.5907 - val_loss: 0.3625 - val_accuracy: 0.8658 - val_recall_1: 0.6059\n",
            "Epoch 89/100\n",
            "6666/6666 [==============================] - 18s 3ms/step - loss: 0.3114 - accuracy: 0.8745 - recall_1: 0.5903 - val_loss: 0.3488 - val_accuracy: 0.8690 - val_recall_1: 0.5729\n",
            "Epoch 90/100\n",
            "6666/6666 [==============================] - 18s 3ms/step - loss: 0.3112 - accuracy: 0.8741 - recall_1: 0.5896 - val_loss: 0.3520 - val_accuracy: 0.8669 - val_recall_1: 0.5788\n",
            "Epoch 91/100\n",
            "6666/6666 [==============================] - 19s 3ms/step - loss: 0.3109 - accuracy: 0.8746 - recall_1: 0.5885 - val_loss: 0.3522 - val_accuracy: 0.8687 - val_recall_1: 0.5580\n",
            "Epoch 92/100\n",
            "6666/6666 [==============================] - 19s 3ms/step - loss: 0.3112 - accuracy: 0.8745 - recall_1: 0.5889 - val_loss: 0.3579 - val_accuracy: 0.8681 - val_recall_1: 0.5774\n",
            "Epoch 93/100\n",
            "6666/6666 [==============================] - 18s 3ms/step - loss: 0.3115 - accuracy: 0.8744 - recall_1: 0.5891 - val_loss: 0.3538 - val_accuracy: 0.8685 - val_recall_1: 0.5679\n",
            "Epoch 94/100\n",
            "6666/6666 [==============================] - 19s 3ms/step - loss: 0.3108 - accuracy: 0.8745 - recall_1: 0.5887 - val_loss: 0.3494 - val_accuracy: 0.8683 - val_recall_1: 0.5659\n",
            "Epoch 95/100\n",
            "6666/6666 [==============================] - 19s 3ms/step - loss: 0.3108 - accuracy: 0.8745 - recall_1: 0.5923 - val_loss: 0.3526 - val_accuracy: 0.8692 - val_recall_1: 0.5857\n",
            "Epoch 96/100\n",
            "6666/6666 [==============================] - 19s 3ms/step - loss: 0.3104 - accuracy: 0.8747 - recall_1: 0.5909 - val_loss: 0.3556 - val_accuracy: 0.8677 - val_recall_1: 0.5853\n",
            "Epoch 97/100\n",
            "6666/6666 [==============================] - 21s 3ms/step - loss: 0.3103 - accuracy: 0.8747 - recall_1: 0.5913 - val_loss: 0.3494 - val_accuracy: 0.8680 - val_recall_1: 0.5641\n",
            "Epoch 98/100\n",
            "6666/6666 [==============================] - 21s 3ms/step - loss: 0.3104 - accuracy: 0.8748 - recall_1: 0.5902 - val_loss: 0.3522 - val_accuracy: 0.8677 - val_recall_1: 0.5763\n",
            "Epoch 99/100\n",
            "6666/6666 [==============================] - 18s 3ms/step - loss: 0.3107 - accuracy: 0.8749 - recall_1: 0.5913 - val_loss: 0.3606 - val_accuracy: 0.8679 - val_recall_1: 0.5768\n",
            "Epoch 100/100\n",
            "6666/6666 [==============================] - 18s 3ms/step - loss: 0.3102 - accuracy: 0.8745 - recall_1: 0.5921 - val_loss: 0.3546 - val_accuracy: 0.8680 - val_recall_1: 0.5683\n"
          ]
        }
      ]
    },
    {
      "cell_type": "code",
      "metadata": {
        "colab": {
          "base_uri": "https://localhost:8080/"
        },
        "id": "EUj3LBiMvOrC",
        "outputId": "127a5e30-9af7-4aa8-f499-1e09e083da77"
      },
      "source": [
        "# Evaluate the model using the training data \n",
        "model_loss, model_accuracy, model_Recall = nn.evaluate(X_test_scaled, y_test, verbose=2)\n",
        "print(f\"Loss: {model_loss}, Accuracy: {model_accuracy}\")"
      ],
      "execution_count": 27,
      "outputs": [
        {
          "output_type": "stream",
          "name": "stdout",
          "text": [
            "2615/2615 - 3s - loss: 0.3498 - accuracy: 0.8688 - recall_1: 0.5714\n",
            "Loss: 0.3498053550720215, Accuracy: 0.8688328862190247\n"
          ]
        }
      ]
    },
    {
      "cell_type": "code",
      "metadata": {
        "id": "BCSFZF2crlA2"
      },
      "source": [
        "# import pickle\n",
        "# pickle.dump(model,open('../Model/rfc.sav','wb'))"
      ],
      "execution_count": null,
      "outputs": []
    },
    {
      "cell_type": "code",
      "metadata": {
        "id": "S4rnaNc4rlA3"
      },
      "source": [
        "# import flask ...\n",
        "\n",
        "# model = pickle.load('rfc.sav')\n",
        "\n",
        "# @route('/api/parameters')\n",
        "# def api():\n",
        "#     parameters = request.get()\n",
        "#     results = model.predict(parameters)\n",
        "    \n",
        "#     return jsonify(results)"
      ],
      "execution_count": null,
      "outputs": []
    },
    {
      "cell_type": "code",
      "metadata": {
        "id": "yYkZFlxdrlA4"
      },
      "source": [
        "# with open('../Model/rfc.sav','rb') as f:\n",
        "#     model = pickle.load(f)"
      ],
      "execution_count": null,
      "outputs": []
    },
    {
      "cell_type": "code",
      "metadata": {
        "id": "x_XHHMzvpQFN",
        "outputId": "6f31459b-23cf-427c-86b7-769a92a699aa",
        "colab": {
          "base_uri": "https://localhost:8080/",
          "height": 404
        }
      },
      "source": [
        "# Model Accuracy Graph\n",
        "plt.style.use('seaborn')\n",
        "plt.title('Accuracy \\n',fontsize=20)\n",
        "plt.plot(fit_model.history['accuracy'], 'tomato', label='Training Accuracy')\n",
        "plt.plot(fit_model.history['val_accuracy'], 'turquoise',label='Validation Accuracy')\n",
        "plt.xlabel('Number of Epochs')\n",
        "plt.ylabel('Loss')\n",
        "plt.legend()\n",
        "plt.show()"
      ],
      "execution_count": 28,
      "outputs": [
        {
          "output_type": "display_data",
          "data": {
            "image/png": "[encoded data removed]",
            "text/plain": [
              "<Figure size 576x396 with 1 Axes>"
            ]
          },
          "metadata": {}
        }
      ]
    },
    {
      "cell_type": "code",
      "metadata": {
        "id": "8MvmsOArrlA4",
        "colab": {
          "base_uri": "https://localhost:8080/",
          "height": 404
        },
        "outputId": "b906f4e8-628f-47ea-bec2-6f2036af0f51"
      },
      "source": [
        "# Model Loss Graph\n",
        "plt.style.use('seaborn')\n",
        "plt.title('Loss \\n',fontsize=20)\n",
        "plt.plot(fit_model.history['loss'], 'orchid', label='Training Loss')\n",
        "plt.plot(fit_model.history['val_loss'],'royalblue', label='Validation Loss')\n",
        "plt.xlabel('Number of Epochs')\n",
        "plt.ylabel('Loss')\n",
        "plt.legend()\n",
        "plt.show()"
      ],
      "execution_count": 29,
      "outputs": [
        {
          "output_type": "display_data",
          "data": {
            "image/png": "[encoded data removed]",
            "text/plain": [
              "<Figure size 576x396 with 1 Axes>"
            ]
          },
          "metadata": {}
        }
      ]
    }
  ]
}