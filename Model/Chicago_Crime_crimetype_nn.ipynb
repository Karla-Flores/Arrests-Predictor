{
  "nbformat": 4,
  "nbformat_minor": 0,
  "metadata": {
    "colab": {
      "name": "Chicago_Crime_LR-crimetype_nn.ipynb",
      "provenance": [],
      "collapsed_sections": []
    },
    "kernelspec": {
      "display_name": "Python 3",
      "language": "python",
      "name": "python3"
    },
    "language_info": {
      "codemirror_mode": {
        "name": "ipython",
        "version": 3
      },
      "file_extension": ".py",
      "mimetype": "text/x-python",
      "name": "python",
      "nbconvert_exporter": "python",
      "pygments_lexer": "ipython3",
      "version": "3.8.5"
    }
  },
  "cells": [
    {
      "cell_type": "markdown",
      "metadata": {
        "id": "view-in-github"
      },
      "source": [
        "<a href=\"https://colab.research.google.com/github/Karla-Flores/Project-04/blob/main/Chicago_Crime.ipynb\" target=\"_parent\"><img src=\"https://colab.research.google.com/assets/colab-badge.svg\" alt=\"Open In Colab\"/></a>"
      ]
    },
    {
      "cell_type": "markdown",
      "metadata": {
        "id": "jZN5JUejZM9Z"
      },
      "source": [
        "\n",
        "# **Preprocessing**"
      ]
    },
    {
      "cell_type": "code",
      "metadata": {
        "id": "-f8wn-tjZi4F"
      },
      "source": [
        "# Import our dependencies\n",
        "from sklearn.model_selection import train_test_split\n",
        "from sklearn.preprocessing import StandardScaler\n",
        "from sklearn.linear_model import LogisticRegression\n",
        "from sklearn.metrics import classification_report\n",
        "from sklearn.linear_model import SGDClassifier\n",
        "import tensorflow as tf\n",
        "import matplotlib.pyplot as plt\n",
        "import pandas as pd\n",
        "import numpy as np"
      ],
      "execution_count": 1,
      "outputs": []
    },
    {
      "cell_type": "code",
      "metadata": {
        "colab": {
          "resources": {
            "http://localhost:8080/nbextensions/google.colab/files.js": {
              "data": "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",
              "ok": true,
              "headers": [
                [
                  "content-type",
                  "application/javascript"
                ]
              ],
              "status": 200,
              "status_text": ""
            }
          },
          "base_uri": "https://localhost:8080/",
          "height": 73
        },
        "id": "HCIujZqZBtp6",
        "outputId": "b72fcb02-092b-46f2-f688-f5968a044a37"
      },
      "source": [
        "from google.colab import files\n",
        "uploaded = files.upload()"
      ],
      "execution_count": 2,
      "outputs": [
        {
          "output_type": "display_data",
          "data": {
            "text/html": [
              "\n",
              "     <input type=\"file\" id=\"files-53226c41-4f29-48d3-8bd6-18db6ad8545e\" name=\"files[]\" multiple disabled\n",
              "        style=\"border:none\" />\n",
              "     <output id=\"result-53226c41-4f29-48d3-8bd6-18db6ad8545e\">\n",
              "      Upload widget is only available when the cell has been executed in the\n",
              "      current browser session. Please rerun this cell to enable.\n",
              "      </output>\n",
              "      <script src=\"/nbextensions/google.colab/files.js\"></script> "
            ],
            "text/plain": [
              "<IPython.core.display.HTML object>"
            ]
          },
          "metadata": {}
        },
        {
          "output_type": "stream",
          "name": "stdout",
          "text": [
            "Saving chicago_crime_db.csv to chicago_crime_db (1).csv\n"
          ]
        }
      ]
    },
    {
      "cell_type": "code",
      "metadata": {
        "colab": {
          "base_uri": "https://localhost:8080/",
          "height": 363
        },
        "id": "8QnexXhTgVUT",
        "outputId": "48b6cc62-d368-49e7-cf91-c509122ce8a5"
      },
      "source": [
        "# Uploading ETL file\n",
        "data = pd.read_csv('chicago_crime_db.csv')\n",
        "data.head(10)"
      ],
      "execution_count": 3,
      "outputs": [
        {
          "output_type": "execute_result",
          "data": {
            "text/html": [
              "<div>\n",
              "<style scoped>\n",
              "    .dataframe tbody tr th:only-of-type {\n",
              "        vertical-align: middle;\n",
              "    }\n",
              "\n",
              "    .dataframe tbody tr th {\n",
              "        vertical-align: top;\n",
              "    }\n",
              "\n",
              "    .dataframe thead th {\n",
              "        text-align: right;\n",
              "    }\n",
              "</style>\n",
              "<table border=\"1\" class=\"dataframe\">\n",
              "  <thead>\n",
              "    <tr style=\"text-align: right;\">\n",
              "      <th></th>\n",
              "      <th>Primary Type</th>\n",
              "      <th>Arrest</th>\n",
              "      <th>Domestic</th>\n",
              "      <th>Latitude</th>\n",
              "      <th>Longitude</th>\n",
              "      <th>Location Description</th>\n",
              "      <th>HOUR</th>\n",
              "      <th>SEASON</th>\n",
              "    </tr>\n",
              "  </thead>\n",
              "  <tbody>\n",
              "    <tr>\n",
              "      <th>0</th>\n",
              "      <td>BATTERY</td>\n",
              "      <td>False</td>\n",
              "      <td>True</td>\n",
              "      <td>41.815117</td>\n",
              "      <td>-87.670000</td>\n",
              "      <td>RESIDENCE</td>\n",
              "      <td>Afternoon</td>\n",
              "      <td>Autumn</td>\n",
              "    </tr>\n",
              "    <tr>\n",
              "      <th>1</th>\n",
              "      <td>THEFT</td>\n",
              "      <td>False</td>\n",
              "      <td>False</td>\n",
              "      <td>41.895080</td>\n",
              "      <td>-87.765400</td>\n",
              "      <td>CTA</td>\n",
              "      <td>Morning</td>\n",
              "      <td>Autumn</td>\n",
              "    </tr>\n",
              "    <tr>\n",
              "      <th>2</th>\n",
              "      <td>NARCOTICS</td>\n",
              "      <td>True</td>\n",
              "      <td>False</td>\n",
              "      <td>41.937406</td>\n",
              "      <td>-87.716650</td>\n",
              "      <td>PUBLIC OPEN SPACE</td>\n",
              "      <td>Afternoon</td>\n",
              "      <td>Autumn</td>\n",
              "    </tr>\n",
              "    <tr>\n",
              "      <th>3</th>\n",
              "      <td>ASSAULT</td>\n",
              "      <td>False</td>\n",
              "      <td>True</td>\n",
              "      <td>41.881903</td>\n",
              "      <td>-87.755121</td>\n",
              "      <td>RESIDENCE</td>\n",
              "      <td>Afternoon</td>\n",
              "      <td>Autumn</td>\n",
              "    </tr>\n",
              "    <tr>\n",
              "      <th>4</th>\n",
              "      <td>BURGLARY</td>\n",
              "      <td>False</td>\n",
              "      <td>False</td>\n",
              "      <td>41.744379</td>\n",
              "      <td>-87.658431</td>\n",
              "      <td>RESIDENCE</td>\n",
              "      <td>Morning</td>\n",
              "      <td>Autumn</td>\n",
              "    </tr>\n",
              "    <tr>\n",
              "      <th>5</th>\n",
              "      <td>BURGLARY</td>\n",
              "      <td>False</td>\n",
              "      <td>False</td>\n",
              "      <td>41.914636</td>\n",
              "      <td>-87.681631</td>\n",
              "      <td>RESIDENCE</td>\n",
              "      <td>Evening</td>\n",
              "      <td>Autumn</td>\n",
              "    </tr>\n",
              "    <tr>\n",
              "      <th>6</th>\n",
              "      <td>THEFT</td>\n",
              "      <td>True</td>\n",
              "      <td>False</td>\n",
              "      <td>41.851989</td>\n",
              "      <td>-87.689219</td>\n",
              "      <td>COMMERCIAL BUILDING</td>\n",
              "      <td>Afternoon</td>\n",
              "      <td>Autumn</td>\n",
              "    </tr>\n",
              "    <tr>\n",
              "      <th>7</th>\n",
              "      <td>ROBBERY</td>\n",
              "      <td>False</td>\n",
              "      <td>True</td>\n",
              "      <td>41.882814</td>\n",
              "      <td>-87.704326</td>\n",
              "      <td>PUBLIC OPEN SPACE</td>\n",
              "      <td>Morning</td>\n",
              "      <td>Autumn</td>\n",
              "    </tr>\n",
              "    <tr>\n",
              "      <th>8</th>\n",
              "      <td>THEFT</td>\n",
              "      <td>False</td>\n",
              "      <td>False</td>\n",
              "      <td>41.763648</td>\n",
              "      <td>-87.722345</td>\n",
              "      <td>PUBLIC OPEN SPACE</td>\n",
              "      <td>Afternoon</td>\n",
              "      <td>Autumn</td>\n",
              "    </tr>\n",
              "    <tr>\n",
              "      <th>9</th>\n",
              "      <td>BATTERY</td>\n",
              "      <td>False</td>\n",
              "      <td>False</td>\n",
              "      <td>41.975968</td>\n",
              "      <td>-87.768014</td>\n",
              "      <td>COMMERCIAL BUILDING</td>\n",
              "      <td>Morning</td>\n",
              "      <td>Autumn</td>\n",
              "    </tr>\n",
              "  </tbody>\n",
              "</table>\n",
              "</div>"
            ],
            "text/plain": [
              "  Primary Type  Arrest  Domestic  ...  Location Description       HOUR  SEASON\n",
              "0      BATTERY   False      True  ...             RESIDENCE  Afternoon  Autumn\n",
              "1        THEFT   False     False  ...                   CTA    Morning  Autumn\n",
              "2    NARCOTICS    True     False  ...     PUBLIC OPEN SPACE  Afternoon  Autumn\n",
              "3      ASSAULT   False      True  ...             RESIDENCE  Afternoon  Autumn\n",
              "4     BURGLARY   False     False  ...             RESIDENCE    Morning  Autumn\n",
              "5     BURGLARY   False     False  ...             RESIDENCE    Evening  Autumn\n",
              "6        THEFT    True     False  ...   COMMERCIAL BUILDING  Afternoon  Autumn\n",
              "7      ROBBERY   False      True  ...     PUBLIC OPEN SPACE    Morning  Autumn\n",
              "8        THEFT   False     False  ...     PUBLIC OPEN SPACE  Afternoon  Autumn\n",
              "9      BATTERY   False     False  ...   COMMERCIAL BUILDING    Morning  Autumn\n",
              "\n",
              "[10 rows x 8 columns]"
            ]
          },
          "metadata": {},
          "execution_count": 3
        }
      ]
    },
    {
      "cell_type": "code",
      "metadata": {
        "colab": {
          "base_uri": "https://localhost:8080/"
        },
        "id": "rerCM_PkBHUK",
        "outputId": "3f782393-b3be-4a1d-c3d2-1fb2056e2423"
      },
      "source": [
        "data.shape"
      ],
      "execution_count": 4,
      "outputs": [
        {
          "output_type": "execute_result",
          "data": {
            "text/plain": [
              "(6691918, 8)"
            ]
          },
          "metadata": {},
          "execution_count": 4
        }
      ]
    },
    {
      "cell_type": "code",
      "metadata": {
        "id": "xKjxwCiuBHUL"
      },
      "source": [
        "data.loc[data['Primary Type'] == 'CRIMINAL DAMAGE', 'Primary Type'] = 'CRIMINAL LAW VIOLATION'\n",
        "data.loc[data['Primary Type'] == 'CRIMINAL TRESPASS', 'Primary Type'] = 'CRIMINAL LAW VIOLATION'\n",
        "data.loc[data['Primary Type'] == 'DECEPTIVE PRACTICE', 'Primary Type'] = 'CRIMINAL LAW VIOLATION'\n",
        "data.loc[data['Primary Type'] == 'INTERFERENCE WITH PUBLIC OFFICER', 'Primary Type'] = 'CRIMINAL LAW VIOLATION'\n",
        "data.loc[data['Primary Type'] == 'LIQUOR LAW VIOLATION', 'Primary Type'] = 'CRIMINAL LAW VIOLATION'\n",
        "data.loc[data['Primary Type'] == 'PUBLIC PEACE VIOLATION', 'Primary Type'] = 'CRIMINAL LAW VIOLATION'\n",
        "data.loc[data['Primary Type'] == 'WEAPONS VIOLATION', 'Primary Type'] = 'CRIMINAL LAW VIOLATION'\n",
        "data.loc[data['Primary Type'] == 'GAMBLING', 'Primary Type'] = 'CRIMINAL LAW VIOLATION'"
      ],
      "execution_count": 5,
      "outputs": []
    },
    {
      "cell_type": "code",
      "metadata": {
        "id": "-3vsnLicBHUL"
      },
      "source": [
        "data.loc[data['Primary Type'] == 'OTHER OFFENSE', 'Primary Type'] = 'OTHER'"
      ],
      "execution_count": 6,
      "outputs": []
    },
    {
      "cell_type": "code",
      "metadata": {
        "id": "bJhQ3d0tBHUM"
      },
      "source": [
        "data.loc[data['Primary Type'] == 'BATTERY', 'Primary Type'] = 'ASSAULT'"
      ],
      "execution_count": 7,
      "outputs": []
    },
    {
      "cell_type": "code",
      "metadata": {
        "id": "d4zHPLj4BHUN"
      },
      "source": [
        "data.loc[data['Primary Type'] == 'STALKING', 'Primary Type'] = 'INTIMIDATION'"
      ],
      "execution_count": 8,
      "outputs": []
    },
    {
      "cell_type": "code",
      "metadata": {
        "id": "VHxlJfB1BHUO"
      },
      "source": [
        "data.loc[data['Primary Type'] == 'BURGLARY', 'Primary Type'] = 'ROBBERY'\n",
        "data.loc[data['Primary Type'] == 'MOTOR VEHICLE THEFT', 'Primary Type'] = 'ROBBERY'\n",
        "data.loc[data['Primary Type'] == 'THEFT', 'Primary Type'] = 'ROBBERY'"
      ],
      "execution_count": 9,
      "outputs": []
    },
    {
      "cell_type": "code",
      "metadata": {
        "id": "AHF2_zZBBHUP"
      },
      "source": [
        "data.loc[data['Primary Type'] == 'CRIM SEXUAL ASSAULT', 'Primary Type'] = 'SEX OFFENSE'\n",
        "data.loc[data['Primary Type'] == 'CRIMINAL SEXUAL ASSAUL', 'Primary Type'] = 'SEX OFFENSE'\n",
        "data.loc[data['Primary Type'] == 'PROSTITUTION', 'Primary Type'] = 'SEX OFFENSE'"
      ],
      "execution_count": 10,
      "outputs": []
    },
    {
      "cell_type": "code",
      "metadata": {
        "id": "kVH6v5QRK8ZE"
      },
      "source": [
        "sample = data.sample(frac=0.05)"
      ],
      "execution_count": 11,
      "outputs": []
    },
    {
      "cell_type": "code",
      "metadata": {
        "colab": {
          "base_uri": "https://localhost:8080/"
        },
        "id": "-tuExt6ULIhn",
        "outputId": "3c90d2b0-bb0d-4035-f4e0-16033569f32a"
      },
      "source": [
        "sample.shape"
      ],
      "execution_count": 12,
      "outputs": [
        {
          "output_type": "execute_result",
          "data": {
            "text/plain": [
              "(334596, 8)"
            ]
          },
          "metadata": {},
          "execution_count": 12
        }
      ]
    },
    {
      "cell_type": "code",
      "metadata": {
        "id": "u50FzJxfrX4_",
        "colab": {
          "base_uri": "https://localhost:8080/",
          "height": 313
        },
        "outputId": "248bbf2b-bb4d-47a0-9fdf-032d905635fc"
      },
      "source": [
        "# Convert categorical data to numeric with `pd.get_dummies`\n",
        "sample_dummies = pd.get_dummies(sample, columns = ['Location Description', 'HOUR', 'SEASON'],dtype=float)\n",
        "sample_dummies.head()"
      ],
      "execution_count": 13,
      "outputs": [
        {
          "output_type": "execute_result",
          "data": {
            "text/html": [
              "<div>\n",
              "<style scoped>\n",
              "    .dataframe tbody tr th:only-of-type {\n",
              "        vertical-align: middle;\n",
              "    }\n",
              "\n",
              "    .dataframe tbody tr th {\n",
              "        vertical-align: top;\n",
              "    }\n",
              "\n",
              "    .dataframe thead th {\n",
              "        text-align: right;\n",
              "    }\n",
              "</style>\n",
              "<table border=\"1\" class=\"dataframe\">\n",
              "  <thead>\n",
              "    <tr style=\"text-align: right;\">\n",
              "      <th></th>\n",
              "      <th>Primary Type</th>\n",
              "      <th>Arrest</th>\n",
              "      <th>Domestic</th>\n",
              "      <th>Latitude</th>\n",
              "      <th>Longitude</th>\n",
              "      <th>Location Description_AIRPORT</th>\n",
              "      <th>Location Description_CHURCH</th>\n",
              "      <th>Location Description_COMMERCIAL BUILDING</th>\n",
              "      <th>Location Description_CTA</th>\n",
              "      <th>Location Description_EDUCATIONAL BUILDING</th>\n",
              "      <th>Location Description_FEDERAL PROPERTY</th>\n",
              "      <th>Location Description_HOSPITAL</th>\n",
              "      <th>Location Description_HOTEL</th>\n",
              "      <th>Location Description_OTHER</th>\n",
              "      <th>Location Description_PUBLIC ENTERTAINMENT</th>\n",
              "      <th>Location Description_PUBLIC OPEN SPACE</th>\n",
              "      <th>Location Description_RESIDENCE</th>\n",
              "      <th>Location Description_VEHICLE</th>\n",
              "      <th>HOUR_Afternoon</th>\n",
              "      <th>HOUR_Evening</th>\n",
              "      <th>HOUR_Morning</th>\n",
              "      <th>HOUR_Night</th>\n",
              "      <th>SEASON_Autumn</th>\n",
              "      <th>SEASON_Spring</th>\n",
              "      <th>SEASON_Summer</th>\n",
              "      <th>SEASON_Winter</th>\n",
              "    </tr>\n",
              "  </thead>\n",
              "  <tbody>\n",
              "    <tr>\n",
              "      <th>4881434</th>\n",
              "      <td>ROBBERY</td>\n",
              "      <td>False</td>\n",
              "      <td>False</td>\n",
              "      <td>41.839816</td>\n",
              "      <td>-87.617516</td>\n",
              "      <td>0.0</td>\n",
              "      <td>0.0</td>\n",
              "      <td>0.0</td>\n",
              "      <td>0.0</td>\n",
              "      <td>1.0</td>\n",
              "      <td>0.0</td>\n",
              "      <td>0.0</td>\n",
              "      <td>0.0</td>\n",
              "      <td>0.0</td>\n",
              "      <td>0.0</td>\n",
              "      <td>0.0</td>\n",
              "      <td>0.0</td>\n",
              "      <td>0.0</td>\n",
              "      <td>1.0</td>\n",
              "      <td>0.0</td>\n",
              "      <td>0.0</td>\n",
              "      <td>0.0</td>\n",
              "      <td>0.0</td>\n",
              "      <td>0.0</td>\n",
              "      <td>0.0</td>\n",
              "      <td>1.0</td>\n",
              "    </tr>\n",
              "    <tr>\n",
              "      <th>1374799</th>\n",
              "      <td>CRIMINAL LAW VIOLATION</td>\n",
              "      <td>False</td>\n",
              "      <td>False</td>\n",
              "      <td>41.786320</td>\n",
              "      <td>-87.654673</td>\n",
              "      <td>0.0</td>\n",
              "      <td>0.0</td>\n",
              "      <td>0.0</td>\n",
              "      <td>0.0</td>\n",
              "      <td>0.0</td>\n",
              "      <td>0.0</td>\n",
              "      <td>0.0</td>\n",
              "      <td>0.0</td>\n",
              "      <td>0.0</td>\n",
              "      <td>0.0</td>\n",
              "      <td>0.0</td>\n",
              "      <td>1.0</td>\n",
              "      <td>0.0</td>\n",
              "      <td>1.0</td>\n",
              "      <td>0.0</td>\n",
              "      <td>0.0</td>\n",
              "      <td>0.0</td>\n",
              "      <td>1.0</td>\n",
              "      <td>0.0</td>\n",
              "      <td>0.0</td>\n",
              "      <td>0.0</td>\n",
              "    </tr>\n",
              "    <tr>\n",
              "      <th>1364844</th>\n",
              "      <td>SEX OFFENSE</td>\n",
              "      <td>True</td>\n",
              "      <td>False</td>\n",
              "      <td>41.880519</td>\n",
              "      <td>-87.743442</td>\n",
              "      <td>0.0</td>\n",
              "      <td>0.0</td>\n",
              "      <td>0.0</td>\n",
              "      <td>0.0</td>\n",
              "      <td>0.0</td>\n",
              "      <td>0.0</td>\n",
              "      <td>0.0</td>\n",
              "      <td>0.0</td>\n",
              "      <td>0.0</td>\n",
              "      <td>0.0</td>\n",
              "      <td>1.0</td>\n",
              "      <td>0.0</td>\n",
              "      <td>0.0</td>\n",
              "      <td>1.0</td>\n",
              "      <td>0.0</td>\n",
              "      <td>0.0</td>\n",
              "      <td>0.0</td>\n",
              "      <td>1.0</td>\n",
              "      <td>0.0</td>\n",
              "      <td>0.0</td>\n",
              "      <td>0.0</td>\n",
              "    </tr>\n",
              "    <tr>\n",
              "      <th>6385174</th>\n",
              "      <td>ROBBERY</td>\n",
              "      <td>False</td>\n",
              "      <td>False</td>\n",
              "      <td>41.807910</td>\n",
              "      <td>-87.677102</td>\n",
              "      <td>0.0</td>\n",
              "      <td>0.0</td>\n",
              "      <td>0.0</td>\n",
              "      <td>0.0</td>\n",
              "      <td>0.0</td>\n",
              "      <td>0.0</td>\n",
              "      <td>0.0</td>\n",
              "      <td>0.0</td>\n",
              "      <td>0.0</td>\n",
              "      <td>0.0</td>\n",
              "      <td>1.0</td>\n",
              "      <td>0.0</td>\n",
              "      <td>0.0</td>\n",
              "      <td>0.0</td>\n",
              "      <td>0.0</td>\n",
              "      <td>0.0</td>\n",
              "      <td>1.0</td>\n",
              "      <td>0.0</td>\n",
              "      <td>0.0</td>\n",
              "      <td>1.0</td>\n",
              "      <td>0.0</td>\n",
              "    </tr>\n",
              "    <tr>\n",
              "      <th>3962036</th>\n",
              "      <td>ROBBERY</td>\n",
              "      <td>False</td>\n",
              "      <td>False</td>\n",
              "      <td>41.913615</td>\n",
              "      <td>-87.670215</td>\n",
              "      <td>0.0</td>\n",
              "      <td>0.0</td>\n",
              "      <td>0.0</td>\n",
              "      <td>0.0</td>\n",
              "      <td>0.0</td>\n",
              "      <td>0.0</td>\n",
              "      <td>0.0</td>\n",
              "      <td>0.0</td>\n",
              "      <td>0.0</td>\n",
              "      <td>0.0</td>\n",
              "      <td>1.0</td>\n",
              "      <td>0.0</td>\n",
              "      <td>0.0</td>\n",
              "      <td>0.0</td>\n",
              "      <td>1.0</td>\n",
              "      <td>0.0</td>\n",
              "      <td>0.0</td>\n",
              "      <td>1.0</td>\n",
              "      <td>0.0</td>\n",
              "      <td>0.0</td>\n",
              "      <td>0.0</td>\n",
              "    </tr>\n",
              "  </tbody>\n",
              "</table>\n",
              "</div>"
            ],
            "text/plain": [
              "                   Primary Type  Arrest  ...  SEASON_Summer  SEASON_Winter\n",
              "4881434                 ROBBERY   False  ...            0.0            1.0\n",
              "1374799  CRIMINAL LAW VIOLATION   False  ...            0.0            0.0\n",
              "1364844             SEX OFFENSE    True  ...            0.0            0.0\n",
              "6385174                 ROBBERY   False  ...            1.0            0.0\n",
              "3962036                 ROBBERY   False  ...            0.0            0.0\n",
              "\n",
              "[5 rows x 26 columns]"
            ]
          },
          "metadata": {},
          "execution_count": 13
        }
      ]
    },
    {
      "cell_type": "code",
      "metadata": {
        "id": "pWbUSV7lrArk"
      },
      "source": [
        "# Split our preprocessed data into our features and target arrays\n",
        "y = sample_dummies['Primary Type']\n",
        "X = sample_dummies.drop('Primary Type', axis=1)"
      ],
      "execution_count": 14,
      "outputs": []
    },
    {
      "cell_type": "code",
      "metadata": {
        "colab": {
          "base_uri": "https://localhost:8080/"
        },
        "id": "cOyGdOP3irq1",
        "outputId": "36d6e632-b4f8-4fd2-d983-a605d9aceda7"
      },
      "source": [
        "len(y.unique())"
      ],
      "execution_count": 37,
      "outputs": [
        {
          "output_type": "execute_result",
          "data": {
            "text/plain": [
              "12"
            ]
          },
          "metadata": {},
          "execution_count": 37
        }
      ]
    },
    {
      "cell_type": "code",
      "metadata": {
        "colab": {
          "base_uri": "https://localhost:8080/",
          "height": 478
        },
        "id": "zj0ujDalMvTc",
        "outputId": "af92414e-19fc-4420-c94a-940abf2170ce"
      },
      "source": [
        "X"
      ],
      "execution_count": 15,
      "outputs": [
        {
          "output_type": "execute_result",
          "data": {
            "text/html": [
              "<div>\n",
              "<style scoped>\n",
              "    .dataframe tbody tr th:only-of-type {\n",
              "        vertical-align: middle;\n",
              "    }\n",
              "\n",
              "    .dataframe tbody tr th {\n",
              "        vertical-align: top;\n",
              "    }\n",
              "\n",
              "    .dataframe thead th {\n",
              "        text-align: right;\n",
              "    }\n",
              "</style>\n",
              "<table border=\"1\" class=\"dataframe\">\n",
              "  <thead>\n",
              "    <tr style=\"text-align: right;\">\n",
              "      <th></th>\n",
              "      <th>Arrest</th>\n",
              "      <th>Domestic</th>\n",
              "      <th>Latitude</th>\n",
              "      <th>Longitude</th>\n",
              "      <th>Location Description_AIRPORT</th>\n",
              "      <th>Location Description_CHURCH</th>\n",
              "      <th>Location Description_COMMERCIAL BUILDING</th>\n",
              "      <th>Location Description_CTA</th>\n",
              "      <th>Location Description_EDUCATIONAL BUILDING</th>\n",
              "      <th>Location Description_FEDERAL PROPERTY</th>\n",
              "      <th>Location Description_HOSPITAL</th>\n",
              "      <th>Location Description_HOTEL</th>\n",
              "      <th>Location Description_OTHER</th>\n",
              "      <th>Location Description_PUBLIC ENTERTAINMENT</th>\n",
              "      <th>Location Description_PUBLIC OPEN SPACE</th>\n",
              "      <th>Location Description_RESIDENCE</th>\n",
              "      <th>Location Description_VEHICLE</th>\n",
              "      <th>HOUR_Afternoon</th>\n",
              "      <th>HOUR_Evening</th>\n",
              "      <th>HOUR_Morning</th>\n",
              "      <th>HOUR_Night</th>\n",
              "      <th>SEASON_Autumn</th>\n",
              "      <th>SEASON_Spring</th>\n",
              "      <th>SEASON_Summer</th>\n",
              "      <th>SEASON_Winter</th>\n",
              "    </tr>\n",
              "  </thead>\n",
              "  <tbody>\n",
              "    <tr>\n",
              "      <th>4881434</th>\n",
              "      <td>False</td>\n",
              "      <td>False</td>\n",
              "      <td>41.839816</td>\n",
              "      <td>-87.617516</td>\n",
              "      <td>0.0</td>\n",
              "      <td>0.0</td>\n",
              "      <td>0.0</td>\n",
              "      <td>0.0</td>\n",
              "      <td>1.0</td>\n",
              "      <td>0.0</td>\n",
              "      <td>0.0</td>\n",
              "      <td>0.0</td>\n",
              "      <td>0.0</td>\n",
              "      <td>0.0</td>\n",
              "      <td>0.0</td>\n",
              "      <td>0.0</td>\n",
              "      <td>0.0</td>\n",
              "      <td>1.0</td>\n",
              "      <td>0.0</td>\n",
              "      <td>0.0</td>\n",
              "      <td>0.0</td>\n",
              "      <td>0.0</td>\n",
              "      <td>0.0</td>\n",
              "      <td>0.0</td>\n",
              "      <td>1.0</td>\n",
              "    </tr>\n",
              "    <tr>\n",
              "      <th>1374799</th>\n",
              "      <td>False</td>\n",
              "      <td>False</td>\n",
              "      <td>41.786320</td>\n",
              "      <td>-87.654673</td>\n",
              "      <td>0.0</td>\n",
              "      <td>0.0</td>\n",
              "      <td>0.0</td>\n",
              "      <td>0.0</td>\n",
              "      <td>0.0</td>\n",
              "      <td>0.0</td>\n",
              "      <td>0.0</td>\n",
              "      <td>0.0</td>\n",
              "      <td>0.0</td>\n",
              "      <td>0.0</td>\n",
              "      <td>0.0</td>\n",
              "      <td>1.0</td>\n",
              "      <td>0.0</td>\n",
              "      <td>1.0</td>\n",
              "      <td>0.0</td>\n",
              "      <td>0.0</td>\n",
              "      <td>0.0</td>\n",
              "      <td>1.0</td>\n",
              "      <td>0.0</td>\n",
              "      <td>0.0</td>\n",
              "      <td>0.0</td>\n",
              "    </tr>\n",
              "    <tr>\n",
              "      <th>1364844</th>\n",
              "      <td>True</td>\n",
              "      <td>False</td>\n",
              "      <td>41.880519</td>\n",
              "      <td>-87.743442</td>\n",
              "      <td>0.0</td>\n",
              "      <td>0.0</td>\n",
              "      <td>0.0</td>\n",
              "      <td>0.0</td>\n",
              "      <td>0.0</td>\n",
              "      <td>0.0</td>\n",
              "      <td>0.0</td>\n",
              "      <td>0.0</td>\n",
              "      <td>0.0</td>\n",
              "      <td>0.0</td>\n",
              "      <td>1.0</td>\n",
              "      <td>0.0</td>\n",
              "      <td>0.0</td>\n",
              "      <td>1.0</td>\n",
              "      <td>0.0</td>\n",
              "      <td>0.0</td>\n",
              "      <td>0.0</td>\n",
              "      <td>1.0</td>\n",
              "      <td>0.0</td>\n",
              "      <td>0.0</td>\n",
              "      <td>0.0</td>\n",
              "    </tr>\n",
              "    <tr>\n",
              "      <th>6385174</th>\n",
              "      <td>False</td>\n",
              "      <td>False</td>\n",
              "      <td>41.807910</td>\n",
              "      <td>-87.677102</td>\n",
              "      <td>0.0</td>\n",
              "      <td>0.0</td>\n",
              "      <td>0.0</td>\n",
              "      <td>0.0</td>\n",
              "      <td>0.0</td>\n",
              "      <td>0.0</td>\n",
              "      <td>0.0</td>\n",
              "      <td>0.0</td>\n",
              "      <td>0.0</td>\n",
              "      <td>0.0</td>\n",
              "      <td>1.0</td>\n",
              "      <td>0.0</td>\n",
              "      <td>0.0</td>\n",
              "      <td>0.0</td>\n",
              "      <td>0.0</td>\n",
              "      <td>0.0</td>\n",
              "      <td>1.0</td>\n",
              "      <td>0.0</td>\n",
              "      <td>0.0</td>\n",
              "      <td>1.0</td>\n",
              "      <td>0.0</td>\n",
              "    </tr>\n",
              "    <tr>\n",
              "      <th>3962036</th>\n",
              "      <td>False</td>\n",
              "      <td>False</td>\n",
              "      <td>41.913615</td>\n",
              "      <td>-87.670215</td>\n",
              "      <td>0.0</td>\n",
              "      <td>0.0</td>\n",
              "      <td>0.0</td>\n",
              "      <td>0.0</td>\n",
              "      <td>0.0</td>\n",
              "      <td>0.0</td>\n",
              "      <td>0.0</td>\n",
              "      <td>0.0</td>\n",
              "      <td>0.0</td>\n",
              "      <td>0.0</td>\n",
              "      <td>1.0</td>\n",
              "      <td>0.0</td>\n",
              "      <td>0.0</td>\n",
              "      <td>0.0</td>\n",
              "      <td>1.0</td>\n",
              "      <td>0.0</td>\n",
              "      <td>0.0</td>\n",
              "      <td>1.0</td>\n",
              "      <td>0.0</td>\n",
              "      <td>0.0</td>\n",
              "      <td>0.0</td>\n",
              "    </tr>\n",
              "    <tr>\n",
              "      <th>...</th>\n",
              "      <td>...</td>\n",
              "      <td>...</td>\n",
              "      <td>...</td>\n",
              "      <td>...</td>\n",
              "      <td>...</td>\n",
              "      <td>...</td>\n",
              "      <td>...</td>\n",
              "      <td>...</td>\n",
              "      <td>...</td>\n",
              "      <td>...</td>\n",
              "      <td>...</td>\n",
              "      <td>...</td>\n",
              "      <td>...</td>\n",
              "      <td>...</td>\n",
              "      <td>...</td>\n",
              "      <td>...</td>\n",
              "      <td>...</td>\n",
              "      <td>...</td>\n",
              "      <td>...</td>\n",
              "      <td>...</td>\n",
              "      <td>...</td>\n",
              "      <td>...</td>\n",
              "      <td>...</td>\n",
              "      <td>...</td>\n",
              "      <td>...</td>\n",
              "    </tr>\n",
              "    <tr>\n",
              "      <th>2976193</th>\n",
              "      <td>False</td>\n",
              "      <td>False</td>\n",
              "      <td>41.909510</td>\n",
              "      <td>-87.755034</td>\n",
              "      <td>0.0</td>\n",
              "      <td>0.0</td>\n",
              "      <td>1.0</td>\n",
              "      <td>0.0</td>\n",
              "      <td>0.0</td>\n",
              "      <td>0.0</td>\n",
              "      <td>0.0</td>\n",
              "      <td>0.0</td>\n",
              "      <td>0.0</td>\n",
              "      <td>0.0</td>\n",
              "      <td>0.0</td>\n",
              "      <td>0.0</td>\n",
              "      <td>0.0</td>\n",
              "      <td>0.0</td>\n",
              "      <td>0.0</td>\n",
              "      <td>1.0</td>\n",
              "      <td>0.0</td>\n",
              "      <td>0.0</td>\n",
              "      <td>1.0</td>\n",
              "      <td>0.0</td>\n",
              "      <td>0.0</td>\n",
              "    </tr>\n",
              "    <tr>\n",
              "      <th>5507828</th>\n",
              "      <td>True</td>\n",
              "      <td>True</td>\n",
              "      <td>41.854658</td>\n",
              "      <td>-87.708992</td>\n",
              "      <td>0.0</td>\n",
              "      <td>0.0</td>\n",
              "      <td>0.0</td>\n",
              "      <td>0.0</td>\n",
              "      <td>0.0</td>\n",
              "      <td>0.0</td>\n",
              "      <td>0.0</td>\n",
              "      <td>0.0</td>\n",
              "      <td>0.0</td>\n",
              "      <td>0.0</td>\n",
              "      <td>0.0</td>\n",
              "      <td>1.0</td>\n",
              "      <td>0.0</td>\n",
              "      <td>0.0</td>\n",
              "      <td>1.0</td>\n",
              "      <td>0.0</td>\n",
              "      <td>0.0</td>\n",
              "      <td>1.0</td>\n",
              "      <td>0.0</td>\n",
              "      <td>0.0</td>\n",
              "      <td>0.0</td>\n",
              "    </tr>\n",
              "    <tr>\n",
              "      <th>2176461</th>\n",
              "      <td>False</td>\n",
              "      <td>True</td>\n",
              "      <td>41.894315</td>\n",
              "      <td>-87.717501</td>\n",
              "      <td>0.0</td>\n",
              "      <td>0.0</td>\n",
              "      <td>0.0</td>\n",
              "      <td>0.0</td>\n",
              "      <td>0.0</td>\n",
              "      <td>0.0</td>\n",
              "      <td>0.0</td>\n",
              "      <td>0.0</td>\n",
              "      <td>0.0</td>\n",
              "      <td>0.0</td>\n",
              "      <td>0.0</td>\n",
              "      <td>1.0</td>\n",
              "      <td>0.0</td>\n",
              "      <td>0.0</td>\n",
              "      <td>0.0</td>\n",
              "      <td>0.0</td>\n",
              "      <td>1.0</td>\n",
              "      <td>1.0</td>\n",
              "      <td>0.0</td>\n",
              "      <td>0.0</td>\n",
              "      <td>0.0</td>\n",
              "    </tr>\n",
              "    <tr>\n",
              "      <th>6054245</th>\n",
              "      <td>False</td>\n",
              "      <td>False</td>\n",
              "      <td>41.917787</td>\n",
              "      <td>-87.732697</td>\n",
              "      <td>0.0</td>\n",
              "      <td>0.0</td>\n",
              "      <td>0.0</td>\n",
              "      <td>0.0</td>\n",
              "      <td>0.0</td>\n",
              "      <td>0.0</td>\n",
              "      <td>0.0</td>\n",
              "      <td>0.0</td>\n",
              "      <td>0.0</td>\n",
              "      <td>0.0</td>\n",
              "      <td>0.0</td>\n",
              "      <td>1.0</td>\n",
              "      <td>0.0</td>\n",
              "      <td>1.0</td>\n",
              "      <td>0.0</td>\n",
              "      <td>0.0</td>\n",
              "      <td>0.0</td>\n",
              "      <td>1.0</td>\n",
              "      <td>0.0</td>\n",
              "      <td>0.0</td>\n",
              "      <td>0.0</td>\n",
              "    </tr>\n",
              "    <tr>\n",
              "      <th>5924489</th>\n",
              "      <td>False</td>\n",
              "      <td>False</td>\n",
              "      <td>42.002647</td>\n",
              "      <td>-87.668085</td>\n",
              "      <td>0.0</td>\n",
              "      <td>0.0</td>\n",
              "      <td>0.0</td>\n",
              "      <td>0.0</td>\n",
              "      <td>0.0</td>\n",
              "      <td>0.0</td>\n",
              "      <td>0.0</td>\n",
              "      <td>0.0</td>\n",
              "      <td>0.0</td>\n",
              "      <td>0.0</td>\n",
              "      <td>0.0</td>\n",
              "      <td>1.0</td>\n",
              "      <td>0.0</td>\n",
              "      <td>0.0</td>\n",
              "      <td>1.0</td>\n",
              "      <td>0.0</td>\n",
              "      <td>0.0</td>\n",
              "      <td>0.0</td>\n",
              "      <td>0.0</td>\n",
              "      <td>0.0</td>\n",
              "      <td>1.0</td>\n",
              "    </tr>\n",
              "  </tbody>\n",
              "</table>\n",
              "<p>334596 rows × 25 columns</p>\n",
              "</div>"
            ],
            "text/plain": [
              "         Arrest  Domestic  ...  SEASON_Summer  SEASON_Winter\n",
              "4881434   False     False  ...            0.0            1.0\n",
              "1374799   False     False  ...            0.0            0.0\n",
              "1364844    True     False  ...            0.0            0.0\n",
              "6385174   False     False  ...            1.0            0.0\n",
              "3962036   False     False  ...            0.0            0.0\n",
              "...         ...       ...  ...            ...            ...\n",
              "2976193   False     False  ...            0.0            0.0\n",
              "5507828    True      True  ...            0.0            0.0\n",
              "2176461   False      True  ...            0.0            0.0\n",
              "6054245   False     False  ...            0.0            0.0\n",
              "5924489   False     False  ...            0.0            1.0\n",
              "\n",
              "[334596 rows x 25 columns]"
            ]
          },
          "metadata": {},
          "execution_count": 15
        }
      ]
    },
    {
      "cell_type": "code",
      "metadata": {
        "colab": {
          "base_uri": "https://localhost:8080/"
        },
        "id": "mRBr34e4M6Yu",
        "outputId": "a44b0fe0-9384-4f42-ccca-ca0ba7449877"
      },
      "source": [
        "len(y.unique())"
      ],
      "execution_count": 16,
      "outputs": [
        {
          "output_type": "execute_result",
          "data": {
            "text/plain": [
              "12"
            ]
          },
          "metadata": {},
          "execution_count": 16
        }
      ]
    },
    {
      "cell_type": "code",
      "metadata": {
        "colab": {
          "base_uri": "https://localhost:8080/"
        },
        "id": "CKKmyhlPBHUQ",
        "outputId": "bd212045-c899-41c1-8781-80527088afae"
      },
      "source": [
        "from sklearn import preprocessing\n",
        "le = preprocessing.LabelEncoder()\n",
        "le.fit(y)\n",
        "list(le.classes_)\n",
        "y_label = le.transform(y)\n",
        "y_label"
      ],
      "execution_count": 17,
      "outputs": [
        {
          "output_type": "execute_result",
          "data": {
            "text/plain": [
              "array([10,  2, 11, ...,  1, 10, 11])"
            ]
          },
          "metadata": {},
          "execution_count": 17
        }
      ]
    },
    {
      "cell_type": "code",
      "metadata": {
        "colab": {
          "base_uri": "https://localhost:8080/"
        },
        "id": "iP8r51d_BHUR",
        "outputId": "0734e3dd-3fa0-4b1a-b974-df3ea4443903"
      },
      "source": [
        "len(y_label)"
      ],
      "execution_count": 18,
      "outputs": [
        {
          "output_type": "execute_result",
          "data": {
            "text/plain": [
              "334596"
            ]
          },
          "metadata": {},
          "execution_count": 18
        }
      ]
    },
    {
      "cell_type": "code",
      "metadata": {
        "colab": {
          "base_uri": "https://localhost:8080/"
        },
        "id": "9HdCLAgLM-LH",
        "outputId": "6e3723bf-5d9e-4c5c-9b90-18079e36452f"
      },
      "source": [
        "y_label.shape"
      ],
      "execution_count": 19,
      "outputs": [
        {
          "output_type": "execute_result",
          "data": {
            "text/plain": [
              "(334596,)"
            ]
          },
          "metadata": {},
          "execution_count": 19
        }
      ]
    },
    {
      "cell_type": "code",
      "metadata": {
        "id": "vlGAByG_id94"
      },
      "source": [
        "from tensorflow.keras.utils import to_categorical\n"
      ],
      "execution_count": 38,
      "outputs": []
    },
    {
      "cell_type": "code",
      "metadata": {
        "colab": {
          "base_uri": "https://localhost:8080/"
        },
        "id": "TLOBK1sLi_C2",
        "outputId": "3b336aa5-3ea3-4592-b4be-1e3a51456374"
      },
      "source": [
        "Y = to_categorical(y_label, 12)\n",
        "Y"
      ],
      "execution_count": 40,
      "outputs": [
        {
          "output_type": "execute_result",
          "data": {
            "text/plain": [
              "array([[0., 0., 0., ..., 0., 1., 0.],\n",
              "       [0., 0., 1., ..., 0., 0., 0.],\n",
              "       [0., 0., 0., ..., 0., 0., 1.],\n",
              "       ...,\n",
              "       [0., 1., 0., ..., 0., 0., 0.],\n",
              "       [0., 0., 0., ..., 0., 1., 0.],\n",
              "       [0., 0., 0., ..., 0., 0., 1.]], dtype=float32)"
            ]
          },
          "metadata": {},
          "execution_count": 40
        }
      ]
    },
    {
      "cell_type": "code",
      "metadata": {
        "id": "RkMMw3knBHUS"
      },
      "source": [
        "# Split the preprocessed data into a training and testing dataset\n",
        "X_train, X_test, y_train, y_test = train_test_split(X,Y,random_state= 42)"
      ],
      "execution_count": 41,
      "outputs": []
    },
    {
      "cell_type": "code",
      "metadata": {
        "id": "X76d2g6TBHUT"
      },
      "source": [
        "# Standardizing dataset so columns that contain larger values do not unduly influence the outcome\n",
        "scaler = StandardScaler().fit(X)\n",
        "X_train_scaled = scaler.transform(X_train)\n",
        "X_test_scaled = scaler.transform(X_test)"
      ],
      "execution_count": 42,
      "outputs": []
    },
    {
      "cell_type": "code",
      "metadata": {
        "colab": {
          "base_uri": "https://localhost:8080/"
        },
        "id": "Yj0vLcP1MEyg",
        "outputId": "5d378c5e-c1e0-4f3a-c92c-9842d7b1afb1"
      },
      "source": [
        "X_train_scaled.shape"
      ],
      "execution_count": 43,
      "outputs": [
        {
          "output_type": "execute_result",
          "data": {
            "text/plain": [
              "(250947, 25)"
            ]
          },
          "metadata": {},
          "execution_count": 43
        }
      ]
    },
    {
      "cell_type": "code",
      "metadata": {
        "colab": {
          "base_uri": "https://localhost:8080/"
        },
        "id": "e9pSQe4hjT5X",
        "outputId": "75938a28-7536-4eda-e4ca-f7e48a668ef8"
      },
      "source": [
        "y_train.shape"
      ],
      "execution_count": 45,
      "outputs": [
        {
          "output_type": "execute_result",
          "data": {
            "text/plain": [
              "(250947, 12)"
            ]
          },
          "metadata": {},
          "execution_count": 45
        }
      ]
    },
    {
      "cell_type": "markdown",
      "metadata": {
        "id": "NZXo-gsIBHUT"
      },
      "source": [
        "# Neural Network\n"
      ]
    },
    {
      "cell_type": "code",
      "metadata": {
        "colab": {
          "base_uri": "https://localhost:8080/"
        },
        "id": "5-fPYxPiBHUY",
        "outputId": "ca4b40eb-2649-49be-b126-8830576ecaaa"
      },
      "source": [
        "# Define the model - deep neural net, i.e., the number of input features and hidden nodes for each layer.\n",
        "\n",
        "\n",
        "nn = tf.keras.models.Sequential()\n",
        "\n",
        "# # First hidden layer\n",
        "nn.add(tf.keras.layers.Dense(units=100, activation=\"relu\", input_dim=25))\n",
        "\n",
        "# # Second hidden layer\n",
        "nn.add(tf.keras.layers.Dense(units=50, activation=\"relu\"))\n",
        "\n",
        "# # Third hidden layer\n",
        "nn.add(tf.keras.layers.Dense(units=30, activation=\"relu\"))\n",
        "\n",
        "# # Output layer\n",
        "nn.add(tf.keras.layers.Dense(units=12, activation=\"softmax\"))\n",
        "\n",
        "# # Check the structure of the model\n",
        "nn.summary()"
      ],
      "execution_count": 62,
      "outputs": [
        {
          "output_type": "stream",
          "name": "stdout",
          "text": [
            "Model: \"sequential_8\"\n",
            "_________________________________________________________________\n",
            "Layer (type)                 Output Shape              Param #   \n",
            "=================================================================\n",
            "dense_24 (Dense)             (None, 100)               2600      \n",
            "_________________________________________________________________\n",
            "dense_25 (Dense)             (None, 50)                5050      \n",
            "_________________________________________________________________\n",
            "dense_26 (Dense)             (None, 30)                1530      \n",
            "_________________________________________________________________\n",
            "dense_27 (Dense)             (None, 12)                372       \n",
            "=================================================================\n",
            "Total params: 9,552\n",
            "Trainable params: 9,552\n",
            "Non-trainable params: 0\n",
            "_________________________________________________________________\n"
          ]
        }
      ]
    },
    {
      "cell_type": "code",
      "metadata": {
        "id": "QWe3URoxMBh3"
      },
      "source": [
        "# Compile the model\n",
        "nn.compile(loss=\"categorical_crossentropy\", optimizer=\"adam\", metrics=[\"accuracy\"])"
      ],
      "execution_count": 63,
      "outputs": []
    },
    {
      "cell_type": "code",
      "metadata": {
        "colab": {
          "base_uri": "https://localhost:8080/"
        },
        "id": "AWfERol7Mb7H",
        "outputId": "30d04ba4-4098-47d5-885e-bd28cc8017aa"
      },
      "source": [
        "y_train.shape"
      ],
      "execution_count": 64,
      "outputs": [
        {
          "output_type": "execute_result",
          "data": {
            "text/plain": [
              "(250947, 12)"
            ]
          },
          "metadata": {},
          "execution_count": 64
        }
      ]
    },
    {
      "cell_type": "code",
      "metadata": {
        "colab": {
          "base_uri": "https://localhost:8080/"
        },
        "id": "vYklXL3XMQGt",
        "outputId": "99d11165-0082-4052-db13-52d097cf446e"
      },
      "source": [
        "# Train the model\n",
        "fit_model = nn.fit(X_train_scaled, y_train, epochs=100)"
      ],
      "execution_count": 65,
      "outputs": [
        {
          "output_type": "stream",
          "name": "stdout",
          "text": [
            "Epoch 1/100\n",
            "7843/7843 [==============================] - 15s 2ms/step - loss: 1.2453 - accuracy: 0.5295\n",
            "Epoch 2/100\n",
            "7843/7843 [==============================] - 14s 2ms/step - loss: 1.2247 - accuracy: 0.5334\n",
            "Epoch 3/100\n",
            "7843/7843 [==============================] - 14s 2ms/step - loss: 1.2189 - accuracy: 0.5345\n",
            "Epoch 4/100\n",
            "7843/7843 [==============================] - 15s 2ms/step - loss: 1.2155 - accuracy: 0.5353\n",
            "Epoch 5/100\n",
            "7843/7843 [==============================] - 15s 2ms/step - loss: 1.2135 - accuracy: 0.5351\n",
            "Epoch 6/100\n",
            "7843/7843 [==============================] - 16s 2ms/step - loss: 1.2117 - accuracy: 0.5359\n",
            "Epoch 7/100\n",
            "7843/7843 [==============================] - 15s 2ms/step - loss: 1.2106 - accuracy: 0.5356\n",
            "Epoch 8/100\n",
            "7843/7843 [==============================] - 15s 2ms/step - loss: 1.2092 - accuracy: 0.5364\n",
            "Epoch 9/100\n",
            "7843/7843 [==============================] - 15s 2ms/step - loss: 1.2083 - accuracy: 0.5364\n",
            "Epoch 10/100\n",
            "7843/7843 [==============================] - 15s 2ms/step - loss: 1.2077 - accuracy: 0.5370\n",
            "Epoch 11/100\n",
            "7843/7843 [==============================] - 15s 2ms/step - loss: 1.2067 - accuracy: 0.5361\n",
            "Epoch 12/100\n",
            "7843/7843 [==============================] - 15s 2ms/step - loss: 1.2060 - accuracy: 0.5370\n",
            "Epoch 13/100\n",
            "7843/7843 [==============================] - 16s 2ms/step - loss: 1.2052 - accuracy: 0.5375\n",
            "Epoch 14/100\n",
            "7843/7843 [==============================] - 16s 2ms/step - loss: 1.2048 - accuracy: 0.5376\n",
            "Epoch 15/100\n",
            "7843/7843 [==============================] - 16s 2ms/step - loss: 1.2043 - accuracy: 0.5373\n",
            "Epoch 16/100\n",
            "7843/7843 [==============================] - 16s 2ms/step - loss: 1.2038 - accuracy: 0.5373\n",
            "Epoch 17/100\n",
            "7843/7843 [==============================] - 15s 2ms/step - loss: 1.2032 - accuracy: 0.5374\n",
            "Epoch 18/100\n",
            "7843/7843 [==============================] - 15s 2ms/step - loss: 1.2027 - accuracy: 0.5370\n",
            "Epoch 19/100\n",
            "7843/7843 [==============================] - 15s 2ms/step - loss: 1.2022 - accuracy: 0.5378\n",
            "Epoch 20/100\n",
            "7843/7843 [==============================] - 15s 2ms/step - loss: 1.2018 - accuracy: 0.5375\n",
            "Epoch 21/100\n",
            "7843/7843 [==============================] - 16s 2ms/step - loss: 1.2016 - accuracy: 0.5376\n",
            "Epoch 22/100\n",
            "7843/7843 [==============================] - 15s 2ms/step - loss: 1.2008 - accuracy: 0.5378\n",
            "Epoch 23/100\n",
            "7843/7843 [==============================] - 15s 2ms/step - loss: 1.2006 - accuracy: 0.5377\n",
            "Epoch 24/100\n",
            "7843/7843 [==============================] - 15s 2ms/step - loss: 1.2000 - accuracy: 0.5379\n",
            "Epoch 25/100\n",
            "7843/7843 [==============================] - 15s 2ms/step - loss: 1.1996 - accuracy: 0.5380\n",
            "Epoch 26/100\n",
            "7843/7843 [==============================] - 15s 2ms/step - loss: 1.1995 - accuracy: 0.5381\n",
            "Epoch 27/100\n",
            "7843/7843 [==============================] - 15s 2ms/step - loss: 1.1987 - accuracy: 0.5380\n",
            "Epoch 28/100\n",
            "7843/7843 [==============================] - 15s 2ms/step - loss: 1.1985 - accuracy: 0.5379\n",
            "Epoch 29/100\n",
            "7843/7843 [==============================] - 15s 2ms/step - loss: 1.1986 - accuracy: 0.5381\n",
            "Epoch 30/100\n",
            "7843/7843 [==============================] - 15s 2ms/step - loss: 1.1979 - accuracy: 0.5385\n",
            "Epoch 31/100\n",
            "7843/7843 [==============================] - 15s 2ms/step - loss: 1.1979 - accuracy: 0.5381\n",
            "Epoch 32/100\n",
            "7843/7843 [==============================] - 16s 2ms/step - loss: 1.1975 - accuracy: 0.5388\n",
            "Epoch 33/100\n",
            "7843/7843 [==============================] - 15s 2ms/step - loss: 1.1972 - accuracy: 0.5384\n",
            "Epoch 34/100\n",
            "7843/7843 [==============================] - 15s 2ms/step - loss: 1.1973 - accuracy: 0.5385\n",
            "Epoch 35/100\n",
            "7843/7843 [==============================] - 15s 2ms/step - loss: 1.1970 - accuracy: 0.5382\n",
            "Epoch 36/100\n",
            "7843/7843 [==============================] - 15s 2ms/step - loss: 1.1971 - accuracy: 0.5387\n",
            "Epoch 37/100\n",
            "7843/7843 [==============================] - 15s 2ms/step - loss: 1.1964 - accuracy: 0.5388\n",
            "Epoch 38/100\n",
            "7843/7843 [==============================] - 15s 2ms/step - loss: 1.1962 - accuracy: 0.5386\n",
            "Epoch 39/100\n",
            "7843/7843 [==============================] - 15s 2ms/step - loss: 1.1961 - accuracy: 0.5385\n",
            "Epoch 40/100\n",
            "7843/7843 [==============================] - 16s 2ms/step - loss: 1.1957 - accuracy: 0.5390\n",
            "Epoch 41/100\n",
            "7843/7843 [==============================] - 15s 2ms/step - loss: 1.1959 - accuracy: 0.5388\n",
            "Epoch 42/100\n",
            "7843/7843 [==============================] - 15s 2ms/step - loss: 1.1960 - accuracy: 0.5392\n",
            "Epoch 43/100\n",
            "7843/7843 [==============================] - 15s 2ms/step - loss: 1.1956 - accuracy: 0.5385\n",
            "Epoch 44/100\n",
            "7843/7843 [==============================] - 15s 2ms/step - loss: 1.1956 - accuracy: 0.5386\n",
            "Epoch 45/100\n",
            "7843/7843 [==============================] - 16s 2ms/step - loss: 1.1954 - accuracy: 0.5391\n",
            "Epoch 46/100\n",
            "7843/7843 [==============================] - 16s 2ms/step - loss: 1.1956 - accuracy: 0.5383\n",
            "Epoch 47/100\n",
            "7843/7843 [==============================] - 16s 2ms/step - loss: 1.1952 - accuracy: 0.5388\n",
            "Epoch 48/100\n",
            "7843/7843 [==============================] - 16s 2ms/step - loss: 1.1952 - accuracy: 0.5390\n",
            "Epoch 49/100\n",
            "7843/7843 [==============================] - 16s 2ms/step - loss: 1.1950 - accuracy: 0.5391\n",
            "Epoch 50/100\n",
            "7843/7843 [==============================] - 15s 2ms/step - loss: 1.1943 - accuracy: 0.5391\n",
            "Epoch 51/100\n",
            "7843/7843 [==============================] - 16s 2ms/step - loss: 1.1949 - accuracy: 0.5386\n",
            "Epoch 52/100\n",
            "7843/7843 [==============================] - 17s 2ms/step - loss: 1.1946 - accuracy: 0.5390\n",
            "Epoch 53/100\n",
            "7843/7843 [==============================] - 15s 2ms/step - loss: 1.1942 - accuracy: 0.5389\n",
            "Epoch 54/100\n",
            "7843/7843 [==============================] - 16s 2ms/step - loss: 1.1944 - accuracy: 0.5389\n",
            "Epoch 55/100\n",
            "7843/7843 [==============================] - 16s 2ms/step - loss: 1.1945 - accuracy: 0.5388\n",
            "Epoch 56/100\n",
            "7843/7843 [==============================] - 16s 2ms/step - loss: 1.1940 - accuracy: 0.5388\n",
            "Epoch 57/100\n",
            "7843/7843 [==============================] - 15s 2ms/step - loss: 1.1941 - accuracy: 0.5391\n",
            "Epoch 58/100\n",
            "7843/7843 [==============================] - 16s 2ms/step - loss: 1.1938 - accuracy: 0.5391\n",
            "Epoch 59/100\n",
            "7843/7843 [==============================] - 16s 2ms/step - loss: 1.1936 - accuracy: 0.5391\n",
            "Epoch 60/100\n",
            "7843/7843 [==============================] - 17s 2ms/step - loss: 1.1939 - accuracy: 0.5391\n",
            "Epoch 61/100\n",
            "7843/7843 [==============================] - 16s 2ms/step - loss: 1.1937 - accuracy: 0.5399\n",
            "Epoch 62/100\n",
            "7843/7843 [==============================] - 16s 2ms/step - loss: 1.1935 - accuracy: 0.5391\n",
            "Epoch 63/100\n",
            "7843/7843 [==============================] - 17s 2ms/step - loss: 1.1933 - accuracy: 0.5396\n",
            "Epoch 64/100\n",
            "7843/7843 [==============================] - 17s 2ms/step - loss: 1.1932 - accuracy: 0.5388\n",
            "Epoch 65/100\n",
            "7843/7843 [==============================] - 17s 2ms/step - loss: 1.1931 - accuracy: 0.5394\n",
            "Epoch 66/100\n",
            "7843/7843 [==============================] - 16s 2ms/step - loss: 1.1931 - accuracy: 0.5393\n",
            "Epoch 67/100\n",
            "7843/7843 [==============================] - 17s 2ms/step - loss: 1.1931 - accuracy: 0.5393\n",
            "Epoch 68/100\n",
            "7843/7843 [==============================] - 17s 2ms/step - loss: 1.1933 - accuracy: 0.5385\n",
            "Epoch 69/100\n",
            "7843/7843 [==============================] - 16s 2ms/step - loss: 1.1930 - accuracy: 0.5393\n",
            "Epoch 70/100\n",
            "7843/7843 [==============================] - 17s 2ms/step - loss: 1.1927 - accuracy: 0.5392\n",
            "Epoch 71/100\n",
            "7843/7843 [==============================] - 16s 2ms/step - loss: 1.1930 - accuracy: 0.5392\n",
            "Epoch 72/100\n",
            "7843/7843 [==============================] - 16s 2ms/step - loss: 1.1930 - accuracy: 0.5392\n",
            "Epoch 73/100\n",
            "7843/7843 [==============================] - 17s 2ms/step - loss: 1.1929 - accuracy: 0.5392\n",
            "Epoch 74/100\n",
            "7843/7843 [==============================] - 17s 2ms/step - loss: 1.1923 - accuracy: 0.5393\n",
            "Epoch 75/100\n",
            "7843/7843 [==============================] - 16s 2ms/step - loss: 1.1927 - accuracy: 0.5396\n",
            "Epoch 76/100\n",
            "7843/7843 [==============================] - 16s 2ms/step - loss: 1.1924 - accuracy: 0.5398\n",
            "Epoch 77/100\n",
            "7843/7843 [==============================] - 17s 2ms/step - loss: 1.1922 - accuracy: 0.5398\n",
            "Epoch 78/100\n",
            "7843/7843 [==============================] - 17s 2ms/step - loss: 1.1941 - accuracy: 0.5393\n",
            "Epoch 79/100\n",
            "7843/7843 [==============================] - 17s 2ms/step - loss: 1.1922 - accuracy: 0.5397\n",
            "Epoch 80/100\n",
            "7843/7843 [==============================] - 16s 2ms/step - loss: 1.1920 - accuracy: 0.5399\n",
            "Epoch 81/100\n",
            "7843/7843 [==============================] - 16s 2ms/step - loss: 1.1929 - accuracy: 0.5393\n",
            "Epoch 82/100\n",
            "7843/7843 [==============================] - 16s 2ms/step - loss: 1.1920 - accuracy: 0.5398\n",
            "Epoch 83/100\n",
            "7843/7843 [==============================] - 16s 2ms/step - loss: 1.1921 - accuracy: 0.5398\n",
            "Epoch 84/100\n",
            "7843/7843 [==============================] - 16s 2ms/step - loss: 1.1923 - accuracy: 0.5397\n",
            "Epoch 85/100\n",
            "7843/7843 [==============================] - 16s 2ms/step - loss: 1.1919 - accuracy: 0.5395\n",
            "Epoch 86/100\n",
            "7843/7843 [==============================] - 16s 2ms/step - loss: 1.1932 - accuracy: 0.5397\n",
            "Epoch 87/100\n",
            "7843/7843 [==============================] - 16s 2ms/step - loss: 1.1920 - accuracy: 0.5396\n",
            "Epoch 88/100\n",
            "7843/7843 [==============================] - 17s 2ms/step - loss: 1.1921 - accuracy: 0.5393\n",
            "Epoch 89/100\n",
            "7843/7843 [==============================] - 17s 2ms/step - loss: 1.1924 - accuracy: 0.5398\n",
            "Epoch 90/100\n",
            "7843/7843 [==============================] - 16s 2ms/step - loss: 1.1921 - accuracy: 0.5397\n",
            "Epoch 91/100\n",
            "7843/7843 [==============================] - 17s 2ms/step - loss: 1.1920 - accuracy: 0.5393\n",
            "Epoch 92/100\n",
            "7843/7843 [==============================] - 17s 2ms/step - loss: 1.1920 - accuracy: 0.5396\n",
            "Epoch 93/100\n",
            "7843/7843 [==============================] - 16s 2ms/step - loss: 1.1914 - accuracy: 0.5395\n",
            "Epoch 94/100\n",
            "7843/7843 [==============================] - 16s 2ms/step - loss: 1.1914 - accuracy: 0.5399\n",
            "Epoch 95/100\n",
            "7843/7843 [==============================] - 17s 2ms/step - loss: 1.1922 - accuracy: 0.5389\n",
            "Epoch 96/100\n",
            "7843/7843 [==============================] - 18s 2ms/step - loss: 1.1918 - accuracy: 0.5400\n",
            "Epoch 97/100\n",
            "7843/7843 [==============================] - 17s 2ms/step - loss: 1.1920 - accuracy: 0.5398\n",
            "Epoch 98/100\n",
            "7843/7843 [==============================] - 17s 2ms/step - loss: 1.1917 - accuracy: 0.5398\n",
            "Epoch 99/100\n",
            "7843/7843 [==============================] - 17s 2ms/step - loss: 1.1914 - accuracy: 0.5399\n",
            "Epoch 100/100\n",
            "7843/7843 [==============================] - 16s 2ms/step - loss: 1.1918 - accuracy: 0.5401\n"
          ]
        }
      ]
    },
    {
      "cell_type": "code",
      "metadata": {
        "colab": {
          "base_uri": "https://localhost:8080/"
        },
        "id": "ym4IVjomMUeC",
        "outputId": "6a5500f5-8cd6-423f-8321-61809ab70616"
      },
      "source": [
        "# Evaluate the model using the training data \n",
        "model_loss, model_accuracy = nn.evaluate(X_test_scaled, y_test, verbose=2)\n",
        "print(f\"Loss: {model_loss}, Accuracy: {model_accuracy}\")"
      ],
      "execution_count": 66,
      "outputs": [
        {
          "output_type": "stream",
          "name": "stdout",
          "text": [
            "2615/2615 - 3s - loss: 1.2248 - accuracy: 0.5355\n",
            "Loss: 1.2248083353042603, Accuracy: 0.5354875922203064\n"
          ]
        }
      ]
    },
    {
      "cell_type": "code",
      "metadata": {
        "id": "cZ0NItyVo9XI"
      },
      "source": [
        ""
      ],
      "execution_count": null,
      "outputs": []
    }
  ]
}