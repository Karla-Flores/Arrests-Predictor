{
  "nbformat": 4,
  "nbformat_minor": 0,
  "metadata": {
    "colab": {
      "name": "Chicago_Crime_LR-crimetype_nn.ipynb",
      "provenance": [],
      "collapsed_sections": [],
      "include_colab_link": true
    },
    "kernelspec": {
      "display_name": "Python 3",
      "language": "python",
      "name": "python3"
    },
    "language_info": {
      "codemirror_mode": {
        "name": "ipython",
        "version": 3
      },
      "file_extension": ".py",
      "mimetype": "text/x-python",
      "name": "python",
      "nbconvert_exporter": "python",
      "pygments_lexer": "ipython3",
      "version": "3.8.5"
    }
  },
  "cells": [
    {
      "cell_type": "markdown",
      "metadata": {
        "id": "view-in-github",
        "colab_type": "text"
      },
      "source": [
        "<a href=\"https://colab.research.google.com/github/Karla-Flores/Project-04/blob/main/Model/Chicago_Crime_crimetype_nn.ipynb\" target=\"_parent\"><img src=\"https://colab.research.google.com/assets/colab-badge.svg\" alt=\"Open In Colab\"/></a>"
      ]
    },
    {
      "cell_type": "markdown",
      "metadata": {
        "id": "jZN5JUejZM9Z"
      },
      "source": [
        "\n",
        "# **Preprocessing**"
      ]
    },
    {
      "cell_type": "code",
      "metadata": {
        "id": "-f8wn-tjZi4F"
      },
      "source": [
        "# Import our dependencies\n",
        "from sklearn.model_selection import train_test_split\n",
        "from sklearn.preprocessing import StandardScaler\n",
        "from sklearn.linear_model import LogisticRegression\n",
        "from sklearn.metrics import classification_report\n",
        "from sklearn.linear_model import SGDClassifier\n",
        "import tensorflow as tf\n",
        "import matplotlib.pyplot as plt\n",
        "import pandas as pd\n",
        "import numpy as np"
      ],
      "execution_count": 6,
      "outputs": []
    },
    {
      "cell_type": "code",
      "metadata": {
        "colab": {
          "resources": {
            "http://localhost:8080/nbextensions/google.colab/files.js": {
              "data": "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",
              "ok": true,
              "headers": [
                [
                  "content-type",
                  "application/javascript"
                ]
              ],
              "status": 200,
              "status_text": ""
            }
          },
          "base_uri": "https://localhost:8080/",
          "height": 73
        },
        "id": "HCIujZqZBtp6",
        "outputId": "ddc284ef-a251-4640-e380-cfe39489ba1a"
      },
      "source": [
        "from google.colab import files\n",
        "uploaded = files.upload()"
      ],
      "execution_count": 2,
      "outputs": [
        {
          "output_type": "display_data",
          "data": {
            "text/html": [
              "\n",
              "     <input type=\"file\" id=\"files-5c39661e-1fc9-498c-a0c5-a74ae1fb78e4\" name=\"files[]\" multiple disabled\n",
              "        style=\"border:none\" />\n",
              "     <output id=\"result-5c39661e-1fc9-498c-a0c5-a74ae1fb78e4\">\n",
              "      Upload widget is only available when the cell has been executed in the\n",
              "      current browser session. Please rerun this cell to enable.\n",
              "      </output>\n",
              "      <script src=\"/nbextensions/google.colab/files.js\"></script> "
            ],
            "text/plain": [
              "<IPython.core.display.HTML object>"
            ]
          },
          "metadata": {}
        },
        {
          "output_type": "stream",
          "name": "stdout",
          "text": [
            "Saving chicago_crime_db.csv to chicago_crime_db.csv\n"
          ]
        }
      ]
    },
    {
      "cell_type": "code",
      "metadata": {
        "colab": {
          "base_uri": "https://localhost:8080/",
          "height": 363
        },
        "id": "8QnexXhTgVUT",
        "outputId": "e99e9f36-6ea7-4cc6-be0f-046e058a0830"
      },
      "source": [
        "# Uploading ETL file\n",
        "data = pd.read_csv('chicago_crime_db.csv')\n",
        "data.head(10)"
      ],
      "execution_count": 7,
      "outputs": [
        {
          "output_type": "execute_result",
          "data": {
            "text/html": [
              "<div>\n",
              "<style scoped>\n",
              "    .dataframe tbody tr th:only-of-type {\n",
              "        vertical-align: middle;\n",
              "    }\n",
              "\n",
              "    .dataframe tbody tr th {\n",
              "        vertical-align: top;\n",
              "    }\n",
              "\n",
              "    .dataframe thead th {\n",
              "        text-align: right;\n",
              "    }\n",
              "</style>\n",
              "<table border=\"1\" class=\"dataframe\">\n",
              "  <thead>\n",
              "    <tr style=\"text-align: right;\">\n",
              "      <th></th>\n",
              "      <th>Primary Type</th>\n",
              "      <th>Arrest</th>\n",
              "      <th>Domestic</th>\n",
              "      <th>Latitude</th>\n",
              "      <th>Longitude</th>\n",
              "      <th>Location Description</th>\n",
              "      <th>HOUR</th>\n",
              "      <th>SEASON</th>\n",
              "    </tr>\n",
              "  </thead>\n",
              "  <tbody>\n",
              "    <tr>\n",
              "      <th>0</th>\n",
              "      <td>BATTERY</td>\n",
              "      <td>False</td>\n",
              "      <td>True</td>\n",
              "      <td>41.815117</td>\n",
              "      <td>-87.670000</td>\n",
              "      <td>RESIDENCE</td>\n",
              "      <td>Afternoon</td>\n",
              "      <td>Autumn</td>\n",
              "    </tr>\n",
              "    <tr>\n",
              "      <th>1</th>\n",
              "      <td>THEFT</td>\n",
              "      <td>False</td>\n",
              "      <td>False</td>\n",
              "      <td>41.895080</td>\n",
              "      <td>-87.765400</td>\n",
              "      <td>CTA</td>\n",
              "      <td>Morning</td>\n",
              "      <td>Autumn</td>\n",
              "    </tr>\n",
              "    <tr>\n",
              "      <th>2</th>\n",
              "      <td>NARCOTICS</td>\n",
              "      <td>True</td>\n",
              "      <td>False</td>\n",
              "      <td>41.937406</td>\n",
              "      <td>-87.716650</td>\n",
              "      <td>PUBLIC OPEN SPACE</td>\n",
              "      <td>Afternoon</td>\n",
              "      <td>Autumn</td>\n",
              "    </tr>\n",
              "    <tr>\n",
              "      <th>3</th>\n",
              "      <td>ASSAULT</td>\n",
              "      <td>False</td>\n",
              "      <td>True</td>\n",
              "      <td>41.881903</td>\n",
              "      <td>-87.755121</td>\n",
              "      <td>RESIDENCE</td>\n",
              "      <td>Afternoon</td>\n",
              "      <td>Autumn</td>\n",
              "    </tr>\n",
              "    <tr>\n",
              "      <th>4</th>\n",
              "      <td>BURGLARY</td>\n",
              "      <td>False</td>\n",
              "      <td>False</td>\n",
              "      <td>41.744379</td>\n",
              "      <td>-87.658431</td>\n",
              "      <td>RESIDENCE</td>\n",
              "      <td>Morning</td>\n",
              "      <td>Autumn</td>\n",
              "    </tr>\n",
              "    <tr>\n",
              "      <th>5</th>\n",
              "      <td>BURGLARY</td>\n",
              "      <td>False</td>\n",
              "      <td>False</td>\n",
              "      <td>41.914636</td>\n",
              "      <td>-87.681631</td>\n",
              "      <td>RESIDENCE</td>\n",
              "      <td>Evening</td>\n",
              "      <td>Autumn</td>\n",
              "    </tr>\n",
              "    <tr>\n",
              "      <th>6</th>\n",
              "      <td>THEFT</td>\n",
              "      <td>True</td>\n",
              "      <td>False</td>\n",
              "      <td>41.851989</td>\n",
              "      <td>-87.689219</td>\n",
              "      <td>COMMERCIAL BUILDING</td>\n",
              "      <td>Afternoon</td>\n",
              "      <td>Autumn</td>\n",
              "    </tr>\n",
              "    <tr>\n",
              "      <th>7</th>\n",
              "      <td>ROBBERY</td>\n",
              "      <td>False</td>\n",
              "      <td>True</td>\n",
              "      <td>41.882814</td>\n",
              "      <td>-87.704326</td>\n",
              "      <td>PUBLIC OPEN SPACE</td>\n",
              "      <td>Morning</td>\n",
              "      <td>Autumn</td>\n",
              "    </tr>\n",
              "    <tr>\n",
              "      <th>8</th>\n",
              "      <td>THEFT</td>\n",
              "      <td>False</td>\n",
              "      <td>False</td>\n",
              "      <td>41.763648</td>\n",
              "      <td>-87.722345</td>\n",
              "      <td>PUBLIC OPEN SPACE</td>\n",
              "      <td>Afternoon</td>\n",
              "      <td>Autumn</td>\n",
              "    </tr>\n",
              "    <tr>\n",
              "      <th>9</th>\n",
              "      <td>BATTERY</td>\n",
              "      <td>False</td>\n",
              "      <td>False</td>\n",
              "      <td>41.975968</td>\n",
              "      <td>-87.768014</td>\n",
              "      <td>COMMERCIAL BUILDING</td>\n",
              "      <td>Morning</td>\n",
              "      <td>Autumn</td>\n",
              "    </tr>\n",
              "  </tbody>\n",
              "</table>\n",
              "</div>"
            ],
            "text/plain": [
              "  Primary Type  Arrest  Domestic  ...  Location Description       HOUR  SEASON\n",
              "0      BATTERY   False      True  ...             RESIDENCE  Afternoon  Autumn\n",
              "1        THEFT   False     False  ...                   CTA    Morning  Autumn\n",
              "2    NARCOTICS    True     False  ...     PUBLIC OPEN SPACE  Afternoon  Autumn\n",
              "3      ASSAULT   False      True  ...             RESIDENCE  Afternoon  Autumn\n",
              "4     BURGLARY   False     False  ...             RESIDENCE    Morning  Autumn\n",
              "5     BURGLARY   False     False  ...             RESIDENCE    Evening  Autumn\n",
              "6        THEFT    True     False  ...   COMMERCIAL BUILDING  Afternoon  Autumn\n",
              "7      ROBBERY   False      True  ...     PUBLIC OPEN SPACE    Morning  Autumn\n",
              "8        THEFT   False     False  ...     PUBLIC OPEN SPACE  Afternoon  Autumn\n",
              "9      BATTERY   False     False  ...   COMMERCIAL BUILDING    Morning  Autumn\n",
              "\n",
              "[10 rows x 8 columns]"
            ]
          },
          "metadata": {},
          "execution_count": 7
        }
      ]
    },
    {
      "cell_type": "code",
      "metadata": {
        "colab": {
          "base_uri": "https://localhost:8080/"
        },
        "id": "rerCM_PkBHUK",
        "outputId": "ae094d03-4165-4e19-8f63-34a65b8314c6"
      },
      "source": [
        "data.shape"
      ],
      "execution_count": 8,
      "outputs": [
        {
          "output_type": "execute_result",
          "data": {
            "text/plain": [
              "(6691918, 8)"
            ]
          },
          "metadata": {},
          "execution_count": 8
        }
      ]
    },
    {
      "cell_type": "code",
      "metadata": {
        "id": "xKjxwCiuBHUL"
      },
      "source": [
        "data.loc[data['Primary Type'] == 'CRIMINAL DAMAGE', 'Primary Type'] = 'CRIMINAL LAW VIOLATION'\n",
        "data.loc[data['Primary Type'] == 'CRIMINAL TRESPASS', 'Primary Type'] = 'CRIMINAL LAW VIOLATION'\n",
        "data.loc[data['Primary Type'] == 'DECEPTIVE PRACTICE', 'Primary Type'] = 'CRIMINAL LAW VIOLATION'\n",
        "data.loc[data['Primary Type'] == 'INTERFERENCE WITH PUBLIC OFFICER', 'Primary Type'] = 'CRIMINAL LAW VIOLATION'\n",
        "data.loc[data['Primary Type'] == 'LIQUOR LAW VIOLATION', 'Primary Type'] = 'CRIMINAL LAW VIOLATION'\n",
        "data.loc[data['Primary Type'] == 'PUBLIC PEACE VIOLATION', 'Primary Type'] = 'CRIMINAL LAW VIOLATION'\n",
        "data.loc[data['Primary Type'] == 'WEAPONS VIOLATION', 'Primary Type'] = 'CRIMINAL LAW VIOLATION'\n",
        "data.loc[data['Primary Type'] == 'GAMBLING', 'Primary Type'] = 'CRIMINAL LAW VIOLATION'"
      ],
      "execution_count": 9,
      "outputs": []
    },
    {
      "cell_type": "code",
      "metadata": {
        "id": "-3vsnLicBHUL"
      },
      "source": [
        "data.loc[data['Primary Type'] == 'OTHER OFFENSE', 'Primary Type'] = 'OTHER'"
      ],
      "execution_count": 10,
      "outputs": []
    },
    {
      "cell_type": "code",
      "metadata": {
        "id": "bJhQ3d0tBHUM"
      },
      "source": [
        "data.loc[data['Primary Type'] == 'BATTERY', 'Primary Type'] = 'ASSAULT'"
      ],
      "execution_count": 11,
      "outputs": []
    },
    {
      "cell_type": "code",
      "metadata": {
        "id": "d4zHPLj4BHUN"
      },
      "source": [
        "data.loc[data['Primary Type'] == 'STALKING', 'Primary Type'] = 'INTIMIDATION'"
      ],
      "execution_count": 12,
      "outputs": []
    },
    {
      "cell_type": "code",
      "metadata": {
        "id": "VHxlJfB1BHUO"
      },
      "source": [
        "data.loc[data['Primary Type'] == 'BURGLARY', 'Primary Type'] = 'ROBBERY'\n",
        "data.loc[data['Primary Type'] == 'MOTOR VEHICLE THEFT', 'Primary Type'] = 'ROBBERY'\n",
        "data.loc[data['Primary Type'] == 'THEFT', 'Primary Type'] = 'ROBBERY'"
      ],
      "execution_count": 13,
      "outputs": []
    },
    {
      "cell_type": "code",
      "metadata": {
        "id": "AHF2_zZBBHUP"
      },
      "source": [
        "data.loc[data['Primary Type'] == 'CRIM SEXUAL ASSAULT', 'Primary Type'] = 'SEX OFFENSE'\n",
        "data.loc[data['Primary Type'] == 'CRIMINAL SEXUAL ASSAUL', 'Primary Type'] = 'SEX OFFENSE'\n",
        "data.loc[data['Primary Type'] == 'PROSTITUTION', 'Primary Type'] = 'SEX OFFENSE'"
      ],
      "execution_count": 14,
      "outputs": []
    },
    {
      "cell_type": "code",
      "metadata": {
        "id": "kVH6v5QRK8ZE"
      },
      "source": [
        "sample = data.sample(frac=0.05)"
      ],
      "execution_count": 15,
      "outputs": []
    },
    {
      "cell_type": "code",
      "metadata": {
        "colab": {
          "base_uri": "https://localhost:8080/"
        },
        "id": "-tuExt6ULIhn",
        "outputId": "94ce3121-55b0-45c9-d257-e603ca945980"
      },
      "source": [
        "sample.shape"
      ],
      "execution_count": 16,
      "outputs": [
        {
          "output_type": "execute_result",
          "data": {
            "text/plain": [
              "(334596, 8)"
            ]
          },
          "metadata": {},
          "execution_count": 16
        }
      ]
    },
    {
      "cell_type": "code",
      "metadata": {
        "id": "u50FzJxfrX4_",
        "colab": {
          "base_uri": "https://localhost:8080/",
          "height": 365
        },
        "outputId": "fa337faf-2262-421d-e0a0-1712a633b871"
      },
      "source": [
        "# Convert categorical data to numeric with `pd.get_dummies`\n",
        "sample_dummies = pd.get_dummies(sample, columns = ['Location Description', 'HOUR', 'SEASON'],dtype=float)\n",
        "sample_dummies.head()"
      ],
      "execution_count": 17,
      "outputs": [
        {
          "output_type": "execute_result",
          "data": {
            "text/html": [
              "<div>\n",
              "<style scoped>\n",
              "    .dataframe tbody tr th:only-of-type {\n",
              "        vertical-align: middle;\n",
              "    }\n",
              "\n",
              "    .dataframe tbody tr th {\n",
              "        vertical-align: top;\n",
              "    }\n",
              "\n",
              "    .dataframe thead th {\n",
              "        text-align: right;\n",
              "    }\n",
              "</style>\n",
              "<table border=\"1\" class=\"dataframe\">\n",
              "  <thead>\n",
              "    <tr style=\"text-align: right;\">\n",
              "      <th></th>\n",
              "      <th>Primary Type</th>\n",
              "      <th>Arrest</th>\n",
              "      <th>Domestic</th>\n",
              "      <th>Latitude</th>\n",
              "      <th>Longitude</th>\n",
              "      <th>Location Description_AIRPORT</th>\n",
              "      <th>Location Description_CHURCH</th>\n",
              "      <th>Location Description_COMMERCIAL BUILDING</th>\n",
              "      <th>Location Description_CTA</th>\n",
              "      <th>Location Description_EDUCATIONAL BUILDING</th>\n",
              "      <th>Location Description_FEDERAL PROPERTY</th>\n",
              "      <th>Location Description_HOSPITAL</th>\n",
              "      <th>Location Description_HOTEL</th>\n",
              "      <th>Location Description_OTHER</th>\n",
              "      <th>Location Description_PUBLIC ENTERTAINMENT</th>\n",
              "      <th>Location Description_PUBLIC OPEN SPACE</th>\n",
              "      <th>Location Description_RESIDENCE</th>\n",
              "      <th>Location Description_VEHICLE</th>\n",
              "      <th>HOUR_Afternoon</th>\n",
              "      <th>HOUR_Evening</th>\n",
              "      <th>HOUR_Morning</th>\n",
              "      <th>HOUR_Night</th>\n",
              "      <th>SEASON_Autumn</th>\n",
              "      <th>SEASON_Spring</th>\n",
              "      <th>SEASON_Summer</th>\n",
              "      <th>SEASON_Winter</th>\n",
              "    </tr>\n",
              "  </thead>\n",
              "  <tbody>\n",
              "    <tr>\n",
              "      <th>1260212</th>\n",
              "      <td>ASSAULT</td>\n",
              "      <td>False</td>\n",
              "      <td>True</td>\n",
              "      <td>41.773427</td>\n",
              "      <td>-87.621507</td>\n",
              "      <td>0.0</td>\n",
              "      <td>0.0</td>\n",
              "      <td>0.0</td>\n",
              "      <td>0.0</td>\n",
              "      <td>0.0</td>\n",
              "      <td>0.0</td>\n",
              "      <td>0.0</td>\n",
              "      <td>0.0</td>\n",
              "      <td>0.0</td>\n",
              "      <td>0.0</td>\n",
              "      <td>0.0</td>\n",
              "      <td>1.0</td>\n",
              "      <td>0.0</td>\n",
              "      <td>0.0</td>\n",
              "      <td>0.0</td>\n",
              "      <td>0.0</td>\n",
              "      <td>1.0</td>\n",
              "      <td>1.0</td>\n",
              "      <td>0.0</td>\n",
              "      <td>0.0</td>\n",
              "      <td>0.0</td>\n",
              "    </tr>\n",
              "    <tr>\n",
              "      <th>5048895</th>\n",
              "      <td>CRIMINAL LAW VIOLATION</td>\n",
              "      <td>True</td>\n",
              "      <td>False</td>\n",
              "      <td>41.704335</td>\n",
              "      <td>-87.631113</td>\n",
              "      <td>0.0</td>\n",
              "      <td>0.0</td>\n",
              "      <td>0.0</td>\n",
              "      <td>0.0</td>\n",
              "      <td>0.0</td>\n",
              "      <td>0.0</td>\n",
              "      <td>0.0</td>\n",
              "      <td>0.0</td>\n",
              "      <td>0.0</td>\n",
              "      <td>0.0</td>\n",
              "      <td>1.0</td>\n",
              "      <td>0.0</td>\n",
              "      <td>0.0</td>\n",
              "      <td>0.0</td>\n",
              "      <td>0.0</td>\n",
              "      <td>1.0</td>\n",
              "      <td>0.0</td>\n",
              "      <td>0.0</td>\n",
              "      <td>0.0</td>\n",
              "      <td>1.0</td>\n",
              "      <td>0.0</td>\n",
              "    </tr>\n",
              "    <tr>\n",
              "      <th>2609753</th>\n",
              "      <td>NARCOTICS</td>\n",
              "      <td>True</td>\n",
              "      <td>False</td>\n",
              "      <td>41.916074</td>\n",
              "      <td>-87.713497</td>\n",
              "      <td>0.0</td>\n",
              "      <td>0.0</td>\n",
              "      <td>0.0</td>\n",
              "      <td>0.0</td>\n",
              "      <td>0.0</td>\n",
              "      <td>0.0</td>\n",
              "      <td>0.0</td>\n",
              "      <td>0.0</td>\n",
              "      <td>0.0</td>\n",
              "      <td>0.0</td>\n",
              "      <td>1.0</td>\n",
              "      <td>0.0</td>\n",
              "      <td>0.0</td>\n",
              "      <td>1.0</td>\n",
              "      <td>0.0</td>\n",
              "      <td>0.0</td>\n",
              "      <td>0.0</td>\n",
              "      <td>0.0</td>\n",
              "      <td>0.0</td>\n",
              "      <td>1.0</td>\n",
              "      <td>0.0</td>\n",
              "    </tr>\n",
              "    <tr>\n",
              "      <th>415579</th>\n",
              "      <td>CRIMINAL LAW VIOLATION</td>\n",
              "      <td>False</td>\n",
              "      <td>False</td>\n",
              "      <td>41.922583</td>\n",
              "      <td>-87.638650</td>\n",
              "      <td>0.0</td>\n",
              "      <td>0.0</td>\n",
              "      <td>1.0</td>\n",
              "      <td>0.0</td>\n",
              "      <td>0.0</td>\n",
              "      <td>0.0</td>\n",
              "      <td>0.0</td>\n",
              "      <td>0.0</td>\n",
              "      <td>0.0</td>\n",
              "      <td>0.0</td>\n",
              "      <td>0.0</td>\n",
              "      <td>0.0</td>\n",
              "      <td>0.0</td>\n",
              "      <td>0.0</td>\n",
              "      <td>0.0</td>\n",
              "      <td>0.0</td>\n",
              "      <td>1.0</td>\n",
              "      <td>0.0</td>\n",
              "      <td>0.0</td>\n",
              "      <td>0.0</td>\n",
              "      <td>1.0</td>\n",
              "    </tr>\n",
              "    <tr>\n",
              "      <th>2642932</th>\n",
              "      <td>CRIMINAL LAW VIOLATION</td>\n",
              "      <td>False</td>\n",
              "      <td>False</td>\n",
              "      <td>41.880587</td>\n",
              "      <td>-87.706110</td>\n",
              "      <td>0.0</td>\n",
              "      <td>0.0</td>\n",
              "      <td>0.0</td>\n",
              "      <td>0.0</td>\n",
              "      <td>0.0</td>\n",
              "      <td>0.0</td>\n",
              "      <td>0.0</td>\n",
              "      <td>0.0</td>\n",
              "      <td>0.0</td>\n",
              "      <td>0.0</td>\n",
              "      <td>1.0</td>\n",
              "      <td>0.0</td>\n",
              "      <td>0.0</td>\n",
              "      <td>1.0</td>\n",
              "      <td>0.0</td>\n",
              "      <td>0.0</td>\n",
              "      <td>0.0</td>\n",
              "      <td>1.0</td>\n",
              "      <td>0.0</td>\n",
              "      <td>0.0</td>\n",
              "      <td>0.0</td>\n",
              "    </tr>\n",
              "  </tbody>\n",
              "</table>\n",
              "</div>"
            ],
            "text/plain": [
              "                   Primary Type  Arrest  ...  SEASON_Summer  SEASON_Winter\n",
              "1260212                 ASSAULT   False  ...            0.0            0.0\n",
              "5048895  CRIMINAL LAW VIOLATION    True  ...            1.0            0.0\n",
              "2609753               NARCOTICS    True  ...            1.0            0.0\n",
              "415579   CRIMINAL LAW VIOLATION   False  ...            0.0            1.0\n",
              "2642932  CRIMINAL LAW VIOLATION   False  ...            0.0            0.0\n",
              "\n",
              "[5 rows x 26 columns]"
            ]
          },
          "metadata": {},
          "execution_count": 17
        }
      ]
    },
    {
      "cell_type": "code",
      "metadata": {
        "id": "pWbUSV7lrArk"
      },
      "source": [
        "# Split our preprocessed data into our features and target arrays\n",
        "y = sample_dummies['Primary Type']\n",
        "X = sample_dummies.drop('Primary Type', axis=1)"
      ],
      "execution_count": 18,
      "outputs": []
    },
    {
      "cell_type": "code",
      "metadata": {
        "colab": {
          "base_uri": "https://localhost:8080/"
        },
        "id": "cOyGdOP3irq1",
        "outputId": "0c182196-ba8f-47d2-efba-c8521df9a3bd"
      },
      "source": [
        "len(y.unique())"
      ],
      "execution_count": 19,
      "outputs": [
        {
          "output_type": "execute_result",
          "data": {
            "text/plain": [
              "12"
            ]
          },
          "metadata": {},
          "execution_count": 19
        }
      ]
    },
    {
      "cell_type": "code",
      "metadata": {
        "colab": {
          "base_uri": "https://localhost:8080/",
          "height": 478
        },
        "id": "zj0ujDalMvTc",
        "outputId": "4f2fe331-127f-47e3-b4d6-21cb78ac721a"
      },
      "source": [
        "X"
      ],
      "execution_count": 20,
      "outputs": [
        {
          "output_type": "execute_result",
          "data": {
            "text/html": [
              "<div>\n",
              "<style scoped>\n",
              "    .dataframe tbody tr th:only-of-type {\n",
              "        vertical-align: middle;\n",
              "    }\n",
              "\n",
              "    .dataframe tbody tr th {\n",
              "        vertical-align: top;\n",
              "    }\n",
              "\n",
              "    .dataframe thead th {\n",
              "        text-align: right;\n",
              "    }\n",
              "</style>\n",
              "<table border=\"1\" class=\"dataframe\">\n",
              "  <thead>\n",
              "    <tr style=\"text-align: right;\">\n",
              "      <th></th>\n",
              "      <th>Arrest</th>\n",
              "      <th>Domestic</th>\n",
              "      <th>Latitude</th>\n",
              "      <th>Longitude</th>\n",
              "      <th>Location Description_AIRPORT</th>\n",
              "      <th>Location Description_CHURCH</th>\n",
              "      <th>Location Description_COMMERCIAL BUILDING</th>\n",
              "      <th>Location Description_CTA</th>\n",
              "      <th>Location Description_EDUCATIONAL BUILDING</th>\n",
              "      <th>Location Description_FEDERAL PROPERTY</th>\n",
              "      <th>Location Description_HOSPITAL</th>\n",
              "      <th>Location Description_HOTEL</th>\n",
              "      <th>Location Description_OTHER</th>\n",
              "      <th>Location Description_PUBLIC ENTERTAINMENT</th>\n",
              "      <th>Location Description_PUBLIC OPEN SPACE</th>\n",
              "      <th>Location Description_RESIDENCE</th>\n",
              "      <th>Location Description_VEHICLE</th>\n",
              "      <th>HOUR_Afternoon</th>\n",
              "      <th>HOUR_Evening</th>\n",
              "      <th>HOUR_Morning</th>\n",
              "      <th>HOUR_Night</th>\n",
              "      <th>SEASON_Autumn</th>\n",
              "      <th>SEASON_Spring</th>\n",
              "      <th>SEASON_Summer</th>\n",
              "      <th>SEASON_Winter</th>\n",
              "    </tr>\n",
              "  </thead>\n",
              "  <tbody>\n",
              "    <tr>\n",
              "      <th>1260212</th>\n",
              "      <td>False</td>\n",
              "      <td>True</td>\n",
              "      <td>41.773427</td>\n",
              "      <td>-87.621507</td>\n",
              "      <td>0.0</td>\n",
              "      <td>0.0</td>\n",
              "      <td>0.0</td>\n",
              "      <td>0.0</td>\n",
              "      <td>0.0</td>\n",
              "      <td>0.0</td>\n",
              "      <td>0.0</td>\n",
              "      <td>0.0</td>\n",
              "      <td>0.0</td>\n",
              "      <td>0.0</td>\n",
              "      <td>0.0</td>\n",
              "      <td>1.0</td>\n",
              "      <td>0.0</td>\n",
              "      <td>0.0</td>\n",
              "      <td>0.0</td>\n",
              "      <td>0.0</td>\n",
              "      <td>1.0</td>\n",
              "      <td>1.0</td>\n",
              "      <td>0.0</td>\n",
              "      <td>0.0</td>\n",
              "      <td>0.0</td>\n",
              "    </tr>\n",
              "    <tr>\n",
              "      <th>5048895</th>\n",
              "      <td>True</td>\n",
              "      <td>False</td>\n",
              "      <td>41.704335</td>\n",
              "      <td>-87.631113</td>\n",
              "      <td>0.0</td>\n",
              "      <td>0.0</td>\n",
              "      <td>0.0</td>\n",
              "      <td>0.0</td>\n",
              "      <td>0.0</td>\n",
              "      <td>0.0</td>\n",
              "      <td>0.0</td>\n",
              "      <td>0.0</td>\n",
              "      <td>0.0</td>\n",
              "      <td>0.0</td>\n",
              "      <td>1.0</td>\n",
              "      <td>0.0</td>\n",
              "      <td>0.0</td>\n",
              "      <td>0.0</td>\n",
              "      <td>0.0</td>\n",
              "      <td>1.0</td>\n",
              "      <td>0.0</td>\n",
              "      <td>0.0</td>\n",
              "      <td>0.0</td>\n",
              "      <td>1.0</td>\n",
              "      <td>0.0</td>\n",
              "    </tr>\n",
              "    <tr>\n",
              "      <th>2609753</th>\n",
              "      <td>True</td>\n",
              "      <td>False</td>\n",
              "      <td>41.916074</td>\n",
              "      <td>-87.713497</td>\n",
              "      <td>0.0</td>\n",
              "      <td>0.0</td>\n",
              "      <td>0.0</td>\n",
              "      <td>0.0</td>\n",
              "      <td>0.0</td>\n",
              "      <td>0.0</td>\n",
              "      <td>0.0</td>\n",
              "      <td>0.0</td>\n",
              "      <td>0.0</td>\n",
              "      <td>0.0</td>\n",
              "      <td>1.0</td>\n",
              "      <td>0.0</td>\n",
              "      <td>0.0</td>\n",
              "      <td>1.0</td>\n",
              "      <td>0.0</td>\n",
              "      <td>0.0</td>\n",
              "      <td>0.0</td>\n",
              "      <td>0.0</td>\n",
              "      <td>0.0</td>\n",
              "      <td>1.0</td>\n",
              "      <td>0.0</td>\n",
              "    </tr>\n",
              "    <tr>\n",
              "      <th>415579</th>\n",
              "      <td>False</td>\n",
              "      <td>False</td>\n",
              "      <td>41.922583</td>\n",
              "      <td>-87.638650</td>\n",
              "      <td>0.0</td>\n",
              "      <td>0.0</td>\n",
              "      <td>1.0</td>\n",
              "      <td>0.0</td>\n",
              "      <td>0.0</td>\n",
              "      <td>0.0</td>\n",
              "      <td>0.0</td>\n",
              "      <td>0.0</td>\n",
              "      <td>0.0</td>\n",
              "      <td>0.0</td>\n",
              "      <td>0.0</td>\n",
              "      <td>0.0</td>\n",
              "      <td>0.0</td>\n",
              "      <td>0.0</td>\n",
              "      <td>0.0</td>\n",
              "      <td>0.0</td>\n",
              "      <td>1.0</td>\n",
              "      <td>0.0</td>\n",
              "      <td>0.0</td>\n",
              "      <td>0.0</td>\n",
              "      <td>1.0</td>\n",
              "    </tr>\n",
              "    <tr>\n",
              "      <th>2642932</th>\n",
              "      <td>False</td>\n",
              "      <td>False</td>\n",
              "      <td>41.880587</td>\n",
              "      <td>-87.706110</td>\n",
              "      <td>0.0</td>\n",
              "      <td>0.0</td>\n",
              "      <td>0.0</td>\n",
              "      <td>0.0</td>\n",
              "      <td>0.0</td>\n",
              "      <td>0.0</td>\n",
              "      <td>0.0</td>\n",
              "      <td>0.0</td>\n",
              "      <td>0.0</td>\n",
              "      <td>0.0</td>\n",
              "      <td>1.0</td>\n",
              "      <td>0.0</td>\n",
              "      <td>0.0</td>\n",
              "      <td>1.0</td>\n",
              "      <td>0.0</td>\n",
              "      <td>0.0</td>\n",
              "      <td>0.0</td>\n",
              "      <td>1.0</td>\n",
              "      <td>0.0</td>\n",
              "      <td>0.0</td>\n",
              "      <td>0.0</td>\n",
              "    </tr>\n",
              "    <tr>\n",
              "      <th>...</th>\n",
              "      <td>...</td>\n",
              "      <td>...</td>\n",
              "      <td>...</td>\n",
              "      <td>...</td>\n",
              "      <td>...</td>\n",
              "      <td>...</td>\n",
              "      <td>...</td>\n",
              "      <td>...</td>\n",
              "      <td>...</td>\n",
              "      <td>...</td>\n",
              "      <td>...</td>\n",
              "      <td>...</td>\n",
              "      <td>...</td>\n",
              "      <td>...</td>\n",
              "      <td>...</td>\n",
              "      <td>...</td>\n",
              "      <td>...</td>\n",
              "      <td>...</td>\n",
              "      <td>...</td>\n",
              "      <td>...</td>\n",
              "      <td>...</td>\n",
              "      <td>...</td>\n",
              "      <td>...</td>\n",
              "      <td>...</td>\n",
              "      <td>...</td>\n",
              "    </tr>\n",
              "    <tr>\n",
              "      <th>1186239</th>\n",
              "      <td>True</td>\n",
              "      <td>False</td>\n",
              "      <td>42.007859</td>\n",
              "      <td>-87.668737</td>\n",
              "      <td>0.0</td>\n",
              "      <td>0.0</td>\n",
              "      <td>1.0</td>\n",
              "      <td>0.0</td>\n",
              "      <td>0.0</td>\n",
              "      <td>0.0</td>\n",
              "      <td>0.0</td>\n",
              "      <td>0.0</td>\n",
              "      <td>0.0</td>\n",
              "      <td>0.0</td>\n",
              "      <td>0.0</td>\n",
              "      <td>0.0</td>\n",
              "      <td>0.0</td>\n",
              "      <td>1.0</td>\n",
              "      <td>0.0</td>\n",
              "      <td>0.0</td>\n",
              "      <td>0.0</td>\n",
              "      <td>0.0</td>\n",
              "      <td>0.0</td>\n",
              "      <td>1.0</td>\n",
              "      <td>0.0</td>\n",
              "    </tr>\n",
              "    <tr>\n",
              "      <th>5000143</th>\n",
              "      <td>True</td>\n",
              "      <td>False</td>\n",
              "      <td>41.878799</td>\n",
              "      <td>-87.731549</td>\n",
              "      <td>0.0</td>\n",
              "      <td>0.0</td>\n",
              "      <td>0.0</td>\n",
              "      <td>0.0</td>\n",
              "      <td>0.0</td>\n",
              "      <td>0.0</td>\n",
              "      <td>0.0</td>\n",
              "      <td>0.0</td>\n",
              "      <td>0.0</td>\n",
              "      <td>0.0</td>\n",
              "      <td>0.0</td>\n",
              "      <td>1.0</td>\n",
              "      <td>0.0</td>\n",
              "      <td>0.0</td>\n",
              "      <td>0.0</td>\n",
              "      <td>1.0</td>\n",
              "      <td>0.0</td>\n",
              "      <td>0.0</td>\n",
              "      <td>1.0</td>\n",
              "      <td>0.0</td>\n",
              "      <td>0.0</td>\n",
              "    </tr>\n",
              "    <tr>\n",
              "      <th>4561431</th>\n",
              "      <td>False</td>\n",
              "      <td>False</td>\n",
              "      <td>41.882348</td>\n",
              "      <td>-87.756806</td>\n",
              "      <td>0.0</td>\n",
              "      <td>0.0</td>\n",
              "      <td>0.0</td>\n",
              "      <td>0.0</td>\n",
              "      <td>0.0</td>\n",
              "      <td>0.0</td>\n",
              "      <td>0.0</td>\n",
              "      <td>0.0</td>\n",
              "      <td>0.0</td>\n",
              "      <td>0.0</td>\n",
              "      <td>0.0</td>\n",
              "      <td>1.0</td>\n",
              "      <td>0.0</td>\n",
              "      <td>1.0</td>\n",
              "      <td>0.0</td>\n",
              "      <td>0.0</td>\n",
              "      <td>0.0</td>\n",
              "      <td>0.0</td>\n",
              "      <td>1.0</td>\n",
              "      <td>0.0</td>\n",
              "      <td>0.0</td>\n",
              "    </tr>\n",
              "    <tr>\n",
              "      <th>825320</th>\n",
              "      <td>True</td>\n",
              "      <td>True</td>\n",
              "      <td>41.953255</td>\n",
              "      <td>-87.760907</td>\n",
              "      <td>0.0</td>\n",
              "      <td>0.0</td>\n",
              "      <td>0.0</td>\n",
              "      <td>0.0</td>\n",
              "      <td>0.0</td>\n",
              "      <td>0.0</td>\n",
              "      <td>0.0</td>\n",
              "      <td>0.0</td>\n",
              "      <td>0.0</td>\n",
              "      <td>0.0</td>\n",
              "      <td>0.0</td>\n",
              "      <td>1.0</td>\n",
              "      <td>0.0</td>\n",
              "      <td>0.0</td>\n",
              "      <td>1.0</td>\n",
              "      <td>0.0</td>\n",
              "      <td>0.0</td>\n",
              "      <td>0.0</td>\n",
              "      <td>0.0</td>\n",
              "      <td>1.0</td>\n",
              "      <td>0.0</td>\n",
              "    </tr>\n",
              "    <tr>\n",
              "      <th>2111612</th>\n",
              "      <td>True</td>\n",
              "      <td>False</td>\n",
              "      <td>41.768220</td>\n",
              "      <td>-87.655413</td>\n",
              "      <td>0.0</td>\n",
              "      <td>0.0</td>\n",
              "      <td>0.0</td>\n",
              "      <td>0.0</td>\n",
              "      <td>0.0</td>\n",
              "      <td>0.0</td>\n",
              "      <td>0.0</td>\n",
              "      <td>0.0</td>\n",
              "      <td>0.0</td>\n",
              "      <td>0.0</td>\n",
              "      <td>1.0</td>\n",
              "      <td>0.0</td>\n",
              "      <td>0.0</td>\n",
              "      <td>0.0</td>\n",
              "      <td>1.0</td>\n",
              "      <td>0.0</td>\n",
              "      <td>0.0</td>\n",
              "      <td>0.0</td>\n",
              "      <td>0.0</td>\n",
              "      <td>1.0</td>\n",
              "      <td>0.0</td>\n",
              "    </tr>\n",
              "  </tbody>\n",
              "</table>\n",
              "<p>334596 rows × 25 columns</p>\n",
              "</div>"
            ],
            "text/plain": [
              "         Arrest  Domestic  ...  SEASON_Summer  SEASON_Winter\n",
              "1260212   False      True  ...            0.0            0.0\n",
              "5048895    True     False  ...            1.0            0.0\n",
              "2609753    True     False  ...            1.0            0.0\n",
              "415579    False     False  ...            0.0            1.0\n",
              "2642932   False     False  ...            0.0            0.0\n",
              "...         ...       ...  ...            ...            ...\n",
              "1186239    True     False  ...            1.0            0.0\n",
              "5000143    True     False  ...            0.0            0.0\n",
              "4561431   False     False  ...            0.0            0.0\n",
              "825320     True      True  ...            1.0            0.0\n",
              "2111612    True     False  ...            1.0            0.0\n",
              "\n",
              "[334596 rows x 25 columns]"
            ]
          },
          "metadata": {},
          "execution_count": 20
        }
      ]
    },
    {
      "cell_type": "code",
      "metadata": {
        "colab": {
          "base_uri": "https://localhost:8080/"
        },
        "id": "mRBr34e4M6Yu",
        "outputId": "4bf88710-6bbe-404f-dbd1-1050949ee550"
      },
      "source": [
        "len(y.unique())"
      ],
      "execution_count": 21,
      "outputs": [
        {
          "output_type": "execute_result",
          "data": {
            "text/plain": [
              "12"
            ]
          },
          "metadata": {},
          "execution_count": 21
        }
      ]
    },
    {
      "cell_type": "code",
      "metadata": {
        "colab": {
          "base_uri": "https://localhost:8080/"
        },
        "id": "CKKmyhlPBHUQ",
        "outputId": "03d5f31d-085e-4088-950b-a09c9549cea9"
      },
      "source": [
        "from sklearn import preprocessing\n",
        "le = preprocessing.LabelEncoder()\n",
        "le.fit(y)\n",
        "list(le.classes_)\n",
        "y_label = le.transform(y)\n",
        "y_label"
      ],
      "execution_count": 22,
      "outputs": [
        {
          "output_type": "execute_result",
          "data": {
            "text/plain": [
              "array([ 1,  2,  7, ..., 10,  9,  2])"
            ]
          },
          "metadata": {},
          "execution_count": 22
        }
      ]
    },
    {
      "cell_type": "code",
      "metadata": {
        "colab": {
          "base_uri": "https://localhost:8080/"
        },
        "id": "iP8r51d_BHUR",
        "outputId": "a2b0e0fd-ab4e-4528-9bb3-5be5e30a0abc"
      },
      "source": [
        "len(y_label)"
      ],
      "execution_count": 23,
      "outputs": [
        {
          "output_type": "execute_result",
          "data": {
            "text/plain": [
              "334596"
            ]
          },
          "metadata": {},
          "execution_count": 23
        }
      ]
    },
    {
      "cell_type": "code",
      "metadata": {
        "colab": {
          "base_uri": "https://localhost:8080/"
        },
        "id": "9HdCLAgLM-LH",
        "outputId": "2df46598-b5d6-45e6-8175-e39f7604881f"
      },
      "source": [
        "y_label.shape"
      ],
      "execution_count": 24,
      "outputs": [
        {
          "output_type": "execute_result",
          "data": {
            "text/plain": [
              "(334596,)"
            ]
          },
          "metadata": {},
          "execution_count": 24
        }
      ]
    },
    {
      "cell_type": "code",
      "metadata": {
        "id": "vlGAByG_id94"
      },
      "source": [
        "from tensorflow.keras.utils import to_categorical\n"
      ],
      "execution_count": 25,
      "outputs": []
    },
    {
      "cell_type": "code",
      "metadata": {
        "colab": {
          "base_uri": "https://localhost:8080/"
        },
        "id": "TLOBK1sLi_C2",
        "outputId": "9cf81598-930e-441f-b773-0fd9c6fbdde6"
      },
      "source": [
        "Y = to_categorical(y_label, 12)\n",
        "Y"
      ],
      "execution_count": 26,
      "outputs": [
        {
          "output_type": "execute_result",
          "data": {
            "text/plain": [
              "array([[0., 1., 0., ..., 0., 0., 0.],\n",
              "       [0., 0., 1., ..., 0., 0., 0.],\n",
              "       [0., 0., 0., ..., 0., 0., 0.],\n",
              "       ...,\n",
              "       [0., 0., 0., ..., 0., 1., 0.],\n",
              "       [0., 0., 0., ..., 1., 0., 0.],\n",
              "       [0., 0., 1., ..., 0., 0., 0.]], dtype=float32)"
            ]
          },
          "metadata": {},
          "execution_count": 26
        }
      ]
    },
    {
      "cell_type": "code",
      "metadata": {
        "id": "RkMMw3knBHUS"
      },
      "source": [
        "# Split the preprocessed data into a training and testing dataset\n",
        "X_train, X_test, y_train, y_test = train_test_split(X,Y,random_state= 42)"
      ],
      "execution_count": 27,
      "outputs": []
    },
    {
      "cell_type": "code",
      "metadata": {
        "id": "X76d2g6TBHUT"
      },
      "source": [
        "# Standardizing dataset so columns that contain larger values do not unduly influence the outcome\n",
        "scaler = StandardScaler().fit(X)\n",
        "X_train_scaled = scaler.transform(X_train)\n",
        "X_test_scaled = scaler.transform(X_test)"
      ],
      "execution_count": 28,
      "outputs": []
    },
    {
      "cell_type": "code",
      "metadata": {
        "colab": {
          "base_uri": "https://localhost:8080/"
        },
        "id": "Yj0vLcP1MEyg",
        "outputId": "37070170-71cb-44d0-d9c0-6dee22621875"
      },
      "source": [
        "X_train_scaled.shape"
      ],
      "execution_count": 29,
      "outputs": [
        {
          "output_type": "execute_result",
          "data": {
            "text/plain": [
              "(250947, 25)"
            ]
          },
          "metadata": {},
          "execution_count": 29
        }
      ]
    },
    {
      "cell_type": "code",
      "metadata": {
        "colab": {
          "base_uri": "https://localhost:8080/"
        },
        "id": "e9pSQe4hjT5X",
        "outputId": "d176551c-2977-4168-867b-3fd93c390d7b"
      },
      "source": [
        "y_train.shape"
      ],
      "execution_count": 30,
      "outputs": [
        {
          "output_type": "execute_result",
          "data": {
            "text/plain": [
              "(250947, 12)"
            ]
          },
          "metadata": {},
          "execution_count": 30
        }
      ]
    },
    {
      "cell_type": "markdown",
      "metadata": {
        "id": "NZXo-gsIBHUT"
      },
      "source": [
        "# Neural Network\n"
      ]
    },
    {
      "cell_type": "code",
      "metadata": {
        "colab": {
          "base_uri": "https://localhost:8080/"
        },
        "id": "5-fPYxPiBHUY",
        "outputId": "90ed1211-d650-4442-f76f-cea597a33e37"
      },
      "source": [
        "# Define the model - deep neural net, i.e., the number of input features and hidden nodes for each layer.\n",
        "\n",
        "\n",
        "nn = tf.keras.models.Sequential()\n",
        "\n",
        "# # First hidden layer\n",
        "nn.add(tf.keras.layers.Dense(units=100, activation=\"relu\", input_dim=25))\n",
        "\n",
        "# # Second hidden layer\n",
        "nn.add(tf.keras.layers.Dense(units=50, activation=\"relu\"))\n",
        "\n",
        "# # Third hidden layer\n",
        "nn.add(tf.keras.layers.Dense(units=30, activation=\"relu\"))\n",
        "\n",
        "# # Output layer\n",
        "nn.add(tf.keras.layers.Dense(units=12, activation=\"softmax\"))\n",
        "\n",
        "# # Check the structure of the model\n",
        "nn.summary()"
      ],
      "execution_count": 31,
      "outputs": [
        {
          "output_type": "stream",
          "name": "stdout",
          "text": [
            "Model: \"sequential\"\n",
            "_________________________________________________________________\n",
            "Layer (type)                 Output Shape              Param #   \n",
            "=================================================================\n",
            "dense (Dense)                (None, 100)               2600      \n",
            "_________________________________________________________________\n",
            "dense_1 (Dense)              (None, 50)                5050      \n",
            "_________________________________________________________________\n",
            "dense_2 (Dense)              (None, 30)                1530      \n",
            "_________________________________________________________________\n",
            "dense_3 (Dense)              (None, 12)                372       \n",
            "=================================================================\n",
            "Total params: 9,552\n",
            "Trainable params: 9,552\n",
            "Non-trainable params: 0\n",
            "_________________________________________________________________\n"
          ]
        }
      ]
    },
    {
      "cell_type": "code",
      "metadata": {
        "id": "QWe3URoxMBh3"
      },
      "source": [
        "# Compile the model\n",
        "nn.compile(loss=\"categorical_crossentropy\", optimizer=\"adam\", metrics=[\"accuracy\", tf.keras.metrics.Recall()])"
      ],
      "execution_count": 33,
      "outputs": []
    },
    {
      "cell_type": "code",
      "metadata": {
        "colab": {
          "base_uri": "https://localhost:8080/"
        },
        "id": "AWfERol7Mb7H",
        "outputId": "f8d4bd66-b35e-4a1e-9921-9676ed559efd"
      },
      "source": [
        "y_train.shape"
      ],
      "execution_count": 34,
      "outputs": [
        {
          "output_type": "execute_result",
          "data": {
            "text/plain": [
              "(250947, 12)"
            ]
          },
          "metadata": {},
          "execution_count": 34
        }
      ]
    },
    {
      "cell_type": "code",
      "metadata": {
        "colab": {
          "base_uri": "https://localhost:8080/"
        },
        "id": "vYklXL3XMQGt",
        "outputId": "84a476ce-a8bd-4d50-d94f-3802dad8043c"
      },
      "source": [
        "# Train the model\n",
        "fit_model = nn.fit(X_train_scaled, y_train, validation_split=0.15, epochs=100)"
      ],
      "execution_count": 35,
      "outputs": [
        {
          "output_type": "stream",
          "name": "stdout",
          "text": [
            "Epoch 1/100\n",
            "6666/6666 [==============================] - 19s 3ms/step - loss: 1.2474 - accuracy: 0.5297 - recall: 0.3522 - val_loss: 1.2310 - val_accuracy: 0.5326 - val_recall: 0.4004\n",
            "Epoch 2/100\n",
            "6666/6666 [==============================] - 16s 2ms/step - loss: 1.2267 - accuracy: 0.5329 - recall: 0.3617 - val_loss: 1.2254 - val_accuracy: 0.5348 - val_recall: 0.3742\n",
            "Epoch 3/100\n",
            "6666/6666 [==============================] - 16s 2ms/step - loss: 1.2215 - accuracy: 0.5341 - recall: 0.3634 - val_loss: 1.2218 - val_accuracy: 0.5349 - val_recall: 0.4000\n",
            "Epoch 4/100\n",
            "6666/6666 [==============================] - 16s 2ms/step - loss: 1.2174 - accuracy: 0.5347 - recall: 0.3634 - val_loss: 1.2183 - val_accuracy: 0.5344 - val_recall: 0.3796\n",
            "Epoch 5/100\n",
            "6666/6666 [==============================] - 16s 2ms/step - loss: 1.2145 - accuracy: 0.5352 - recall: 0.3651 - val_loss: 1.2189 - val_accuracy: 0.5346 - val_recall: 0.3987\n",
            "Epoch 6/100\n",
            "6666/6666 [==============================] - 17s 3ms/step - loss: 1.2123 - accuracy: 0.5364 - recall: 0.3653 - val_loss: 1.2165 - val_accuracy: 0.5349 - val_recall: 0.3299\n",
            "Epoch 7/100\n",
            "6666/6666 [==============================] - 16s 2ms/step - loss: 1.2107 - accuracy: 0.5362 - recall: 0.3645 - val_loss: 1.2154 - val_accuracy: 0.5351 - val_recall: 0.3525\n",
            "Epoch 8/100\n",
            "6666/6666 [==============================] - 17s 3ms/step - loss: 1.2093 - accuracy: 0.5362 - recall: 0.3653 - val_loss: 1.2138 - val_accuracy: 0.5362 - val_recall: 0.3781\n",
            "Epoch 9/100\n",
            "6666/6666 [==============================] - 18s 3ms/step - loss: 1.2085 - accuracy: 0.5364 - recall: 0.3659 - val_loss: 1.2162 - val_accuracy: 0.5367 - val_recall: 0.3879\n",
            "Epoch 10/100\n",
            "6666/6666 [==============================] - 20s 3ms/step - loss: 1.2079 - accuracy: 0.5363 - recall: 0.3691 - val_loss: 1.2138 - val_accuracy: 0.5368 - val_recall: 0.3533\n",
            "Epoch 11/100\n",
            "6666/6666 [==============================] - 15s 2ms/step - loss: 1.2069 - accuracy: 0.5373 - recall: 0.3681 - val_loss: 1.2144 - val_accuracy: 0.5361 - val_recall: 0.3645\n",
            "Epoch 12/100\n",
            "6666/6666 [==============================] - 16s 2ms/step - loss: 1.2059 - accuracy: 0.5372 - recall: 0.3694 - val_loss: 1.2132 - val_accuracy: 0.5371 - val_recall: 0.3736\n",
            "Epoch 13/100\n",
            "6666/6666 [==============================] - 17s 2ms/step - loss: 1.2054 - accuracy: 0.5379 - recall: 0.3700 - val_loss: 1.2170 - val_accuracy: 0.5355 - val_recall: 0.3035\n",
            "Epoch 14/100\n",
            "6666/6666 [==============================] - 16s 2ms/step - loss: 1.2048 - accuracy: 0.5374 - recall: 0.3709 - val_loss: 1.2143 - val_accuracy: 0.5365 - val_recall: 0.3466\n",
            "Epoch 15/100\n",
            "6666/6666 [==============================] - 17s 3ms/step - loss: 1.2043 - accuracy: 0.5373 - recall: 0.3697 - val_loss: 1.2136 - val_accuracy: 0.5368 - val_recall: 0.3549\n",
            "Epoch 16/100\n",
            "6666/6666 [==============================] - 16s 2ms/step - loss: 1.2038 - accuracy: 0.5376 - recall: 0.3695 - val_loss: 1.2136 - val_accuracy: 0.5374 - val_recall: 0.3742\n",
            "Epoch 17/100\n",
            "6666/6666 [==============================] - 16s 2ms/step - loss: 1.2032 - accuracy: 0.5378 - recall: 0.3699 - val_loss: 1.2139 - val_accuracy: 0.5374 - val_recall: 0.3680\n",
            "Epoch 18/100\n",
            "6666/6666 [==============================] - 16s 2ms/step - loss: 1.2028 - accuracy: 0.5372 - recall: 0.3691 - val_loss: 1.2124 - val_accuracy: 0.5364 - val_recall: 0.3956\n",
            "Epoch 19/100\n",
            "6666/6666 [==============================] - 16s 2ms/step - loss: 1.2022 - accuracy: 0.5378 - recall: 0.3706 - val_loss: 1.2143 - val_accuracy: 0.5364 - val_recall: 0.3704\n",
            "Epoch 20/100\n",
            "6666/6666 [==============================] - 17s 3ms/step - loss: 1.2014 - accuracy: 0.5380 - recall: 0.3706 - val_loss: 1.2176 - val_accuracy: 0.5346 - val_recall: 0.3862\n",
            "Epoch 21/100\n",
            "6666/6666 [==============================] - 16s 2ms/step - loss: 1.2011 - accuracy: 0.5377 - recall: 0.3702 - val_loss: 1.2126 - val_accuracy: 0.5376 - val_recall: 0.3539\n",
            "Epoch 22/100\n",
            "6666/6666 [==============================] - 16s 2ms/step - loss: 1.2005 - accuracy: 0.5388 - recall: 0.3694 - val_loss: 1.2132 - val_accuracy: 0.5362 - val_recall: 0.3617\n",
            "Epoch 23/100\n",
            "6666/6666 [==============================] - 18s 3ms/step - loss: 1.2001 - accuracy: 0.5383 - recall: 0.3691 - val_loss: 1.2119 - val_accuracy: 0.5360 - val_recall: 0.3817\n",
            "Epoch 24/100\n",
            "6666/6666 [==============================] - 16s 2ms/step - loss: 1.1994 - accuracy: 0.5378 - recall: 0.3714 - val_loss: 1.2109 - val_accuracy: 0.5359 - val_recall: 0.3611\n",
            "Epoch 25/100\n",
            "6666/6666 [==============================] - 16s 2ms/step - loss: 1.1991 - accuracy: 0.5379 - recall: 0.3707 - val_loss: 1.2125 - val_accuracy: 0.5358 - val_recall: 0.3871\n",
            "Epoch 26/100\n",
            "6666/6666 [==============================] - 17s 3ms/step - loss: 1.1987 - accuracy: 0.5378 - recall: 0.3709 - val_loss: 1.2100 - val_accuracy: 0.5370 - val_recall: 0.3647\n",
            "Epoch 27/100\n",
            "6666/6666 [==============================] - 16s 2ms/step - loss: 1.1981 - accuracy: 0.5383 - recall: 0.3701 - val_loss: 1.2115 - val_accuracy: 0.5358 - val_recall: 0.3488\n",
            "Epoch 28/100\n",
            "6666/6666 [==============================] - 17s 3ms/step - loss: 1.1980 - accuracy: 0.5388 - recall: 0.3697 - val_loss: 1.2147 - val_accuracy: 0.5347 - val_recall: 0.3927\n",
            "Epoch 29/100\n",
            "6666/6666 [==============================] - 18s 3ms/step - loss: 1.1976 - accuracy: 0.5390 - recall: 0.3705 - val_loss: 1.2120 - val_accuracy: 0.5357 - val_recall: 0.3435\n",
            "Epoch 30/100\n",
            "6666/6666 [==============================] - 17s 3ms/step - loss: 1.1973 - accuracy: 0.5390 - recall: 0.3693 - val_loss: 1.2131 - val_accuracy: 0.5368 - val_recall: 0.3933\n",
            "Epoch 31/100\n",
            "6666/6666 [==============================] - 16s 2ms/step - loss: 1.1969 - accuracy: 0.5390 - recall: 0.3708 - val_loss: 1.2128 - val_accuracy: 0.5352 - val_recall: 0.3715\n",
            "Epoch 32/100\n",
            "6666/6666 [==============================] - 17s 3ms/step - loss: 1.1970 - accuracy: 0.5385 - recall: 0.3709 - val_loss: 1.2123 - val_accuracy: 0.5365 - val_recall: 0.3610\n",
            "Epoch 33/100\n",
            "6666/6666 [==============================] - 18s 3ms/step - loss: 1.1964 - accuracy: 0.5381 - recall: 0.3714 - val_loss: 1.2131 - val_accuracy: 0.5355 - val_recall: 0.3439\n",
            "Epoch 34/100\n",
            "6666/6666 [==============================] - 18s 3ms/step - loss: 1.1962 - accuracy: 0.5391 - recall: 0.3713 - val_loss: 1.2119 - val_accuracy: 0.5353 - val_recall: 0.3660\n",
            "Epoch 35/100\n",
            "6666/6666 [==============================] - 18s 3ms/step - loss: 1.1961 - accuracy: 0.5391 - recall: 0.3713 - val_loss: 1.2140 - val_accuracy: 0.5350 - val_recall: 0.3355\n",
            "Epoch 36/100\n",
            "6666/6666 [==============================] - 19s 3ms/step - loss: 1.1954 - accuracy: 0.5388 - recall: 0.3705 - val_loss: 1.2163 - val_accuracy: 0.5372 - val_recall: 0.3800\n",
            "Epoch 37/100\n",
            "6666/6666 [==============================] - 19s 3ms/step - loss: 1.1958 - accuracy: 0.5392 - recall: 0.3710 - val_loss: 1.2120 - val_accuracy: 0.5360 - val_recall: 0.3644\n",
            "Epoch 38/100\n",
            "6666/6666 [==============================] - 19s 3ms/step - loss: 1.1946 - accuracy: 0.5391 - recall: 0.3704 - val_loss: 1.2128 - val_accuracy: 0.5357 - val_recall: 0.3571\n",
            "Epoch 39/100\n",
            "6666/6666 [==============================] - 19s 3ms/step - loss: 1.1952 - accuracy: 0.5388 - recall: 0.3721 - val_loss: 1.2145 - val_accuracy: 0.5356 - val_recall: 0.3641\n",
            "Epoch 40/100\n",
            "6666/6666 [==============================] - 19s 3ms/step - loss: 1.1949 - accuracy: 0.5391 - recall: 0.3715 - val_loss: 1.2148 - val_accuracy: 0.5340 - val_recall: 0.3550\n",
            "Epoch 41/100\n",
            "6666/6666 [==============================] - 17s 3ms/step - loss: 1.1949 - accuracy: 0.5394 - recall: 0.3705 - val_loss: 1.2155 - val_accuracy: 0.5349 - val_recall: 0.3578\n",
            "Epoch 42/100\n",
            "6666/6666 [==============================] - 17s 3ms/step - loss: 1.1947 - accuracy: 0.5399 - recall: 0.3727 - val_loss: 1.2116 - val_accuracy: 0.5355 - val_recall: 0.3509\n",
            "Epoch 43/100\n",
            "6666/6666 [==============================] - 17s 3ms/step - loss: 1.1946 - accuracy: 0.5393 - recall: 0.3723 - val_loss: 1.2149 - val_accuracy: 0.5352 - val_recall: 0.3727\n",
            "Epoch 44/100\n",
            "6666/6666 [==============================] - 17s 3ms/step - loss: 1.1946 - accuracy: 0.5395 - recall: 0.3735 - val_loss: 1.2133 - val_accuracy: 0.5346 - val_recall: 0.3481\n",
            "Epoch 45/100\n",
            "6666/6666 [==============================] - 17s 3ms/step - loss: 1.1942 - accuracy: 0.5392 - recall: 0.3728 - val_loss: 1.2135 - val_accuracy: 0.5353 - val_recall: 0.3791\n",
            "Epoch 46/100\n",
            "6666/6666 [==============================] - 17s 3ms/step - loss: 1.1944 - accuracy: 0.5394 - recall: 0.3726 - val_loss: 1.2136 - val_accuracy: 0.5343 - val_recall: 0.3745\n",
            "Epoch 47/100\n",
            "6666/6666 [==============================] - 19s 3ms/step - loss: 1.1936 - accuracy: 0.5391 - recall: 0.3714 - val_loss: 1.2152 - val_accuracy: 0.5364 - val_recall: 0.3800\n",
            "Epoch 48/100\n",
            "6666/6666 [==============================] - 17s 3ms/step - loss: 1.1934 - accuracy: 0.5393 - recall: 0.3723 - val_loss: 1.2167 - val_accuracy: 0.5331 - val_recall: 0.3416\n",
            "Epoch 49/100\n",
            "6666/6666 [==============================] - 17s 3ms/step - loss: 1.1939 - accuracy: 0.5394 - recall: 0.3723 - val_loss: 1.2132 - val_accuracy: 0.5359 - val_recall: 0.3791\n",
            "Epoch 50/100\n",
            "6666/6666 [==============================] - 17s 3ms/step - loss: 1.1931 - accuracy: 0.5394 - recall: 0.3723 - val_loss: 1.2145 - val_accuracy: 0.5359 - val_recall: 0.3726\n",
            "Epoch 51/100\n",
            "6666/6666 [==============================] - 16s 2ms/step - loss: 1.1933 - accuracy: 0.5388 - recall: 0.3736 - val_loss: 1.2144 - val_accuracy: 0.5363 - val_recall: 0.3847\n",
            "Epoch 52/100\n",
            "6666/6666 [==============================] - 15s 2ms/step - loss: 1.1929 - accuracy: 0.5393 - recall: 0.3735 - val_loss: 1.2139 - val_accuracy: 0.5354 - val_recall: 0.3655\n",
            "Epoch 53/100\n",
            "6666/6666 [==============================] - 15s 2ms/step - loss: 1.1929 - accuracy: 0.5397 - recall: 0.3734 - val_loss: 1.2171 - val_accuracy: 0.5360 - val_recall: 0.3510\n",
            "Epoch 54/100\n",
            "6666/6666 [==============================] - 15s 2ms/step - loss: 1.1926 - accuracy: 0.5396 - recall: 0.3749 - val_loss: 1.2189 - val_accuracy: 0.5326 - val_recall: 0.3319\n",
            "Epoch 55/100\n",
            "6666/6666 [==============================] - 16s 2ms/step - loss: 1.1926 - accuracy: 0.5393 - recall: 0.3721 - val_loss: 1.2145 - val_accuracy: 0.5361 - val_recall: 0.3595\n",
            "Epoch 56/100\n",
            "6666/6666 [==============================] - 15s 2ms/step - loss: 1.1920 - accuracy: 0.5397 - recall: 0.3734 - val_loss: 1.2146 - val_accuracy: 0.5354 - val_recall: 0.3749\n",
            "Epoch 57/100\n",
            "6666/6666 [==============================] - 15s 2ms/step - loss: 1.1922 - accuracy: 0.5400 - recall: 0.3726 - val_loss: 1.2165 - val_accuracy: 0.5348 - val_recall: 0.3669\n",
            "Epoch 58/100\n",
            "6666/6666 [==============================] - 15s 2ms/step - loss: 1.1921 - accuracy: 0.5397 - recall: 0.3746 - val_loss: 1.2174 - val_accuracy: 0.5340 - val_recall: 0.3546\n",
            "Epoch 59/100\n",
            "6666/6666 [==============================] - 15s 2ms/step - loss: 1.1916 - accuracy: 0.5398 - recall: 0.3751 - val_loss: 1.2151 - val_accuracy: 0.5357 - val_recall: 0.3399\n",
            "Epoch 60/100\n",
            "6666/6666 [==============================] - 15s 2ms/step - loss: 1.1921 - accuracy: 0.5398 - recall: 0.3722 - val_loss: 1.2147 - val_accuracy: 0.5338 - val_recall: 0.3468\n",
            "Epoch 61/100\n",
            "6666/6666 [==============================] - 15s 2ms/step - loss: 1.1916 - accuracy: 0.5400 - recall: 0.3723 - val_loss: 1.2143 - val_accuracy: 0.5331 - val_recall: 0.3455\n",
            "Epoch 62/100\n",
            "6666/6666 [==============================] - 15s 2ms/step - loss: 1.1918 - accuracy: 0.5401 - recall: 0.3730 - val_loss: 1.2130 - val_accuracy: 0.5365 - val_recall: 0.3739\n",
            "Epoch 63/100\n",
            "6666/6666 [==============================] - 15s 2ms/step - loss: 1.1912 - accuracy: 0.5402 - recall: 0.3723 - val_loss: 1.2182 - val_accuracy: 0.5347 - val_recall: 0.4045\n",
            "Epoch 64/100\n",
            "6666/6666 [==============================] - 15s 2ms/step - loss: 1.1913 - accuracy: 0.5397 - recall: 0.3727 - val_loss: 1.2135 - val_accuracy: 0.5358 - val_recall: 0.3591\n",
            "Epoch 65/100\n",
            "6666/6666 [==============================] - 15s 2ms/step - loss: 1.1916 - accuracy: 0.5399 - recall: 0.3732 - val_loss: 1.2141 - val_accuracy: 0.5360 - val_recall: 0.3776\n",
            "Epoch 66/100\n",
            "6666/6666 [==============================] - 15s 2ms/step - loss: 1.1910 - accuracy: 0.5395 - recall: 0.3723 - val_loss: 1.2188 - val_accuracy: 0.5349 - val_recall: 0.3851\n",
            "Epoch 67/100\n",
            "6666/6666 [==============================] - 15s 2ms/step - loss: 1.1907 - accuracy: 0.5405 - recall: 0.3741 - val_loss: 1.2179 - val_accuracy: 0.5355 - val_recall: 0.3612\n",
            "Epoch 68/100\n",
            "6666/6666 [==============================] - 15s 2ms/step - loss: 1.1913 - accuracy: 0.5401 - recall: 0.3727 - val_loss: 1.2173 - val_accuracy: 0.5358 - val_recall: 0.3997\n",
            "Epoch 69/100\n",
            "6666/6666 [==============================] - 15s 2ms/step - loss: 1.1909 - accuracy: 0.5398 - recall: 0.3739 - val_loss: 1.2156 - val_accuracy: 0.5349 - val_recall: 0.3706\n",
            "Epoch 70/100\n",
            "6666/6666 [==============================] - 15s 2ms/step - loss: 1.1908 - accuracy: 0.5407 - recall: 0.3747 - val_loss: 1.2164 - val_accuracy: 0.5345 - val_recall: 0.3607\n",
            "Epoch 71/100\n",
            "6666/6666 [==============================] - 15s 2ms/step - loss: 1.1905 - accuracy: 0.5400 - recall: 0.3735 - val_loss: 1.2190 - val_accuracy: 0.5338 - val_recall: 0.3497\n",
            "Epoch 72/100\n",
            "6666/6666 [==============================] - 15s 2ms/step - loss: 1.1909 - accuracy: 0.5399 - recall: 0.3722 - val_loss: 1.2177 - val_accuracy: 0.5353 - val_recall: 0.3669\n",
            "Epoch 73/100\n",
            "6666/6666 [==============================] - 15s 2ms/step - loss: 1.1906 - accuracy: 0.5397 - recall: 0.3742 - val_loss: 1.2178 - val_accuracy: 0.5345 - val_recall: 0.3820\n",
            "Epoch 74/100\n",
            "6666/6666 [==============================] - 15s 2ms/step - loss: 1.1904 - accuracy: 0.5404 - recall: 0.3757 - val_loss: 1.2143 - val_accuracy: 0.5361 - val_recall: 0.3648\n",
            "Epoch 75/100\n",
            "6666/6666 [==============================] - 15s 2ms/step - loss: 1.1897 - accuracy: 0.5402 - recall: 0.3762 - val_loss: 1.2226 - val_accuracy: 0.5350 - val_recall: 0.3918\n",
            "Epoch 76/100\n",
            "6666/6666 [==============================] - 15s 2ms/step - loss: 1.1904 - accuracy: 0.5401 - recall: 0.3747 - val_loss: 1.2183 - val_accuracy: 0.5343 - val_recall: 0.3795\n",
            "Epoch 77/100\n",
            "6666/6666 [==============================] - 15s 2ms/step - loss: 1.1901 - accuracy: 0.5407 - recall: 0.3724 - val_loss: 1.2143 - val_accuracy: 0.5354 - val_recall: 0.3596\n",
            "Epoch 78/100\n",
            "6666/6666 [==============================] - 16s 2ms/step - loss: 1.1895 - accuracy: 0.5406 - recall: 0.3737 - val_loss: 1.2164 - val_accuracy: 0.5353 - val_recall: 0.3691\n",
            "Epoch 79/100\n",
            "6666/6666 [==============================] - 15s 2ms/step - loss: 1.1901 - accuracy: 0.5399 - recall: 0.3744 - val_loss: 1.2202 - val_accuracy: 0.5332 - val_recall: 0.3486\n",
            "Epoch 80/100\n",
            "6666/6666 [==============================] - 15s 2ms/step - loss: 1.1898 - accuracy: 0.5406 - recall: 0.3732 - val_loss: 1.2171 - val_accuracy: 0.5354 - val_recall: 0.3965\n",
            "Epoch 81/100\n",
            "6666/6666 [==============================] - 15s 2ms/step - loss: 1.1898 - accuracy: 0.5409 - recall: 0.3729 - val_loss: 1.2206 - val_accuracy: 0.5334 - val_recall: 0.3607\n",
            "Epoch 82/100\n",
            "6666/6666 [==============================] - 15s 2ms/step - loss: 1.1896 - accuracy: 0.5403 - recall: 0.3723 - val_loss: 1.2186 - val_accuracy: 0.5358 - val_recall: 0.3879\n",
            "Epoch 83/100\n",
            "6666/6666 [==============================] - 16s 2ms/step - loss: 1.1901 - accuracy: 0.5403 - recall: 0.3724 - val_loss: 1.2165 - val_accuracy: 0.5365 - val_recall: 0.3777\n",
            "Epoch 84/100\n",
            "6666/6666 [==============================] - 15s 2ms/step - loss: 1.1889 - accuracy: 0.5400 - recall: 0.3744 - val_loss: 1.2184 - val_accuracy: 0.5352 - val_recall: 0.3879\n",
            "Epoch 85/100\n",
            "6666/6666 [==============================] - 16s 2ms/step - loss: 1.1894 - accuracy: 0.5401 - recall: 0.3743 - val_loss: 1.2192 - val_accuracy: 0.5362 - val_recall: 0.3805\n",
            "Epoch 86/100\n",
            "6666/6666 [==============================] - 16s 2ms/step - loss: 1.1891 - accuracy: 0.5405 - recall: 0.3754 - val_loss: 1.2169 - val_accuracy: 0.5345 - val_recall: 0.3568\n",
            "Epoch 87/100\n",
            "6666/6666 [==============================] - 16s 2ms/step - loss: 1.1892 - accuracy: 0.5409 - recall: 0.3754 - val_loss: 1.2246 - val_accuracy: 0.5351 - val_recall: 0.4047\n",
            "Epoch 88/100\n",
            "6666/6666 [==============================] - 16s 2ms/step - loss: 1.1894 - accuracy: 0.5404 - recall: 0.3740 - val_loss: 1.2178 - val_accuracy: 0.5330 - val_recall: 0.3497\n",
            "Epoch 89/100\n",
            "6666/6666 [==============================] - 16s 2ms/step - loss: 1.1891 - accuracy: 0.5404 - recall: 0.3756 - val_loss: 1.2206 - val_accuracy: 0.5352 - val_recall: 0.3625\n",
            "Epoch 90/100\n",
            "6666/6666 [==============================] - 16s 2ms/step - loss: 1.1889 - accuracy: 0.5406 - recall: 0.3742 - val_loss: 1.2264 - val_accuracy: 0.5344 - val_recall: 0.3920\n",
            "Epoch 91/100\n",
            "6666/6666 [==============================] - 15s 2ms/step - loss: 1.1895 - accuracy: 0.5405 - recall: 0.3749 - val_loss: 1.2180 - val_accuracy: 0.5328 - val_recall: 0.3414\n",
            "Epoch 92/100\n",
            "6666/6666 [==============================] - 15s 2ms/step - loss: 1.1891 - accuracy: 0.5411 - recall: 0.3745 - val_loss: 1.2226 - val_accuracy: 0.5354 - val_recall: 0.4078\n",
            "Epoch 93/100\n",
            "6666/6666 [==============================] - 16s 2ms/step - loss: 1.1889 - accuracy: 0.5404 - recall: 0.3739 - val_loss: 1.2223 - val_accuracy: 0.5348 - val_recall: 0.3787\n",
            "Epoch 94/100\n",
            "6666/6666 [==============================] - 16s 2ms/step - loss: 1.1893 - accuracy: 0.5401 - recall: 0.3738 - val_loss: 1.2193 - val_accuracy: 0.5350 - val_recall: 0.4035\n",
            "Epoch 95/100\n",
            "6666/6666 [==============================] - 16s 2ms/step - loss: 1.1893 - accuracy: 0.5407 - recall: 0.3741 - val_loss: 1.2211 - val_accuracy: 0.5344 - val_recall: 0.3785\n",
            "Epoch 96/100\n",
            "6666/6666 [==============================] - 16s 2ms/step - loss: 1.1889 - accuracy: 0.5403 - recall: 0.3750 - val_loss: 1.2206 - val_accuracy: 0.5360 - val_recall: 0.3536\n",
            "Epoch 97/100\n",
            "6666/6666 [==============================] - 16s 2ms/step - loss: 1.1889 - accuracy: 0.5407 - recall: 0.3755 - val_loss: 1.2191 - val_accuracy: 0.5348 - val_recall: 0.3587\n",
            "Epoch 98/100\n",
            "6666/6666 [==============================] - 16s 2ms/step - loss: 1.1890 - accuracy: 0.5406 - recall: 0.3744 - val_loss: 1.2195 - val_accuracy: 0.5356 - val_recall: 0.3492\n",
            "Epoch 99/100\n",
            "6666/6666 [==============================] - 15s 2ms/step - loss: 1.1889 - accuracy: 0.5403 - recall: 0.3743 - val_loss: 1.2226 - val_accuracy: 0.5344 - val_recall: 0.3619\n",
            "Epoch 100/100\n",
            "6666/6666 [==============================] - 15s 2ms/step - loss: 1.1887 - accuracy: 0.5409 - recall: 0.3742 - val_loss: 1.2263 - val_accuracy: 0.5343 - val_recall: 0.3614\n"
          ]
        }
      ]
    },
    {
      "cell_type": "code",
      "metadata": {
        "colab": {
          "base_uri": "https://localhost:8080/"
        },
        "id": "ym4IVjomMUeC",
        "outputId": "614b89c8-4b16-4f2a-fdd8-2826171f5459"
      },
      "source": [
        "# Evaluate the model using the training data \n",
        "model_loss, model_accuracy, model_Recall = nn.evaluate(X_test_scaled, y_test, verbose=2)\n",
        "print(f\"Loss: {model_loss}, Accuracy: {model_accuracy}\")"
      ],
      "execution_count": 37,
      "outputs": [
        {
          "output_type": "stream",
          "name": "stdout",
          "text": [
            "2615/2615 - 3s - loss: 1.2297 - accuracy: 0.5317 - recall: 0.3598\n",
            "Loss: 1.2297433614730835, Accuracy: 0.5316501259803772\n"
          ]
        }
      ]
    },
    {
      "cell_type": "code",
      "metadata": {
        "id": "cZ0NItyVo9XI",
        "colab": {
          "base_uri": "https://localhost:8080/",
          "height": 404
        },
        "outputId": "25e59d81-1254-4b48-d764-62036174ebb8"
      },
      "source": [
        "# Model Loss Graph\n",
        "plt.style.use('seaborn')\n",
        "plt.title('Loss \\n',fontsize=20)\n",
        "plt.plot(fit_model.history['loss'], 'orchid', label='Training Loss')\n",
        "plt.plot(fit_model.history['val_loss'],'royalblue', label='Validation Loss')\n",
        "plt.xlabel('Number of Epochs')\n",
        "plt.ylabel('Loss')\n",
        "plt.legend()\n",
        "plt.show()"
      ],
      "execution_count": 38,
      "outputs": [
        {
          "output_type": "display_data",
          "data": {
            "image/png": "[encoded data removed]",
            "text/plain": [
              "<Figure size 576x396 with 1 Axes>"
            ]
          },
          "metadata": {}
        }
      ]
    },
    {
      "cell_type": "code",
      "metadata": {
        "id": "PJ1Gy1KHKDp4"
      },
      "source": [
        ""
      ],
      "execution_count": null,
      "outputs": []
    }
  ]
}