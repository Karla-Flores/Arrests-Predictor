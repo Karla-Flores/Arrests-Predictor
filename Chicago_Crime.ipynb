{
  "nbformat": 4,
  "nbformat_minor": 0,
  "metadata": {
    "colab": {
      "name": "Chicago_Crime.ipynb",
      "provenance": [],
      "authorship_tag": "ABX9TyPooj7bFiQocFHDC0X3Oati",
      "include_colab_link": true
    },
    "kernelspec": {
      "name": "python3",
      "display_name": "Python 3"
    },
    "language_info": {
      "name": "python"
    }
  },
  "cells": [
    {
      "cell_type": "markdown",
      "metadata": {
        "id": "view-in-github",
        "colab_type": "text"
      },
      "source": [
        "<a href=\"https://colab.research.google.com/github/Karla-Flores/Project-04/blob/main/Chicago_Crime.ipynb\" target=\"_parent\"><img src=\"https://colab.research.google.com/assets/colab-badge.svg\" alt=\"Open In Colab\"/></a>"
      ]
    },
    {
      "cell_type": "markdown",
      "metadata": {
        "id": "jZN5JUejZM9Z"
      },
      "source": [
        "\n",
        "# **Preprocessing**"
      ]
    },
    {
      "cell_type": "code",
      "metadata": {
        "id": "-f8wn-tjZi4F"
      },
      "source": [
        "# Import our dependencies\n",
        "from sklearn.model_selection import train_test_split\n",
        "from sklearn.preprocessing import StandardScaler\n",
        "import tensorflow as tf\n",
        "import matplotlib.pyplot as plt\n",
        "import pandas as pd"
      ],
      "execution_count": 2,
      "outputs": []
    },
    {
      "cell_type": "code",
      "metadata": {
        "id": "8QnexXhTgVUT",
        "colab": {
          "base_uri": "https://localhost:8080/",
          "height": 419
        },
        "outputId": "1f415da0-632f-4f5c-8270-4de889075a10"
      },
      "source": [
        "url = 'https://chicago-crime-db.s3.amazonaws.com/chicago_crime_db.csv'\n",
        "data = pd.read_csv(url)\n",
        "data"
      ],
      "execution_count": 3,
      "outputs": [
        {
          "output_type": "execute_result",
          "data": {
            "text/html": [
              "<div>\n",
              "<style scoped>\n",
              "    .dataframe tbody tr th:only-of-type {\n",
              "        vertical-align: middle;\n",
              "    }\n",
              "\n",
              "    .dataframe tbody tr th {\n",
              "        vertical-align: top;\n",
              "    }\n",
              "\n",
              "    .dataframe thead th {\n",
              "        text-align: right;\n",
              "    }\n",
              "</style>\n",
              "<table border=\"1\" class=\"dataframe\">\n",
              "  <thead>\n",
              "    <tr style=\"text-align: right;\">\n",
              "      <th></th>\n",
              "      <th>Primary Type</th>\n",
              "      <th>Description</th>\n",
              "      <th>Arrest</th>\n",
              "      <th>Domestic</th>\n",
              "      <th>Ward</th>\n",
              "      <th>Year</th>\n",
              "      <th>Latitude</th>\n",
              "      <th>Longitude</th>\n",
              "      <th>Zip Codes</th>\n",
              "      <th>Location Description</th>\n",
              "      <th>Month</th>\n",
              "      <th>Hour</th>\n",
              "    </tr>\n",
              "  </thead>\n",
              "  <tbody>\n",
              "    <tr>\n",
              "      <th>0</th>\n",
              "      <td>BATTERY</td>\n",
              "      <td>DOMESTIC BATTERY SIMPLE</td>\n",
              "      <td>False</td>\n",
              "      <td>True</td>\n",
              "      <td>12.0</td>\n",
              "      <td>2015</td>\n",
              "      <td>41.815117</td>\n",
              "      <td>-87.670000</td>\n",
              "      <td>14924.0</td>\n",
              "      <td>RESIDENCE</td>\n",
              "      <td>9</td>\n",
              "      <td>5</td>\n",
              "    </tr>\n",
              "    <tr>\n",
              "      <th>1</th>\n",
              "      <td>THEFT</td>\n",
              "      <td>POCKET-PICKING</td>\n",
              "      <td>False</td>\n",
              "      <td>False</td>\n",
              "      <td>29.0</td>\n",
              "      <td>2015</td>\n",
              "      <td>41.895080</td>\n",
              "      <td>-87.765400</td>\n",
              "      <td>4299.0</td>\n",
              "      <td>CTA</td>\n",
              "      <td>9</td>\n",
              "      <td>4</td>\n",
              "    </tr>\n",
              "    <tr>\n",
              "      <th>2</th>\n",
              "      <td>NARCOTICS</td>\n",
              "      <td>POSS: HEROIN(BRN/TAN)</td>\n",
              "      <td>True</td>\n",
              "      <td>False</td>\n",
              "      <td>35.0</td>\n",
              "      <td>2015</td>\n",
              "      <td>41.937406</td>\n",
              "      <td>-87.716650</td>\n",
              "      <td>21538.0</td>\n",
              "      <td>PUBLIC OPEN SPACE</td>\n",
              "      <td>9</td>\n",
              "      <td>5</td>\n",
              "    </tr>\n",
              "    <tr>\n",
              "      <th>3</th>\n",
              "      <td>ASSAULT</td>\n",
              "      <td>SIMPLE</td>\n",
              "      <td>False</td>\n",
              "      <td>True</td>\n",
              "      <td>28.0</td>\n",
              "      <td>2015</td>\n",
              "      <td>41.881903</td>\n",
              "      <td>-87.755121</td>\n",
              "      <td>22216.0</td>\n",
              "      <td>RESIDENCE</td>\n",
              "      <td>9</td>\n",
              "      <td>5</td>\n",
              "    </tr>\n",
              "    <tr>\n",
              "      <th>4</th>\n",
              "      <td>BURGLARY</td>\n",
              "      <td>FORCIBLE ENTRY</td>\n",
              "      <td>False</td>\n",
              "      <td>False</td>\n",
              "      <td>21.0</td>\n",
              "      <td>2015</td>\n",
              "      <td>41.744379</td>\n",
              "      <td>-87.658431</td>\n",
              "      <td>21554.0</td>\n",
              "      <td>RESIDENCE</td>\n",
              "      <td>9</td>\n",
              "      <td>5</td>\n",
              "    </tr>\n",
              "    <tr>\n",
              "      <th>...</th>\n",
              "      <td>...</td>\n",
              "      <td>...</td>\n",
              "      <td>...</td>\n",
              "      <td>...</td>\n",
              "      <td>...</td>\n",
              "      <td>...</td>\n",
              "      <td>...</td>\n",
              "      <td>...</td>\n",
              "      <td>...</td>\n",
              "      <td>...</td>\n",
              "      <td>...</td>\n",
              "      <td>...</td>\n",
              "    </tr>\n",
              "    <tr>\n",
              "      <th>6691913</th>\n",
              "      <td>OTHER OFFENSE</td>\n",
              "      <td>HARASSMENT BY ELECTRONIC MEANS</td>\n",
              "      <td>False</td>\n",
              "      <td>True</td>\n",
              "      <td>10.0</td>\n",
              "      <td>2021</td>\n",
              "      <td>41.730171</td>\n",
              "      <td>-87.543339</td>\n",
              "      <td>21202.0</td>\n",
              "      <td>RESIDENCE</td>\n",
              "      <td>9</td>\n",
              "      <td>20</td>\n",
              "    </tr>\n",
              "    <tr>\n",
              "      <th>6691914</th>\n",
              "      <td>ASSAULT</td>\n",
              "      <td>SIMPLE</td>\n",
              "      <td>False</td>\n",
              "      <td>True</td>\n",
              "      <td>10.0</td>\n",
              "      <td>2021</td>\n",
              "      <td>41.720964</td>\n",
              "      <td>-87.548991</td>\n",
              "      <td>21202.0</td>\n",
              "      <td>RESIDENCE</td>\n",
              "      <td>9</td>\n",
              "      <td>20</td>\n",
              "    </tr>\n",
              "    <tr>\n",
              "      <th>6691915</th>\n",
              "      <td>CRIMINAL DAMAGE</td>\n",
              "      <td>TO PROPERTY</td>\n",
              "      <td>False</td>\n",
              "      <td>True</td>\n",
              "      <td>7.0</td>\n",
              "      <td>2021</td>\n",
              "      <td>41.748228</td>\n",
              "      <td>-87.556167</td>\n",
              "      <td>21202.0</td>\n",
              "      <td>RESIDENCE</td>\n",
              "      <td>9</td>\n",
              "      <td>20</td>\n",
              "    </tr>\n",
              "    <tr>\n",
              "      <th>6691916</th>\n",
              "      <td>THEFT</td>\n",
              "      <td>RETAIL THEFT</td>\n",
              "      <td>True</td>\n",
              "      <td>False</td>\n",
              "      <td>23.0</td>\n",
              "      <td>2021</td>\n",
              "      <td>41.794463</td>\n",
              "      <td>-87.770558</td>\n",
              "      <td>22268.0</td>\n",
              "      <td>COMMERCIAL BUILDING</td>\n",
              "      <td>9</td>\n",
              "      <td>20</td>\n",
              "    </tr>\n",
              "    <tr>\n",
              "      <th>6691917</th>\n",
              "      <td>ASSAULT</td>\n",
              "      <td>SIMPLE</td>\n",
              "      <td>False</td>\n",
              "      <td>False</td>\n",
              "      <td>28.0</td>\n",
              "      <td>2021</td>\n",
              "      <td>41.884521</td>\n",
              "      <td>-87.739472</td>\n",
              "      <td>21572.0</td>\n",
              "      <td>RESIDENCE</td>\n",
              "      <td>9</td>\n",
              "      <td>20</td>\n",
              "    </tr>\n",
              "  </tbody>\n",
              "</table>\n",
              "<p>6691918 rows × 12 columns</p>\n",
              "</div>"
            ],
            "text/plain": [
              "            Primary Type                     Description  ...  Month  Hour\n",
              "0                BATTERY         DOMESTIC BATTERY SIMPLE  ...      9     5\n",
              "1                  THEFT                  POCKET-PICKING  ...      9     4\n",
              "2              NARCOTICS           POSS: HEROIN(BRN/TAN)  ...      9     5\n",
              "3                ASSAULT                          SIMPLE  ...      9     5\n",
              "4               BURGLARY                  FORCIBLE ENTRY  ...      9     5\n",
              "...                  ...                             ...  ...    ...   ...\n",
              "6691913    OTHER OFFENSE  HARASSMENT BY ELECTRONIC MEANS  ...      9    20\n",
              "6691914          ASSAULT                          SIMPLE  ...      9    20\n",
              "6691915  CRIMINAL DAMAGE                     TO PROPERTY  ...      9    20\n",
              "6691916            THEFT                    RETAIL THEFT  ...      9    20\n",
              "6691917          ASSAULT                          SIMPLE  ...      9    20\n",
              "\n",
              "[6691918 rows x 12 columns]"
            ]
          },
          "metadata": {},
          "execution_count": 3
        }
      ]
    },
    {
      "cell_type": "code",
      "metadata": {
        "id": "u50FzJxfrX4_"
      },
      "source": [
        "# Convert categorical data to numeric with `pd.get_dummies`\n",
        "data = pd.get_dummies(data, dtype=float)"
      ],
      "execution_count": null,
      "outputs": []
    },
    {
      "cell_type": "code",
      "metadata": {
        "id": "a9YY9kN9rism"
      },
      "source": [
        "data.shape"
      ],
      "execution_count": null,
      "outputs": []
    },
    {
      "cell_type": "code",
      "metadata": {
        "id": "pWbUSV7lrArk"
      },
      "source": [
        "# Split our preprocessed data into our features and target arrays\n",
        "y = data.Arrest.values\n",
        "X = data.drop('Arrest', axis=1).values"
      ],
      "execution_count": null,
      "outputs": []
    },
    {
      "cell_type": "code",
      "metadata": {
        "id": "axhT4mCrrPA-"
      },
      "source": [
        "# Split the preprocessed data into a training and\n",
        "# testing dataset\n",
        "X_train, X_test, y_train, y_test = train_test_split(X,y,random_state= 42)"
      ],
      "execution_count": null,
      "outputs": []
    },
    {
      "cell_type": "code",
      "metadata": {
        "id": "ZC99DTh_rSuw"
      },
      "source": [
        ""
      ],
      "execution_count": null,
      "outputs": []
    }
  ]
}