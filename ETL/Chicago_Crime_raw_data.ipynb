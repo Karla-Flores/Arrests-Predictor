{
 "cells": [
  {
   "cell_type": "code",
   "execution_count": 1,
   "metadata": {},
   "outputs": [],
   "source": [
    "# Dependencies and set up\n",
    "import pandas as pd\n",
    "import numpy as np"
   ]
  },
  {
   "cell_type": "code",
   "execution_count": 2,
   "metadata": {},
   "outputs": [
    {
     "data": {
      "text/html": [
       "<div>\n",
       "<style scoped>\n",
       "    .dataframe tbody tr th:only-of-type {\n",
       "        vertical-align: middle;\n",
       "    }\n",
       "\n",
       "    .dataframe tbody tr th {\n",
       "        vertical-align: top;\n",
       "    }\n",
       "\n",
       "    .dataframe thead th {\n",
       "        text-align: right;\n",
       "    }\n",
       "</style>\n",
       "<table border=\"1\" class=\"dataframe\">\n",
       "  <thead>\n",
       "    <tr style=\"text-align: right;\">\n",
       "      <th></th>\n",
       "      <th>ID</th>\n",
       "      <th>Case Number</th>\n",
       "      <th>Date</th>\n",
       "      <th>Block</th>\n",
       "      <th>IUCR</th>\n",
       "      <th>Primary Type</th>\n",
       "      <th>Description</th>\n",
       "      <th>Location Description</th>\n",
       "      <th>Arrest</th>\n",
       "      <th>Domestic</th>\n",
       "      <th>...</th>\n",
       "      <th>Longitude</th>\n",
       "      <th>Location</th>\n",
       "      <th>Historical Wards 2003-2015</th>\n",
       "      <th>Zip Codes</th>\n",
       "      <th>Community Areas</th>\n",
       "      <th>Census Tracts</th>\n",
       "      <th>Wards</th>\n",
       "      <th>Boundaries - ZIP Codes</th>\n",
       "      <th>Police Districts</th>\n",
       "      <th>Police Beats</th>\n",
       "    </tr>\n",
       "  </thead>\n",
       "  <tbody>\n",
       "    <tr>\n",
       "      <th>0</th>\n",
       "      <td>10224738</td>\n",
       "      <td>HY411648</td>\n",
       "      <td>09/05/2015 01:30:00 PM</td>\n",
       "      <td>043XX S WOOD ST</td>\n",
       "      <td>0486</td>\n",
       "      <td>BATTERY</td>\n",
       "      <td>DOMESTIC BATTERY SIMPLE</td>\n",
       "      <td>RESIDENCE</td>\n",
       "      <td>False</td>\n",
       "      <td>True</td>\n",
       "      <td>...</td>\n",
       "      <td>-87.670000</td>\n",
       "      <td>(41.815117282, -87.669999562)</td>\n",
       "      <td>29.0</td>\n",
       "      <td>14924.0</td>\n",
       "      <td>59.0</td>\n",
       "      <td>706.0</td>\n",
       "      <td>3.0</td>\n",
       "      <td>37.0</td>\n",
       "      <td>23.0</td>\n",
       "      <td>108.0</td>\n",
       "    </tr>\n",
       "    <tr>\n",
       "      <th>1</th>\n",
       "      <td>10224739</td>\n",
       "      <td>HY411615</td>\n",
       "      <td>09/04/2015 11:30:00 AM</td>\n",
       "      <td>008XX N CENTRAL AVE</td>\n",
       "      <td>0870</td>\n",
       "      <td>THEFT</td>\n",
       "      <td>POCKET-PICKING</td>\n",
       "      <td>CTA BUS</td>\n",
       "      <td>False</td>\n",
       "      <td>False</td>\n",
       "      <td>...</td>\n",
       "      <td>-87.765400</td>\n",
       "      <td>(41.895080471, -87.765400451)</td>\n",
       "      <td>4.0</td>\n",
       "      <td>4299.0</td>\n",
       "      <td>26.0</td>\n",
       "      <td>562.0</td>\n",
       "      <td>45.0</td>\n",
       "      <td>5.0</td>\n",
       "      <td>25.0</td>\n",
       "      <td>67.0</td>\n",
       "    </tr>\n",
       "    <tr>\n",
       "      <th>2</th>\n",
       "      <td>11646166</td>\n",
       "      <td>JC213529</td>\n",
       "      <td>09/01/2018 12:01:00 AM</td>\n",
       "      <td>082XX S INGLESIDE AVE</td>\n",
       "      <td>0810</td>\n",
       "      <td>THEFT</td>\n",
       "      <td>OVER $500</td>\n",
       "      <td>RESIDENCE</td>\n",
       "      <td>False</td>\n",
       "      <td>True</td>\n",
       "      <td>...</td>\n",
       "      <td>NaN</td>\n",
       "      <td>NaN</td>\n",
       "      <td>NaN</td>\n",
       "      <td>NaN</td>\n",
       "      <td>NaN</td>\n",
       "      <td>NaN</td>\n",
       "      <td>NaN</td>\n",
       "      <td>NaN</td>\n",
       "      <td>NaN</td>\n",
       "      <td>NaN</td>\n",
       "    </tr>\n",
       "    <tr>\n",
       "      <th>3</th>\n",
       "      <td>10224740</td>\n",
       "      <td>HY411595</td>\n",
       "      <td>09/05/2015 12:45:00 PM</td>\n",
       "      <td>035XX W BARRY AVE</td>\n",
       "      <td>2023</td>\n",
       "      <td>NARCOTICS</td>\n",
       "      <td>POSS: HEROIN(BRN/TAN)</td>\n",
       "      <td>SIDEWALK</td>\n",
       "      <td>True</td>\n",
       "      <td>False</td>\n",
       "      <td>...</td>\n",
       "      <td>-87.716650</td>\n",
       "      <td>(41.937405765, -87.716649687)</td>\n",
       "      <td>15.0</td>\n",
       "      <td>21538.0</td>\n",
       "      <td>22.0</td>\n",
       "      <td>216.0</td>\n",
       "      <td>12.0</td>\n",
       "      <td>39.0</td>\n",
       "      <td>7.0</td>\n",
       "      <td>168.0</td>\n",
       "    </tr>\n",
       "    <tr>\n",
       "      <th>4</th>\n",
       "      <td>10224741</td>\n",
       "      <td>HY411610</td>\n",
       "      <td>09/05/2015 01:00:00 PM</td>\n",
       "      <td>0000X N LARAMIE AVE</td>\n",
       "      <td>0560</td>\n",
       "      <td>ASSAULT</td>\n",
       "      <td>SIMPLE</td>\n",
       "      <td>APARTMENT</td>\n",
       "      <td>False</td>\n",
       "      <td>True</td>\n",
       "      <td>...</td>\n",
       "      <td>-87.755121</td>\n",
       "      <td>(41.881903443, -87.755121152)</td>\n",
       "      <td>11.0</td>\n",
       "      <td>22216.0</td>\n",
       "      <td>26.0</td>\n",
       "      <td>696.0</td>\n",
       "      <td>23.0</td>\n",
       "      <td>32.0</td>\n",
       "      <td>25.0</td>\n",
       "      <td>81.0</td>\n",
       "    </tr>\n",
       "  </tbody>\n",
       "</table>\n",
       "<p>5 rows × 30 columns</p>\n",
       "</div>"
      ],
      "text/plain": [
       "         ID Case Number                    Date                  Block  IUCR  \\\n",
       "0  10224738    HY411648  09/05/2015 01:30:00 PM        043XX S WOOD ST  0486   \n",
       "1  10224739    HY411615  09/04/2015 11:30:00 AM    008XX N CENTRAL AVE  0870   \n",
       "2  11646166    JC213529  09/01/2018 12:01:00 AM  082XX S INGLESIDE AVE  0810   \n",
       "3  10224740    HY411595  09/05/2015 12:45:00 PM      035XX W BARRY AVE  2023   \n",
       "4  10224741    HY411610  09/05/2015 01:00:00 PM    0000X N LARAMIE AVE  0560   \n",
       "\n",
       "  Primary Type              Description Location Description  Arrest  \\\n",
       "0      BATTERY  DOMESTIC BATTERY SIMPLE            RESIDENCE   False   \n",
       "1        THEFT           POCKET-PICKING              CTA BUS   False   \n",
       "2        THEFT                OVER $500            RESIDENCE   False   \n",
       "3    NARCOTICS    POSS: HEROIN(BRN/TAN)             SIDEWALK    True   \n",
       "4      ASSAULT                   SIMPLE            APARTMENT   False   \n",
       "\n",
       "   Domestic  ...  Longitude                       Location  \\\n",
       "0      True  ... -87.670000  (41.815117282, -87.669999562)   \n",
       "1     False  ... -87.765400  (41.895080471, -87.765400451)   \n",
       "2      True  ...        NaN                            NaN   \n",
       "3     False  ... -87.716650  (41.937405765, -87.716649687)   \n",
       "4      True  ... -87.755121  (41.881903443, -87.755121152)   \n",
       "\n",
       "   Historical Wards 2003-2015  Zip Codes Community Areas  Census Tracts  \\\n",
       "0                        29.0    14924.0            59.0          706.0   \n",
       "1                         4.0     4299.0            26.0          562.0   \n",
       "2                         NaN        NaN             NaN            NaN   \n",
       "3                        15.0    21538.0            22.0          216.0   \n",
       "4                        11.0    22216.0            26.0          696.0   \n",
       "\n",
       "   Wards  Boundaries - ZIP Codes Police Districts  Police Beats  \n",
       "0    3.0                    37.0             23.0         108.0  \n",
       "1   45.0                     5.0             25.0          67.0  \n",
       "2    NaN                     NaN              NaN           NaN  \n",
       "3   12.0                    39.0              7.0         168.0  \n",
       "4   23.0                    32.0             25.0          81.0  \n",
       "\n",
       "[5 rows x 30 columns]"
      ]
     },
     "execution_count": 2,
     "metadata": {},
     "output_type": "execute_result"
    }
   ],
   "source": [
    "# Reading csv\n",
    "table = pd.read_csv('../Resources/Crimes_-_2001_to_Present.csv')\n",
    "table.head()"
   ]
  },
  {
   "cell_type": "code",
   "execution_count": 3,
   "metadata": {},
   "outputs": [
    {
     "data": {
      "text/plain": [
       "(7407479, 30)"
      ]
     },
     "execution_count": 3,
     "metadata": {},
     "output_type": "execute_result"
    }
   ],
   "source": [
    "table.shape"
   ]
  },
  {
   "cell_type": "code",
   "execution_count": 4,
   "metadata": {},
   "outputs": [],
   "source": [
    "# x =table.Date.iloc[0]\n",
    "# x[6:9]='1971'\n",
    "# x"
   ]
  },
  {
   "cell_type": "code",
   "execution_count": 5,
   "metadata": {},
   "outputs": [
    {
     "data": {
      "text/plain": [
       "(6692644, 30)"
      ]
     },
     "execution_count": 5,
     "metadata": {},
     "output_type": "execute_result"
    }
   ],
   "source": [
    "# Dropping NA\n",
    "table.dropna(inplace=True)\n",
    "table.shape"
   ]
  },
  {
   "cell_type": "code",
   "execution_count": 6,
   "metadata": {},
   "outputs": [
    {
     "data": {
      "text/plain": [
       "Primary Type                     \n",
       "THEFT                                1409837\n",
       "BATTERY                              1231503\n",
       "CRIMINAL DAMAGE                       766726\n",
       "NARCOTICS                             661117\n",
       "ASSAULT                               431406\n",
       "OTHER OFFENSE                         416061\n",
       "BURGLARY                              376987\n",
       "MOTOR VEHICLE THEFT                   304797\n",
       "DECEPTIVE PRACTICE                    279024\n",
       "ROBBERY                               252565\n",
       "CRIMINAL TRESPASS                     188689\n",
       "WEAPONS VIOLATION                      86711\n",
       "PROSTITUTION                           60816\n",
       "PUBLIC PEACE VIOLATION                 47429\n",
       "OFFENSE INVOLVING CHILDREN             46293\n",
       "SEX OFFENSE                            24415\n",
       "CRIM SEXUAL ASSAULT                    24216\n",
       "INTERFERENCE WITH PUBLIC OFFICER       17114\n",
       "GAMBLING                               13369\n",
       "LIQUOR LAW VIOLATION                   12421\n",
       "ARSON                                  11133\n",
       "HOMICIDE                               11023\n",
       "KIDNAPPING                              5820\n",
       "INTIMIDATION                            3956\n",
       "STALKING                                3758\n",
       "CRIMINAL SEXUAL ASSAULT                 3378\n",
       "CONCEALED CARRY LICENSE VIOLATION        794\n",
       "OBSCENITY                                689\n",
       "PUBLIC INDECENCY                         174\n",
       "NON-CRIMINAL                             164\n",
       "OTHER NARCOTIC VIOLATION                 128\n",
       "HUMAN TRAFFICKING                         69\n",
       "NON - CRIMINAL                            38\n",
       "RITUALISM                                 15\n",
       "NON-CRIMINAL (SUBJECT SPECIFIED)           9\n",
       "dtype: int64"
      ]
     },
     "execution_count": 6,
     "metadata": {},
     "output_type": "execute_result"
    }
   ],
   "source": [
    "# Primary type value counts\n",
    "table.value_counts(subset=['Primary Type'])"
   ]
  },
  {
   "cell_type": "code",
   "execution_count": null,
   "metadata": {},
   "outputs": [],
   "source": [
    "# Date format\n",
    "table.dates = pd.to_datetime(table.Date)\n",
    "# table.IUCR.dtypes"
   ]
  },
  {
   "cell_type": "code",
   "execution_count": null,
   "metadata": {},
   "outputs": [],
   "source": [
    "# Adding table.dates to new column 'new_date'\n",
    "table['new_date'] = table.dates\n",
    "table.head()"
   ]
  },
  {
   "cell_type": "code",
   "execution_count": null,
   "metadata": {},
   "outputs": [],
   "source": [
    "# Adding 'Hour' column on Timestamp format\n",
    "table['hour'] = table.new_date.apply(lambda x:x.hour)\n",
    "table.head()"
   ]
  },
  {
   "cell_type": "code",
   "execution_count": null,
   "metadata": {},
   "outputs": [],
   "source": [
    "# Adding 'month' column on Timestamp format\n",
    "table['month'] = table.new_date.apply(lambda x:x.month)\n",
    "table.head()"
   ]
  },
  {
   "cell_type": "code",
   "execution_count": null,
   "metadata": {},
   "outputs": [],
   "source": [
    "# table['new_date_year'] = table.new_date.apply(lambda x:x.replace(year=2015))\n",
    "# table.head()"
   ]
  },
  {
   "cell_type": "code",
   "execution_count": null,
   "metadata": {},
   "outputs": [],
   "source": [
    "# 130 * 12 * 3750000"
   ]
  },
  {
   "cell_type": "code",
   "execution_count": null,
   "metadata": {},
   "outputs": [],
   "source": [
    "# Correlation table\n",
    "table.corr()"
   ]
  },
  {
   "cell_type": "code",
   "execution_count": null,
   "metadata": {},
   "outputs": [],
   "source": [
    "# table.plot(kind='line',x='new_date', y='Community Areas')"
   ]
  },
  {
   "cell_type": "code",
   "execution_count": null,
   "metadata": {},
   "outputs": [],
   "source": [
    "# Replacing primary types\n",
    "table.loc[table['Primary Type'] == 'OBSCENITY', 'Primary Type'] = 'OTHER'\n",
    "table.loc[table['Primary Type'] == 'PUBLIC INDECENCY', 'Primary Type'] = 'OTHER'\n",
    "table.loc[table['Primary Type'] == 'NON-CRIMINAL', 'Primary Type'] = 'OTHER'\n",
    "table.loc[table['Primary Type'] == 'OTHER NARCOTIC VIOLATION', 'Primary Type'] = 'OTHER'\n",
    "table.loc[table['Primary Type'] == 'HUMAN TRAFFICKING', 'Primary Type'] = 'OTHER'\n",
    "table.loc[table['Primary Type'] == 'NON - CRIMINAL', 'Primary Type'] = 'OTHER'\n",
    "table.loc[table['Primary Type'] == 'RITUALISM', 'Primary Type'] = 'OTHER'\n",
    "table.loc[table['Primary Type'] == 'NON-CRIMINAL (SUBJECT SPECIFIED)', 'Primary Type'] = 'OTHER'\n",
    "table.loc[table['Primary Type'] == 'DOMESTIC VIOLENCE', 'Primary Type'] = 'OTHER'\n",
    "table.loc[table['Primary Type'] == 'CONCEALED CARRY LICENSE VIOLATION', 'Primary Type'] = 'OTHER'"
   ]
  },
  {
   "cell_type": "code",
   "execution_count": null,
   "metadata": {},
   "outputs": [],
   "source": [
    "# Primary type value counts\n",
    "table.value_counts(subset=['Primary Type'])"
   ]
  },
  {
   "cell_type": "code",
   "execution_count": null,
   "metadata": {},
   "outputs": [],
   "source": [
    "# Columns\n",
    "list(table.columns)"
   ]
  },
  {
   "cell_type": "code",
   "execution_count": null,
   "metadata": {},
   "outputs": [],
   "source": [
    "# Dropping columns\n",
    "table.drop(['ID', 'Case Number', 'Block', 'IUCR', 'Description', 'Beat', 'Wards', 'Ward', 'Zip Codes', 'District', 'Community Area', 'FBI Code', 'X Coordinate', 'Y Coordinate', 'Updated On', 'Location', 'Historical Wards 2003-2015','Community Areas', 'Census Tracts', 'Boundaries - ZIP Codes', 'Police Districts', 'Police Beats'], axis = 1, inplace = True)\n",
    "list(table.columns)"
   ]
  },
  {
   "cell_type": "code",
   "execution_count": null,
   "metadata": {},
   "outputs": [],
   "source": [
    "# Identifying 'Location Description'\n",
    "df = table.drop_duplicates(subset = 'Location Description', keep = 'first')\n",
    "df = df['Location Description']\n",
    "df"
   ]
  },
  {
   "cell_type": "code",
   "execution_count": null,
   "metadata": {},
   "outputs": [],
   "source": [
    "# Adding the column 'LD'\n",
    "table['LD']= ''"
   ]
  },
  {
   "cell_type": "code",
   "execution_count": null,
   "metadata": {},
   "outputs": [],
   "source": [
    "# Modifiying 'Location Description' from 214 to 13 variables"
   ]
  },
  {
   "cell_type": "code",
   "execution_count": null,
   "metadata": {},
   "outputs": [],
   "source": [
    "table.loc[table['Location Description'] == 'AIRPORT BUILDING NON-TERMINAL - NON-SECURE AREA', 'LD'] = 'AIRPORT'\n",
    "table.loc[table['Location Description'] == 'AIRPORT BUILDING NON-TERMINAL - SECURE AREA', 'LD'] = 'AIRPORT'\n",
    "table.loc[table['Location Description'] == 'AIRPORT EXTERIOR - NON-SECURE AREA', 'LD'] = 'AIRPORT'\n",
    "table.loc[table['Location Description'] == 'AIRPORT EXTERIOR - SECURE AREA', 'LD'] = 'AIRPORT'\n",
    "table.loc[table['Location Description'] == 'AIRPORT TERMINAL LOWER LEVEL - NON-SECURE AREA', 'LD'] = 'AIRPORT'\n",
    "table.loc[table['Location Description'] == 'AIRPORT TERMINAL LOWER LEVEL - SECURE AREA', 'LD'] = 'AIRPORT'\n",
    "table.loc[table['Location Description'] == 'AIRPORT TERMINAL MEZZANINE - NON-SECURE AREA', 'LD'] = 'AIRPORT'\n",
    "table.loc[table['Location Description'] == 'AIRPORT TERMINAL UPPER LEVEL - NON-SECURE AREA', 'LD'] = 'AIRPORT'\n",
    "table.loc[table['Location Description'] == 'AIRPORT TERMINAL UPPER LEVEL - SECURE AREA', 'LD'] = 'AIRPORT'\n",
    "table.loc[table['Location Description'] == 'AIRPORT TRANSPORTATION SYSTEM (ATS)', 'LD'] = 'AIRPORT'\n",
    "table.loc[table['Location Description'] == 'AIRPORT VENDING ESTABLISHMENT', 'LD'] = 'AIRPORT'\n",
    "table.loc[table['Location Description'] == 'AIRPORT/AIRCRAFT', 'LD'] = 'AIRPORT'\n",
    "table.loc[table['Location Description'] == 'AIRCRAFT', 'LD'] = 'AIRPORT'"
   ]
  },
  {
   "cell_type": "code",
   "execution_count": null,
   "metadata": {},
   "outputs": [],
   "source": [
    "table.loc[table['Location Description'] == 'CHURCH', 'LD'] = 'CHURCH'\n",
    "table.loc[table['Location Description'] == 'CHURCH / SYNAGOGUE / PLACE OF WORSHIP', 'LD'] = 'CHURCH'\n",
    "table.loc[table['Location Description'] == 'CHURCH PROPERTY', 'LD'] = 'CHURCH'\n",
    "table.loc[table['Location Description'] == 'CHURCH/SYNAGOGUE/PLACE OF WORSHIP', 'LD'] = 'CHURCH'"
   ]
  },
  {
   "cell_type": "code",
   "execution_count": null,
   "metadata": {},
   "outputs": [],
   "source": [
    "table.loc[table['Location Description'] == 'APPLIANCE STORE', 'LD'] = 'COMMERCIAL BUILDING'\n",
    "table.loc[table['Location Description'] == 'ATHLETIC CLUB', 'LD'] = 'COMMERCIAL BUILDING'\n",
    "table.loc[table['Location Description'] == 'BANK', 'LD'] = 'COMMERCIAL BUILDING'\n",
    "table.loc[table['Location Description'] == 'BANQUET HALL', 'LD'] = 'COMMERCIAL BUILDING'\n",
    "table.loc[table['Location Description'] == 'BARBER SHOP/BEAUTY SALON', 'LD'] = 'COMMERCIAL BUILDING'\n",
    "table.loc[table['Location Description'] == 'BARBERSHOP', 'LD'] = 'COMMERCIAL BUILDING'\n",
    "table.loc[table['Location Description'] == 'BOWLING ALLEY', 'LD'] = 'COMMERCIAL BUILDING'\n",
    "table.loc[table['Location Description'] == 'CLEANERS/LAUNDROMAT', 'LD'] = 'COMMERCIAL BUILDING'\n",
    "table.loc[table['Location Description'] == 'CLEANING STORE', 'LD'] = 'COMMERCIAL BUILDING'\n",
    "table.loc[table['Location Description'] == 'CLUB', 'LD'] = 'COMMERCIAL BUILDING'\n",
    "table.loc[table['Location Description'] == 'COIN OPERATED MACHINE', 'LD'] = 'COMMERCIAL BUILDING'\n",
    "table.loc[table['Location Description'] == 'COMMERCIAL / BUSINESS OFFICE', 'LD'] = 'COMMERCIAL BUILDING'\n",
    "table.loc[table['Location Description'] == 'CONVENIENCE STORE', 'LD'] = 'COMMERCIAL BUILDING'\n",
    "table.loc[table['Location Description'] == 'CREDIT UNION', 'LD'] = 'COMMERCIAL BUILDING'\n",
    "table.loc[table['Location Description'] == 'CURRENCY EXCHANGE', 'LD'] = 'COMMERCIAL BUILDING'\n",
    "table.loc[table['Location Description'] == 'DEPARTMENT STORE', 'LD'] = 'COMMERCIAL BUILDING'\n",
    "table.loc[table['Location Description'] == 'DRUG STORE', 'LD'] = 'COMMERCIAL BUILDING'\n",
    "table.loc[table['Location Description'] == 'FACTORY', 'LD'] = 'COMMERCIAL BUILDING'\n",
    "table.loc[table['Location Description'] == 'FACTORY / MANUFACTURING BUILDING', 'LD'] = 'COMMERCIAL BUILDING'\n",
    "table.loc[table['Location Description'] == 'FACTORY/MANUFACTURING BUILDING', 'LD'] = 'COMMERCIAL BUILDING'\n",
    "table.loc[table['Location Description'] == 'FARM', 'LD'] = 'COMMERCIAL BUILDING'\n",
    "table.loc[table['Location Description'] == 'FUNERAL PARLOR', 'LD'] = 'COMMERCIAL BUILDING'\n",
    "table.loc[table['Location Description'] == 'GARAGE/AUTO REPAIR', 'LD'] = 'COMMERCIAL BUILDING'\n",
    "table.loc[table['Location Description'] == 'GAS STATION', 'LD'] = 'COMMERCIAL BUILDING'\n",
    "table.loc[table['Location Description'] == 'GAS STATION DRIVE/PROP.', 'LD'] = 'COMMERCIAL BUILDING'\n",
    "table.loc[table['Location Description'] == 'GROCERY FOOD STORE', 'LD'] = 'COMMERCIAL BUILDING'\n",
    "table.loc[table['Location Description'] == 'HALLWAY', 'LD'] = 'COMMERCIAL BUILDING'\n",
    "table.loc[table['Location Description'] == 'HORSE STABLE', 'LD'] = 'COMMERCIAL BUILDING'\n",
    "table.loc[table['Location Description'] == 'KENNEL', 'LD'] = 'COMMERCIAL BUILDING'\n",
    "table.loc[table['Location Description'] == 'LAUNDRY ROOM', 'LD'] = 'COMMERCIAL BUILDING'\n",
    "table.loc[table['Location Description'] == 'LIQUOR STORE', 'LD'] = 'COMMERCIAL BUILDING'\n",
    "table.loc[table['Location Description'] == 'MOTEL', 'LD'] = 'COMMERCIAL BUILDING'\n",
    "table.loc[table['Location Description'] == 'OFFICE', 'LD'] = 'COMMERCIAL BUILDING'\n",
    "table.loc[table['Location Description'] == 'PAWN SHOP', 'LD'] = 'COMMERCIAL BUILDING'\n",
    "table.loc[table['Location Description'] == 'RESTAURANT', 'LD'] = 'COMMERCIAL BUILDING'\n",
    "table.loc[table['Location Description'] == 'RETAIL STORE', 'LD'] = 'COMMERCIAL BUILDING'\n",
    "table.loc[table['Location Description'] == 'SAVINGS AND LOAN', 'LD'] = 'COMMERCIAL BUILDING'\n",
    "table.loc[table['Location Description'] == 'SMALL RETAIL STORE', 'LD'] = 'COMMERCIAL BUILDING'\n",
    "table.loc[table['Location Description'] == 'TRUCKING TERMINAL', 'LD'] = 'COMMERCIAL BUILDING'\n",
    "table.loc[table['Location Description'] == 'WAREHOUSE', 'LD'] = 'COMMERCIAL BUILDING'"
   ]
  },
  {
   "cell_type": "code",
   "execution_count": null,
   "metadata": {},
   "outputs": [],
   "source": [
    "table.loc[table['Location Description'] == 'CTA \"L\" PLATFORM', 'LD'] = 'CTA'\n",
    "table.loc[table['Location Description'] == 'CTA \"L\" TRAIN', 'LD'] = 'CTA'\n",
    "table.loc[table['Location Description'] == 'CTA BUS', 'LD'] = 'CTA'\n",
    "table.loc[table['Location Description'] == 'CTA BUS STOP', 'LD'] = 'CTA'\n",
    "table.loc[table['Location Description'] == 'CTA GARAGE / OTHER PROPERTY', 'LD'] = 'CTA'\n",
    "table.loc[table['Location Description'] == 'CTA PLATFORM', 'LD'] = 'CTA'\n",
    "table.loc[table['Location Description'] == 'CTA PROPERTY', 'LD'] = 'CTA'\n",
    "table.loc[table['Location Description'] == 'CTA STATION','LD'] = 'CTA'\n",
    "table.loc[table['Location Description'] == 'CTA SUBWAY STATION', 'LD'] = 'CTA'\n",
    "table.loc[table['Location Description'] == 'CTA TRACKS - RIGHT OF WAY', 'LD'] = 'CTA'\n",
    "table.loc[table['Location Description'] == 'CTA TRAIN', 'LD'] = 'CTA'\n",
    "table.loc[table['Location Description'] == 'CTA PARKING LOT / GARAGE / OTHER PROPERTY', 'LD'] = 'CTA'"
   ]
  },
  {
   "cell_type": "code",
   "execution_count": null,
   "metadata": {},
   "outputs": [],
   "source": [
    "table.loc[table['Location Description'] == 'COLLEGE / UNIVERSITY - GROUNDS', 'LD'] = 'EDUCATIONAL BUILDING'\n",
    "table.loc[table['Location Description'] == 'COLLEGE / UNIVERSITY - RESIDENCE HALL', 'LD'] = 'EDUCATIONAL BUILDING'\n",
    "table.loc[table['Location Description'] == 'COLLEGE/UNIVERSITY GROUNDS', 'LD'] = 'EDUCATIONAL BUILDING'\n",
    "table.loc[table['Location Description'] == 'COLLEGE/UNIVERSITY RESIDENCE HALL', 'LD'] = 'EDUCATIONAL BUILDING'\n",
    "table.loc[table['Location Description'] == 'DAY CARE CENTER', 'LD'] = 'EDUCATIONAL BUILDING'\n",
    "table.loc[table['Location Description'] == 'PUBLIC GRAMMAR SCHOOL', 'LD'] = 'EDUCATIONAL BUILDING'\n",
    "table.loc[table['Location Description'] == 'PUBLIC HIGH SCHOOL', 'LD'] = 'EDUCATIONAL BUILDING'\n",
    "table.loc[table['Location Description'] == 'SCHOOL - PRIVATE BUILDING', 'LD'] = 'EDUCATIONAL BUILDING'\n",
    "table.loc[table['Location Description'] == 'SCHOOL - PRIVATE GROUNDS', 'LD'] = 'EDUCATIONAL BUILDING'\n",
    "table.loc[table['Location Description'] == 'SCHOOL - PUBLIC BUILDING', 'LD'] = 'EDUCATIONAL BUILDING'\n",
    "table.loc[table['Location Description'] == 'SCHOOL - PUBLIC GROUNDS', 'LD'] = 'EDUCATIONAL BUILDING'\n",
    "table.loc[table['Location Description'] == 'SCHOOL YARD', 'LD'] = 'EDUCATIONAL BUILDING'\n",
    "table.loc[table['Location Description'] == 'SCHOOL, PRIVATE, BUILDING', 'LD'] = 'EDUCATIONAL BUILDING'\n",
    "table.loc[table['Location Description'] == 'SCHOOL, PRIVATE, GROUNDS', 'LD'] = 'EDUCATIONAL BUILDING'\n",
    "table.loc[table['Location Description'] == 'SCHOOL, PUBLIC, BUILDING', 'LD'] = 'EDUCATIONAL BUILDING'\n",
    "table.loc[table['Location Description'] == 'SCHOOL, PUBLIC, GROUNDS', 'LD'] = 'EDUCATIONAL BUILDING'"
   ]
  },
  {
   "cell_type": "code",
   "execution_count": null,
   "metadata": {},
   "outputs": [],
   "source": [
    "table.loc[table['Location Description'] == 'COUNTY JAIL', 'LD'] = 'FEDERAL PROPERTY'\n",
    "table.loc[table['Location Description'] == 'FEDERAL BUILDING', 'LD'] = 'FEDERAL PROPERTY'\n",
    "table.loc[table['Location Description'] == 'FIRE STATION', 'LD'] = 'FEDERAL PROPERTY'\n",
    "table.loc[table['Location Description'] == 'FOREST PRESERVE', 'LD'] = 'FEDERAL PROPERTY'\n",
    "table.loc[table['Location Description'] == 'GOVERNMENT BUILDING', 'LD'] = 'FEDERAL PROPERTY'\n",
    "table.loc[table['Location Description'] == 'GOVERNMENT BUILDING / PROPERTY', 'LD'] = 'FEDERAL PROPERTY'\n",
    "table.loc[table['Location Description'] == 'GOVERNMENT BUILDING/PROPERTY', 'LD'] = 'FEDERAL PROPERTY'\n",
    "table.loc[table['Location Description'] == 'JAIL / LOCK-UP FACILITY', 'LD'] = 'FEDERAL PROPERTY'\n",
    "table.loc[table['Location Description'] == 'PARK PROPERTY', 'LD'] = 'FEDERAL PROPERTY'\n",
    "table.loc[table['Location Description'] == 'RAILROAD PROPERTY', 'LD'] = 'FEDERAL PROPERTY'"
   ]
  },
  {
   "cell_type": "code",
   "execution_count": null,
   "metadata": {},
   "outputs": [],
   "source": [
    "table.loc[table['Location Description'] == 'ANIMAL HOSPITAL', 'LD'] = 'HOSPITAL'\n",
    "table.loc[table['Location Description'] == 'HOSPITAL', 'LD'] = 'HOSPITAL'\n",
    "table.loc[table['Location Description'] == 'HOSPITAL BUILDING / GROUNDS', 'LD'] = 'HOSPITAL'\n",
    "table.loc[table['Location Description'] == 'HOSPITAL BUILDING/GROUNDS', 'LD'] = 'HOSPITAL'\n",
    "table.loc[table['Location Description'] == 'MEDICAL / DENTAL OFFICE', 'LD'] = 'HOSPITAL'\n",
    "table.loc[table['Location Description'] == 'MEDICAL/DENTAL OFFICE', 'LD'] = 'HOSPITAL'\n",
    "table.loc[table['Location Description'] == 'NURSING / RETIREMENT HOME', 'LD'] = 'HOSPITAL'\n",
    "table.loc[table['Location Description'] == 'NURSING HOME', 'LD'] = 'HOSPITAL'\n",
    "table.loc[table['Location Description'] == 'NURSING HOME/RETIREMENT HOME', 'LD'] = 'HOSPITAL'"
   ]
  },
  {
   "cell_type": "code",
   "execution_count": null,
   "metadata": {},
   "outputs": [],
   "source": [
    "table.loc[table['Location Description'] == 'HOTEL', 'LD'] = 'HOTEL'\n",
    "table.loc[table['Location Description'] == 'HOTEL / MOTEL', 'LD'] = 'HOTEL'\n",
    "table.loc[table['Location Description'] == 'HOTEL/MOTEL', 'LD'] = 'HOTEL'"
   ]
  },
  {
   "cell_type": "code",
   "execution_count": null,
   "metadata": {},
   "outputs": [],
   "source": [
    "table.loc[table['Location Description'] == 'OTHER', 'LD'] = 'OTHER'\n",
    "table.loc[table['Location Description'] == 'OTHER (SPECIFY)', 'LD'] = 'OTHER'\n",
    "table.loc[table['Location Description'] == 'OTHER RAILROAD PROP / TRAIN DEPOT', 'LD'] = 'OTHER'\n",
    "table.loc[table['Location Description'] == 'OTHER RAILROAD PROPERTY / TRAIN DEPOT', 'LD'] = 'OTHER'\n",
    "table.loc[table['Location Description'] == 'COACH HOUSE', 'LD'] = 'OTHER'\n",
    "table.loc[table['Location Description'] == 'GANGWAY', 'LD'] = 'OTHER'\n",
    "table.loc[table['Location Description'] == 'LIBRARY', 'LD'] = 'OTHER'"
   ]
  },
  {
   "cell_type": "code",
   "execution_count": null,
   "metadata": {},
   "outputs": [],
   "source": [
    "table.loc[table['Location Description'] == 'BAR OR TAVERN', 'LD'] = 'PUBLIC ENTERTAINMENT'\n",
    "table.loc[table['Location Description'] == 'MOVIE HOUSE / THEATER', 'LD'] = 'PUBLIC ENTERTAINMENT'\n",
    "table.loc[table['Location Description'] == 'MOVIE HOUSE/THEATER', 'LD'] = 'PUBLIC ENTERTAINMENT'\n",
    "table.loc[table['Location Description'] == 'POOL ROOM', 'LD'] = 'PUBLIC ENTERTAINMENT'\n",
    "table.loc[table['Location Description'] == 'POOLROOM', 'LD'] = 'PUBLIC ENTERTAINMENT'\n",
    "table.loc[table['Location Description'] == 'SPORTS ARENA / STADIUM', 'LD'] = 'PUBLIC ENTERTAINMENT'\n",
    "table.loc[table['Location Description'] == 'SPORTS ARENA/STADIUM', 'LD'] = 'PUBLIC ENTERTAINMENT'\n",
    "table.loc[table['Location Description'] == 'TAVERN', 'LD'] = 'PUBLIC ENTERTAINMENT'\n",
    "table.loc[table['Location Description'] == 'TAVERN / LIQUOR STORE', 'LD'] = 'PUBLIC ENTERTAINMENT'\n",
    "table.loc[table['Location Description'] == 'TAVERN/LIQUOR STORE', 'LD'] = 'PUBLIC ENTERTAINMENT'\n",
    "table.loc[table['Location Description'] == 'YMCA', 'LD'] = 'PUBLIC ENTERTAINMENT'"
   ]
  },
  {
   "cell_type": "code",
   "execution_count": null,
   "metadata": {},
   "outputs": [],
   "source": [
    "table.loc[table['Location Description'] == 'ABANDONED BUILDING', 'LD'] = 'PUBLIC OPEN SPACE'\n",
    "table.loc[table['Location Description'] == 'AIRPORT PARKING LOT', 'LD'] = 'PUBLIC OPEN SPACE'\n",
    "table.loc[table['Location Description'] == 'ALLEY', 'LD'] = 'PUBLIC OPEN SPACE'\n",
    "table.loc[table['Location Description'] == 'ATM (AUTOMATIC TELLER MACHINE)', 'LD'] = 'PUBLIC OPEN SPACE'\n",
    "table.loc[table['Location Description'] == 'BRIDGE', 'LD'] = 'PUBLIC OPEN SPACE'\n",
    "table.loc[table['Location Description'] == 'CAR WASH', 'LD'] = 'PUBLIC OPEN SPACE'\n",
    "table.loc[table['Location Description'] == 'CEMETARY', 'LD'] = 'PUBLIC OPEN SPACE'\n",
    "table.loc[table['Location Description'] == 'CONSTRUCTION SITE', 'LD'] = 'PUBLIC OPEN SPACE'\n",
    "table.loc[table['Location Description'] == 'DRIVEWAY', 'LD'] = 'PUBLIC OPEN SPACE'\n",
    "table.loc[table['Location Description'] == 'DUMPSTER', 'LD'] = 'PUBLIC OPEN SPACE'\n",
    "table.loc[table['Location Description'] == 'EXPRESSWAY EMBANKMENT', 'LD'] = 'PUBLIC OPEN SPACE'\n",
    "table.loc[table['Location Description'] == 'HIGHWAY / EXPRESSWAY', 'LD'] = 'PUBLIC OPEN SPACE'\n",
    "table.loc[table['Location Description'] == 'HIGHWAY/EXPRESSWAY', 'LD'] = 'PUBLIC OPEN SPACE'\n",
    "table.loc[table['Location Description'] == 'JUNK YARD/GARBAGE DUMP', 'LD'] = 'PUBLIC OPEN SPACE'\n",
    "table.loc[table['Location Description'] == 'LAGOON', 'LD'] = 'PUBLIC OPEN SPACE'\n",
    "table.loc[table['Location Description'] == 'LAKE', 'LD'] = 'PUBLIC OPEN SPACE'\n",
    "table.loc[table['Location Description'] == 'LAKEFRONT / WATERFRONT / RIVERBANK', 'LD'] = 'PUBLIC OPEN SPACE'\n",
    "table.loc[table['Location Description'] == 'LAKEFRONT/WATERFRONT/RIVERBANK', 'LD'] = 'PUBLIC OPEN SPACE'\n",
    "table.loc[table['Location Description'] == 'LIVERY AUTO', 'LD'] = 'PUBLIC OPEN SPACE'\n",
    "table.loc[table['Location Description'] == 'LIVERY STAND OFFICE', 'LD'] = 'PUBLIC OPEN SPACE'\n",
    "table.loc[table['Location Description'] == 'LOADING DOCK', 'LD'] = 'PUBLIC OPEN SPACE'\n",
    "table.loc[table['Location Description'] == 'NEWSSTAND', 'LD'] = 'PUBLIC OPEN SPACE'\n",
    "table.loc[table['Location Description'] == 'PARKING LOT', 'LD'] = 'PUBLIC OPEN SPACE'\n",
    "table.loc[table['Location Description'] == 'PARKING LOT / GARAGE (NON RESIDENTIAL)', 'LD'] = 'PUBLIC OPEN SPACE'\n",
    "table.loc[table['Location Description'] == 'PARKING LOT/GARAGE(NON.RESID.)', 'LD'] = 'PUBLIC OPEN SPACE'\n",
    "table.loc[table['Location Description'] == 'POLICE FACILITY / VEHICLE PARKING LOT', 'LD'] = 'PUBLIC OPEN SPACE'\n",
    "table.loc[table['Location Description'] == 'POLICE FACILITY/VEH PARKING LOT', 'LD'] = 'PUBLIC OPEN SPACE'\n",
    "table.loc[table['Location Description'] == 'PRAIRIE', 'LD'] = 'PUBLIC OPEN SPACE'\n",
    "table.loc[table['Location Description'] == 'RIVER', 'LD'] = 'PUBLIC OPEN SPACE'\n",
    "table.loc[table['Location Description'] == 'RIVER BANK', 'LD'] = 'PUBLIC OPEN SPACE'\n",
    "table.loc[table['Location Description'] == 'SEWER', 'LD'] = 'PUBLIC OPEN SPACE'\n",
    "table.loc[table['Location Description'] == 'SIDEWALK', 'LD'] = 'PUBLIC OPEN SPACE'\n",
    "table.loc[table['Location Description'] == 'STREET', 'LD'] = 'PUBLIC OPEN SPACE'\n",
    "table.loc[table['Location Description'] == 'VACANT LOT', 'LD'] = 'PUBLIC OPEN SPACE'\n",
    "table.loc[table['Location Description'] == 'VACANT LOT / LAND', 'LD'] = 'PUBLIC OPEN SPACE'\n",
    "table.loc[table['Location Description'] == 'VACANT LOT/LAND', 'LD'] = 'PUBLIC OPEN SPACE'\n",
    "table.loc[table['Location Description'] == 'WOODED AREA', 'LD'] = 'PUBLIC OPEN SPACE'"
   ]
  },
  {
   "cell_type": "code",
   "execution_count": null,
   "metadata": {},
   "outputs": [],
   "source": [
    "table.loc[table['Location Description'] == 'CHA PARKING LOT', 'LD'] = 'RESIDENCE'\n",
    "table.loc[table['Location Description'] == 'CHA PARKING LOT / GROUNDS', 'LD'] = 'RESIDENCE'\n",
    "table.loc[table['Location Description'] == 'CHA PARKING LOT/GROUNDS', 'LD'] = 'RESIDENCE'\n",
    "table.loc[table['Location Description'] == 'APARTMENT', 'LD'] = 'RESIDENCE'\n",
    "table.loc[table['Location Description'] == 'BASEMENT', 'LD'] = 'RESIDENCE'\n",
    "table.loc[table['Location Description'] == 'CHA APARTMENT', 'LD'] = 'RESIDENCE'\n",
    "table.loc[table['Location Description'] == 'CHA BREEZEWAY', 'LD'] = 'RESIDENCE'\n",
    "table.loc[table['Location Description'] == 'CHA ELEVATOR', 'LD'] = 'RESIDENCE'\n",
    "table.loc[table['Location Description'] == 'CHA GROUNDS', 'LD'] = 'RESIDENCE'\n",
    "table.loc[table['Location Description'] == 'CHA HALLWAY', 'LD'] = 'RESIDENCE'\n",
    "table.loc[table['Location Description'] == 'CHA HALLWAY / STAIRWELL / ELEVATOR', 'LD'] = 'RESIDENCE'\n",
    "table.loc[table['Location Description'] == 'CHA HALLWAY/STAIRWELL/ELEVATOR', 'LD'] = 'RESIDENCE'\n",
    "table.loc[table['Location Description'] == 'CHA LOBBY', 'LD'] = 'RESIDENCE'\n",
    "table.loc[table['Location Description'] == 'CHA PLAY LOT', 'LD'] = 'RESIDENCE'\n",
    "table.loc[table['Location Description'] == 'CHA STAIRWELL', 'LD'] = 'RESIDENCE'\n",
    "table.loc[table['Location Description'] == 'DRIVEWAY - RESIDENTIAL', 'LD'] = 'RESIDENCE'\n",
    "table.loc[table['Location Description'] == 'ELEVATOR', 'LD'] = 'RESIDENCE'\n",
    "table.loc[table['Location Description'] == 'GARAGE', 'LD'] = 'RESIDENCE'\n",
    "table.loc[table['Location Description'] == 'HOUSE', 'LD'] = 'RESIDENCE'\n",
    "table.loc[table['Location Description'] == 'PORCH', 'LD'] = 'RESIDENCE'\n",
    "table.loc[table['Location Description'] == 'RESIDENCE', 'LD'] = 'RESIDENCE'\n",
    "table.loc[table['Location Description'] == 'RESIDENCE - GARAGE', 'LD'] = 'RESIDENCE'\n",
    "table.loc[table['Location Description'] == 'RESIDENCE - PORCH / HALLWAY', 'LD'] = 'RESIDENCE'\n",
    "table.loc[table['Location Description'] == 'RESIDENCE - YARD (FRONT / BACK)', 'LD'] = 'RESIDENCE'\n",
    "table.loc[table['Location Description'] == 'RESIDENCE PORCH/HALLWAY', 'LD'] = 'RESIDENCE'\n",
    "table.loc[table['Location Description'] == 'RESIDENCE-GARAGE', 'LD'] = 'RESIDENCE'\n",
    "table.loc[table['Location Description'] == 'RESIDENTIAL YARD (FRONT/BACK)', 'LD'] = 'RESIDENCE'\n",
    "table.loc[table['Location Description'] == 'ROOMING HOUSE', 'LD'] = 'RESIDENCE'\n",
    "table.loc[table['Location Description'] == 'STAIRWELL', 'LD'] = 'RESIDENCE'\n",
    "table.loc[table['Location Description'] == 'VESTIBULE', 'LD'] = 'RESIDENCE'\n",
    "table.loc[table['Location Description'] == 'YARD', 'LD'] = 'RESIDENCE'"
   ]
  },
  {
   "cell_type": "code",
   "execution_count": null,
   "metadata": {},
   "outputs": [],
   "source": [
    "table.loc[table['Location Description'] == 'AUTO', 'LD'] = 'VEHICLE'\n",
    "table.loc[table['Location Description'] == 'AUTO / BOAT / RV DEALERSHIP', 'LD'] = 'VEHICLE'\n",
    "table.loc[table['Location Description'] == 'BOAT / WATERCRAFT', 'LD'] = 'VEHICLE'\n",
    "table.loc[table['Location Description'] == 'BOAT/WATERCRAFT', 'LD'] = 'VEHICLE'\n",
    "table.loc[table['Location Description'] == 'DELIVERY TRUCK', 'LD'] = 'VEHICLE'\n",
    "table.loc[table['Location Description'] == 'OTHER COMMERCIAL TRANSPORTATION', 'LD'] = 'VEHICLE'\n",
    "table.loc[table['Location Description'] == 'TAXI CAB', 'LD'] = 'VEHICLE'\n",
    "table.loc[table['Location Description'] == 'TAXICAB', 'LD'] = 'VEHICLE'\n",
    "table.loc[table['Location Description'] == 'TRAILER', 'LD'] = 'VEHICLE'\n",
    "table.loc[table['Location Description'] == 'TRUCK', 'LD'] = 'VEHICLE'\n",
    "table.loc[table['Location Description'] == 'VEHICLE - COMMERCIAL', 'LD'] = 'VEHICLE'\n",
    "table.loc[table['Location Description'] == 'VEHICLE - COMMERCIAL: ENTERTAINMENT / PARTY BUS', 'LD'] = 'VEHICLE'\n",
    "table.loc[table['Location Description'] == 'VEHICLE - COMMERCIAL: TROLLEY BUS', 'LD'] = 'VEHICLE'\n",
    "table.loc[table['Location Description'] == 'VEHICLE - DELIVERY TRUCK', 'LD'] = 'VEHICLE'\n",
    "table.loc[table['Location Description'] == 'VEHICLE - OTHER RIDE SERVICE', 'LD'] = 'VEHICLE'\n",
    "table.loc[table['Location Description'] == 'VEHICLE - OTHER RIDE SHARE SERVICE (E.G., UBER, LYFT)', 'LD'] = 'VEHICLE'\n",
    "table.loc[table['Location Description'] == 'VEHICLE - OTHER RIDE SHARE SERVICE (LYFT, UBER, ETC.)', 'LD'] = 'VEHICLE'\n",
    "table.loc[table['Location Description'] == 'VEHICLE NON-COMMERCIAL', 'LD'] = 'VEHICLE'\n",
    "table.loc[table['Location Description'] == 'VEHICLE-COMMERCIAL', 'LD'] = 'VEHICLE'\n",
    "table.loc[table['Location Description'] == 'VEHICLE-COMMERCIAL - ENTERTAINMENT/PARTY BUS', 'LD'] = 'VEHICLE'\n",
    "table.loc[table['Location Description'] == 'VEHICLE-COMMERCIAL - TROLLEY BUS', 'LD'] = 'VEHICLE'"
   ]
  },
  {
   "cell_type": "code",
   "execution_count": null,
   "metadata": {},
   "outputs": [],
   "source": [
    "# Identifying 'LD'\n",
    "df = table.drop_duplicates(subset = 'LD', keep = 'first')\n",
    "df = df['LD']\n",
    "df"
   ]
  },
  {
   "cell_type": "code",
   "execution_count": null,
   "metadata": {},
   "outputs": [],
   "source": [
    "# Dropping 'Location Description' column\n",
    "table.drop(['Location Description'], axis = 1, inplace = True)"
   ]
  },
  {
   "cell_type": "code",
   "execution_count": null,
   "metadata": {},
   "outputs": [],
   "source": [
    "# Renaming 'LD' as 'Location Description' column\n",
    "table.rename(columns={'LD': 'Location Description',}, inplace=True, errors='raise')"
   ]
  },
  {
   "cell_type": "code",
   "execution_count": null,
   "metadata": {},
   "outputs": [],
   "source": [
    "table.head()"
   ]
  },
  {
   "cell_type": "code",
   "execution_count": null,
   "metadata": {},
   "outputs": [],
   "source": [
    "# Dropping 'Location Description' column\n",
    "table_ = table.drop(['Date', 'Year'], axis = 1)\n",
    "table_.head()"
   ]
  },
  {
   "cell_type": "code",
   "execution_count": null,
   "metadata": {},
   "outputs": [],
   "source": [
    "# # Outing as csv\n",
    "# # DF with original Date and Year columns\n",
    "# table.to_csv(r'../Resources/chicago_crime_db.csv', index = False)\n",
    "# # DF without original Date and Year columns\n",
    "# table_.to_csv(r'../Resources/chicago_crime_db_.csv', index = False)"
   ]
  },
  {
   "cell_type": "code",
   "execution_count": null,
   "metadata": {},
   "outputs": [],
   "source": [
    "# Reading csv\n",
    "# df = pd.read_csv('../Resources/Resources/chicago_crime_db_.csv')\n",
    "# df.head()"
   ]
  },
  {
   "cell_type": "code",
   "execution_count": null,
   "metadata": {},
   "outputs": [],
   "source": [
    "# Binning hours"
   ]
  },
  {
   "cell_type": "code",
   "execution_count": null,
   "metadata": {},
   "outputs": [],
   "source": [
    "# Binning seasons"
   ]
  }
 ],
 "metadata": {
  "kernelspec": {
   "display_name": "Python [conda env:root] *",
   "language": "python",
   "name": "conda-root-py"
  },
  "language_info": {
   "codemirror_mode": {
    "name": "ipython",
    "version": 3
   },
   "file_extension": ".py",
   "mimetype": "text/x-python",
   "name": "python",
   "nbconvert_exporter": "python",
   "pygments_lexer": "ipython3",
   "version": "3.8.5"
  }
 },
 "nbformat": 4,
 "nbformat_minor": 4
}
